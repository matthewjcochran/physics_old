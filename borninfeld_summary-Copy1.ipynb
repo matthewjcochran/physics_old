{
 "cells": [
  {
   "cell_type": "markdown",
   "metadata": {},
   "source": [
    "## Notation\n",
    "\n",
    "\\begin{gather}\n",
    "    \\mathcal{L}(A) \\equiv \\mathcal{L}(A_x, A_y, A_z)\n",
    "\\end{gather}\n",
    "\n",
    "\\begin{gather}\n",
    "    \\frac{\\partial \\mathcal{L}}{\\partial A}\n",
    "    \\equiv \\frac{\\partial \\mathcal{L}}{\\partial A_x} \\hat x\n",
    "    + \\frac{\\partial \\mathcal{L}}{\\partial A_y} \\hat y\n",
    "    + \\frac{\\partial \\mathcal{L}}{\\partial A_z} \\hat z\n",
    "\\end{gather}"
   ]
  },
  {
   "cell_type": "markdown",
   "metadata": {},
   "source": [
    "#### Scalar Lagrangian\n",
    "\n",
    "\\begin{gather}\n",
    "    \\mathcal{L}\\bigg( \\phi, \\frac{\\partial \\phi}{\\partial t}, \\nabla \\phi \\bigg)\n",
    "\\end{gather}\n",
    "\n",
    "\\begin{gather}\n",
    "    \\frac{\\partial}{\\partial t} \\frac{\\partial \\mathcal{L}}{\\partial (\\partial_t \\phi)}\n",
    "    + \\nabla \\cdot \\frac{\\partial \\mathcal{L}}{\\partial (\\nabla \\phi)}\n",
    "    = \\frac{\\partial \\mathcal{L}}{\\partial \\phi}\n",
    "\\end{gather}"
   ]
  },
  {
   "cell_type": "markdown",
   "metadata": {},
   "source": [
    "#### Vector Lagrangian\n",
    "\n",
    "\\begin{gather}\n",
    "    \\mathcal{L}\\bigg(A, \\frac{\\partial A}{\\partial t}, \\nabla \\cdot A, \\nabla \\times A\\bigg)\n",
    "\\end{gather}\n",
    "\n",
    "\\begin{gather}\n",
    "    \\frac{\\partial}{\\partial t} \\frac{\\partial \\mathcal{L}}{\\partial (\\partial_t A)}\n",
    "    + \\nabla \\frac{\\partial \\mathcal{L}}{\\partial (\\nabla \\cdot A)}\n",
    "    - \\nabla \\times \\frac{\\partial \\mathcal{L}}{\\partial (\\nabla \\times A)}\n",
    "    = \\frac{\\partial \\mathcal{L}}{\\partial A}\n",
    "\\end{gather}"
   ]
  },
  {
   "cell_type": "markdown",
   "metadata": {},
   "source": [
    "## General Lagrangian\n",
    "\n",
    "\\begin{gather}\n",
    "    \\mathcal{L}(E, B, \\phi, A)\n",
    "    \\qquad\n",
    "    E = -\\nabla \\phi - \\frac{\\partial A}{\\partial t}\n",
    "    \\qquad\n",
    "    B = \\nabla \\times A\n",
    "\\end{gather}"
   ]
  },
  {
   "cell_type": "markdown",
   "metadata": {},
   "source": [
    "#### Lagrange Multipliers\n",
    "\n",
    "\\begin{gather}\n",
    "    \\mathcal{K}\n",
    "    = \\mathcal{L}\n",
    "    - D \\cdot \\bigg(E + \\nabla \\phi + \\frac{\\partial A}{\\partial t}\\bigg)\n",
    "    + H \\cdot (B - \\nabla \\times A)\n",
    "\\end{gather}"
   ]
  },
  {
   "cell_type": "markdown",
   "metadata": {},
   "source": [
    "#### Equations\n",
    "\n",
    "\\begin{gather}\n",
    "    \\frac{\\partial \\mathcal{K}}{\\partial D} = 0\n",
    "    \\qquad\n",
    "    \\frac{\\partial \\mathcal{K}}{\\partial H} = 0\n",
    "\\end{gather}\n",
    "\n",
    "\\begin{gather}\n",
    "    \\frac{\\partial \\mathcal{K}}{\\partial E} = 0\n",
    "    \\qquad\n",
    "    \\frac{\\partial \\mathcal{K}}{\\partial B} = 0\n",
    "\\end{gather}\n",
    "\n",
    "\\begin{gather}\n",
    "    \\nabla \\cdot \\frac{\\partial \\mathcal{K}}{\\partial (\\nabla \\phi)}\n",
    "    = \\frac{\\partial \\mathcal{K}}{\\partial \\phi}\n",
    "    \\\\\n",
    "    \\frac{\\partial}{\\partial t} \\frac{\\partial \\mathcal{K}}{\\partial (\\partial_t A)}\n",
    "    - \\nabla \\times \\frac{\\partial \\mathcal{K}}{\\partial (\\nabla \\times A)}\n",
    "    = \\frac{\\partial \\mathcal{K}}{\\partial A}\n",
    "\\end{gather}"
   ]
  },
  {
   "cell_type": "markdown",
   "metadata": {},
   "source": [
    "#### Equations\n",
    "\n",
    "\\begin{gather}\n",
    "    E = -\\nabla \\phi - \\frac{\\partial A}{\\partial t}\n",
    "    \\qquad\n",
    "    B = \\nabla \\times A\n",
    "\\end{gather}\n",
    "\n",
    "\\begin{gather}\n",
    "    D =  \\frac{\\partial \\mathcal{L}}{\\partial E}\n",
    "    \\qquad\n",
    "    H = -\\frac{\\partial \\mathcal{L}}{\\partial B}\n",
    "\\end{gather}\n",
    "\n",
    "\n",
    "\\begin{gather}\n",
    "    \\nabla \\cdot D = -\\frac{\\partial \\mathcal{L}}{\\partial \\phi}\n",
    "    \\qquad\n",
    "    \\nabla \\times H - \\frac{\\partial D}{\\partial t}\n",
    "    = \\frac{\\partial \\mathcal{L}}{\\partial A}\n",
    "\\end{gather}"
   ]
  },
  {
   "cell_type": "markdown",
   "metadata": {},
   "source": [
    "## Maxwell Lagrangian\n",
    "\n",
    "\\begin{gather}\n",
    "    \\mathcal{L} = \\frac{1}{2}\\bigg(\\epsilon_0 E^2 - \\frac{B^2}{\\mu_0} \\bigg)\n",
    "    - \\rho \\phi + J \\cdot A\n",
    "\\end{gather}"
   ]
  },
  {
   "cell_type": "markdown",
   "metadata": {},
   "source": [
    "#### Equations\n",
    "\n",
    "\\begin{gather}\n",
    "    E = -\\nabla \\phi - \\frac{\\partial A}{\\partial t}\n",
    "    \\qquad\n",
    "    B = \\nabla \\times A\n",
    "\\end{gather}\n",
    "\n",
    "\\begin{gather}\n",
    "    D =  \\epsilon_0 E\n",
    "    \\qquad\n",
    "    H = \\frac{B}{\\mu_0}\n",
    "\\end{gather}\n",
    "\n",
    "\\begin{gather}\n",
    "    \\nabla \\cdot D = \\rho\n",
    "    \\qquad\n",
    "    \\nabla \\times H - \\frac{\\partial D}{\\partial t} = J\n",
    "\\end{gather}"
   ]
  },
  {
   "cell_type": "markdown",
   "metadata": {},
   "source": [
    "## Born-Infeld Lagrangian\n",
    "\n",
    "We follow the paper by Born and Infeld, but with SI units and modern notation. The final result for $E_{max} = b$ matches Wikipedia.\n",
    "\n",
    "\\begin{gather}\n",
    "    \\mathcal{F} = \\frac{E^2 - c^2 B^2}{b^2}\n",
    "    \\qquad\n",
    "    \\mathcal{G} = \\frac{E \\cdot c B}{b^2}\n",
    "\\end{gather}\n",
    "\n",
    "\\begin{gather}\n",
    "    \\mathcal{L} = \\epsilon_0 b^2 \\big( 1 - \\sqrt{1 - \\mathcal{F} - \\mathcal{G}^2} \\big)\n",
    "\\end{gather}"
   ]
  },
  {
   "cell_type": "markdown",
   "metadata": {},
   "source": [
    "#### Equations\n",
    "\n",
    "\\begin{gather}\n",
    "    E = -\\nabla \\phi - \\frac{\\partial A}{\\partial t}\n",
    "    \\qquad\n",
    "    B = \\nabla \\times A\n",
    "\\end{gather}\n",
    "\n",
    "\\begin{gather}\n",
    "    D = \\epsilon_0 \\frac{E + \\mathcal{G} c B}{\\sqrt{1 - \\mathcal{F} - \\mathcal{G}^2}}\n",
    "    \\qquad\n",
    "    H = \\frac{1}{\\mu_0} \\frac{B - \\mathcal{G} E/c}{\\sqrt{1 - \\mathcal{F} - \\mathcal{G}^2}}\n",
    "\\end{gather}\n",
    "\n",
    "\\begin{gather}\n",
    "    \\nabla \\cdot D = 0\n",
    "    \\qquad\n",
    "    \\nabla \\times H - \\frac{\\partial D}{\\partial t} = 0\n",
    "\\end{gather}"
   ]
  },
  {
   "cell_type": "markdown",
   "metadata": {},
   "source": [
    "#### Invert\n",
    "\n",
    "\n",
    "\\begin{gather}\n",
    "    \\mathcal{P} = \\frac{D^2 - H^2/c^2 }{\\epsilon_0^2 b^2}\n",
    "    \\qquad\n",
    "    \\mathcal{Q} = \\frac{D \\cdot H/c}{\\epsilon_0^2b^2}\n",
    "\\end{gather}\n",
    "\n",
    "\\begin{gather}\n",
    "    \\mathcal{P} = \\frac{\\mathcal{F} + 4 \\mathcal{G}^2 - \\mathcal{F} \\mathcal{G}^2}\n",
    "        {1 - \\mathcal{F} - \\mathcal{G}^2}\n",
    "    \\qquad\n",
    "    \\mathcal{Q} = \\mathcal{G}\n",
    "\\end{gather}\n",
    "\n",
    "\\begin{gather}\n",
    "    \\mathcal{F} = \\frac{\\mathcal{P} - 4 \\mathcal{Q}^2 - \\mathcal{P} \\mathcal{Q}^2}\n",
    "        {1 + \\mathcal{P} - \\mathcal{Q}^2}\n",
    "        \\qquad\n",
    "    \\mathcal{G} = \\mathcal{Q}\n",
    "\\end{gather}\n",
    "\n",
    "\\begin{gather}\n",
    "    1 - \\mathcal{F} - \\mathcal{G}^2\n",
    "    = \\frac{(1 + \\mathcal{Q}^2)^2}{1 + \\mathcal{P} - \\mathcal{Q}^2} \n",
    "\\end{gather}\n",
    "\n",
    "\\begin{gather}\n",
    "    E = \\frac{1}{\\epsilon_0}\\frac{D - \\mathcal{Q} H/c}{\\sqrt{1 + \\mathcal{P} - \\mathcal{Q}^2}}\n",
    "    \\qquad\n",
    "    B = \\mu_0 \\frac{H + \\mathcal{Q} c D}{\\sqrt{1 + \\mathcal{P} - \\mathcal{Q}^2}}\n",
    "\\end{gather}"
   ]
  },
  {
   "cell_type": "markdown",
   "metadata": {},
   "source": [
    "#### Curiosity\n",
    "\n",
    "Hamiltonian? Does not reduce to energy.\n",
    "\n",
    "\\begin{gather}\n",
    "    \\mathcal{H} = D \\cdot E - H \\cdot B - \\mathcal{L}\n",
    "\\end{gather}\n",
    "\n",
    "\\begin{gather}\n",
    "    \\mathcal{H} = \\epsilon_0 b^2 \\big( \\sqrt{1 + \\mathcal{P} - \\mathcal{Q}^2} - 1 \\big)\n",
    "\\end{gather}\n",
    "\n",
    "\\begin{gather}\n",
    "    E = \\frac{\\partial \\mathcal{H}}{\\partial D}\n",
    "    \\qquad\n",
    "    B = -\\frac{\\partial \\mathcal{H}}{\\partial H}\n",
    "\\end{gather}"
   ]
  },
  {
   "cell_type": "markdown",
   "metadata": {},
   "source": [
    "#### Electron\n",
    "\n",
    "\\begin{gather}\n",
    "    D = \\frac{e}{4 \\pi r^2} \\hat r\n",
    "\\end{gather}\n",
    "\n",
    "\\begin{gather}\n",
    "    E = \\frac{e}{4 \\pi \\epsilon_0} \\sqrt{\\frac{1}{r^4 + r_0^4}} \\hat r\n",
    "    \\qquad\n",
    "    r_0^2 = \\frac{e}{4 \\pi \\epsilon_0} \\frac{1}{b}\n",
    "\\end{gather}\n",
    "\n",
    "\\begin{gather}\n",
    "    U = E \\cdot D - \\mathcal{L}\n",
    "\\end{gather}\n",
    "\n",
    "\\begin{gather}\n",
    "    \\int_0^\\infty U \\ 4 \\pi r^2 dr = \\frac{1}{4 \\pi \\epsilon_0} \\frac{e^2}{r_0} (I_1 - I_2)\n",
    "\\end{gather}\n",
    "\n",
    "\\begin{gather}\n",
    "    I_1 = \\int_0^\\infty \\sqrt{\\frac{1}{1 + x^4}} dx\n",
    "    \\qquad\n",
    "    I_2 = \\int_0^\\infty \\Bigg(1 - \\sqrt{\\frac{x^4}{1 + x^4}} \\Bigg) x^2 dx\n",
    "\\end{gather}\n",
    "\n",
    "\\begin{gather}\n",
    "    I_1 - I_2 = \\frac{2}{3} I_1\n",
    "    \\qquad\n",
    "    I_1 = \\frac{\\Gamma^2(1/4)}{4 \\sqrt{\\pi}}\n",
    "\\end{gather}\n",
    "\n",
    "\\begin{gather}\n",
    "    \\int_0^\\infty U \\ 4 \\pi r^2 dr = m c^2\n",
    "\\end{gather}\n",
    "\n",
    "\\begin{gather}\n",
    "    r_0 = \\frac{I_1}{6 \\pi} \\frac{\\mu_0 e^2}{m}\n",
    "    \\qquad\n",
    "    b = \\frac{1}{4 \\pi \\epsilon_0} \\frac{e}{r_0^2}\n",
    "\\end{gather}\n",
    "\n",
    "\\begin{gather}\n",
    "    r_0 = 3.483 \\times 10^{-15} \\mathrm{m}\n",
    "    \\qquad\n",
    "    b = 1.187 \\times 10^{20} \\mathrm{V/m}\n",
    "\\end{gather}"
   ]
  },
  {
   "cell_type": "markdown",
   "metadata": {},
   "source": [
    "## Calculations"
   ]
  },
  {
   "cell_type": "code",
   "execution_count": 1,
   "metadata": {},
   "outputs": [],
   "source": [
    "import sympy as sp\n",
    "from scipy.constants import pi, c, epsilon_0, mu_0, e, m_e"
   ]
  },
  {
   "cell_type": "code",
   "execution_count": 2,
   "metadata": {},
   "outputs": [
    {
     "data": {
      "text/latex": [
       "$\\displaystyle \\frac{\\Gamma^{2}\\left(\\frac{1}{4}\\right)}{4 \\sqrt{\\pi}}$"
      ],
      "text/plain": [
       "gamma(1/4)**2/(4*sqrt(pi))"
      ]
     },
     "metadata": {},
     "output_type": "display_data"
    },
    {
     "data": {
      "text/latex": [
       "$\\displaystyle 1.854$"
      ],
      "text/plain": [
       "1.854"
      ]
     },
     "metadata": {},
     "output_type": "display_data"
    }
   ],
   "source": [
    "x = sp.Symbol('x')\n",
    "I_1 = sp.integrate(sp.sqrt(1/(1 + x**4)), (x, 0 , sp.oo))\n",
    "display(I_1)\n",
    "display(sp.N(I_1, 4))"
   ]
  },
  {
   "cell_type": "code",
   "execution_count": 3,
   "metadata": {},
   "outputs": [
    {
     "data": {
      "text/latex": [
       "$\\displaystyle 3.483 \\cdot 10^{-15}$"
      ],
      "text/plain": [
       "3.483e-15"
      ]
     },
     "metadata": {},
     "output_type": "display_data"
    },
    {
     "data": {
      "text/latex": [
       "$\\displaystyle 1.187 \\cdot 10^{20}$"
      ],
      "text/plain": [
       "1.187e+20"
      ]
     },
     "metadata": {},
     "output_type": "display_data"
    }
   ],
   "source": [
    "r_0 = sp.N(I_1)/6/pi*mu_0*e**2/m_e\n",
    "display(sp.N(r_0, 4))\n",
    "\n",
    "b = 1/4/pi/epsilon_0*e/r_0**2\n",
    "display(sp.N(b, 4))"
   ]
  },
  {
   "cell_type": "code",
   "execution_count": null,
   "metadata": {},
   "outputs": [],
   "source": []
  },
  {
   "cell_type": "code",
   "execution_count": null,
   "metadata": {},
   "outputs": [],
   "source": []
  },
  {
   "cell_type": "code",
   "execution_count": null,
   "metadata": {},
   "outputs": [],
   "source": []
  }
 ],
 "metadata": {
  "kernelspec": {
   "display_name": "Python 3",
   "language": "python",
   "name": "python3"
  },
  "language_info": {
   "codemirror_mode": {
    "name": "ipython",
    "version": 3
   },
   "file_extension": ".py",
   "mimetype": "text/x-python",
   "name": "python",
   "nbconvert_exporter": "python",
   "pygments_lexer": "ipython3",
   "version": "3.8.5"
  }
 },
 "nbformat": 4,
 "nbformat_minor": 2
}
