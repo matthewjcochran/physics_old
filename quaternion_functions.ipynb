{
 "cells": [
  {
   "cell_type": "markdown",
   "metadata": {},
   "source": [
    "## Quaternions\n",
    "\n",
    "Classic notation is $i, j, k$.  We use $i_1, i_2, i_3$.\n",
    "\n",
    "\\begin{equation}\n",
    "    i_1^2 = i_2^2 = i_3^2 = -1 \\qquad\n",
    "    i_1 i_2 i_3 = -1\n",
    "\\end{equation}\n",
    "\n",
    "\\begin{equation}\n",
    "    i_1 i_2 = i_3 \\qquad\n",
    "    i_2 i_3 = i_1 \\qquad\n",
    "    i_3 i_1 = i_2\n",
    "\\end{equation}\n",
    "\n",
    "\\begin{equation}\n",
    "    i_1 i_2 = -i_2 i_1 \\qquad\n",
    "    i_2 i_3 = -i_3 i_2 \\qquad\n",
    "    i_3 i_1 = -i_1 i_3\n",
    "\\end{equation}"
   ]
  },
  {
   "cell_type": "markdown",
   "metadata": {},
   "source": [
    "## Variables\n",
    "\n",
    "\\begin{equation}\n",
    "    z = x + i_1 y_1 + i_2 y_2 + i_3 y_3\n",
    "\\end{equation}\n",
    "\n",
    "\\begin{equation}\n",
    "    w = u + i_1 v_1 + i_2 v_2 + i_3 v_3\n",
    "\\end{equation}"
   ]
  },
  {
   "cell_type": "markdown",
   "metadata": {},
   "source": [
    "## Functions\n",
    "\n",
    "The idea is to generalize analytic functions to quaternions.\n",
    "\n",
    "\\begin{equation}\n",
    "    \\frac{\\partial w}{\\partial x} = \\frac{d w}{d z} \\qquad\n",
    "    \\frac{\\partial w}{\\partial y_1} = \\frac{d w}{d z} i_1 \\qquad\n",
    "    \\frac{\\partial w}{\\partial y_2} = \\frac{d w}{d z} i_2 \\qquad\n",
    "    \\frac{\\partial w}{\\partial y_3} = \\frac{d w}{d z} i_3\n",
    "\\end{equation}\n",
    "\n",
    "\\begin{equation}\n",
    "    \\frac{d w}{d z}\n",
    "    = \\frac{\\partial w}{\\partial x}\n",
    "    = -i_1 \\frac{\\partial w}{\\partial y_1}\n",
    "    = -i_2 \\frac{\\partial w}{\\partial y_2}\n",
    "    = -i_3 \\frac{\\partial w}{\\partial y_3}\n",
    "\\end{equation}"
   ]
  },
  {
   "cell_type": "markdown",
   "metadata": {},
   "source": [
    "\\begin{split}\n",
    "    \\frac{\\partial u}{\\partial x}\n",
    "    + i_1 \\frac{\\partial v_1}{\\partial x}\n",
    "    + i_2 \\frac{\\partial v_2}{\\partial x}\n",
    "    + i_3 \\frac{\\partial v_3}{\\partial x}\n",
    "    &= -i_1 \\Big(\\frac{\\partial u}{\\partial y_1}\n",
    "    + i_1 \\frac{\\partial v_1}{\\partial y_1}\n",
    "    + i_2 \\frac{\\partial v_2}{\\partial y_1}\n",
    "    + i_3 \\frac{\\partial v_3}{\\partial y_1}\\Big)\\\\\n",
    "    &= -i_2 \\Big(\\frac{\\partial u}{\\partial y_2}\n",
    "    + i_1 \\frac{\\partial v_1}{\\partial y_2}\n",
    "    + i_2 \\frac{\\partial v_2}{\\partial y_2}\n",
    "    + i_3 \\frac{\\partial v_3}{\\partial y_2}\\Big)\\\\\n",
    "    &= -i_3 \\Big(\\frac{\\partial u}{\\partial y_3}\n",
    "    + i_1 \\frac{\\partial v_1}{\\partial y_3}\n",
    "    + i_2 \\frac{\\partial v_2}{\\partial y_3}\n",
    "    + i_3 \\frac{\\partial v_3}{\\partial y_3}\\Big)\\\\\n",
    "\\end{split}"
   ]
  },
  {
   "cell_type": "markdown",
   "metadata": {},
   "source": [
    "\\begin{split}\n",
    "    \\frac{\\partial u}{\\partial x}\n",
    "    + i_1 \\frac{\\partial v_1}{\\partial x}\n",
    "    + i_2 \\frac{\\partial v_2}{\\partial x}\n",
    "    + i_3 \\frac{\\partial v_3}{\\partial x}\n",
    "    &= -i_1 \\frac{\\partial u}{\\partial y_1}\n",
    "    + \\frac{\\partial v_1}{\\partial y_1}\n",
    "    - i_3 \\frac{\\partial v_2}{\\partial y_1}\n",
    "    + i_2 \\frac{\\partial v_3}{\\partial y_1} \\\\\n",
    "    &= -i_2 \\frac{\\partial u}{\\partial y_2}\n",
    "    + i_3 \\frac{\\partial v_1}{\\partial y_2}\n",
    "    + \\frac{\\partial v_2}{\\partial y_2}\n",
    "    - i_1 \\frac{\\partial v_3}{\\partial y_2} \\\\\n",
    "    &= -i_3 \\frac{\\partial u}{\\partial y_3}\n",
    "    - i_2 \\frac{\\partial v_1}{\\partial y_3}\n",
    "    + i_1 \\frac{\\partial v_2}{\\partial y_3}\n",
    "    + \\frac{\\partial v_3}{\\partial y_3} \\\\\n",
    "\\end{split}"
   ]
  },
  {
   "cell_type": "markdown",
   "metadata": {},
   "source": [
    "\\begin{equation}\n",
    "    \\frac{\\partial u}{\\partial x}\n",
    "    = +\\frac{\\partial v_1}{\\partial y_1}\n",
    "    = +\\frac{\\partial v_2}{\\partial y_2}\n",
    "    = +\\frac{\\partial v_3}{\\partial y_3}\n",
    "    \\\\\n",
    "    \\frac{\\partial v_1}{\\partial x}\n",
    "    = -\\frac{\\partial u}{\\partial y_1}\n",
    "    = -\\frac{\\partial v_3}{\\partial y_2}\n",
    "    = +\\frac{\\partial v_2}{\\partial y_3}\n",
    "    \\\\\n",
    "    \\frac{\\partial v_2}{\\partial x}\n",
    "    = +\\frac{\\partial v_3}{\\partial y_1}\n",
    "    = -\\frac{\\partial u}{\\partial y_2}\n",
    "    = - \\frac{\\partial v_1}{\\partial y_3}\n",
    "    \\\\\n",
    "    \\frac{\\partial v_3}{\\partial x}\n",
    "    = -\\frac{\\partial v_2}{\\partial y_1}\n",
    "    = +\\frac{\\partial v_1}{\\partial y_2}\n",
    "    = -\\frac{\\partial u}{\\partial y_3}\n",
    "\\end{equation}"
   ]
  },
  {
   "cell_type": "markdown",
   "metadata": {},
   "source": [
    "So this gives 48 equations. Or, there are 24 pairs of Cauchy-Riemann equations."
   ]
  },
  {
   "cell_type": "markdown",
   "metadata": {},
   "source": [
    "\\begin{equation}\n",
    "    \\frac{\\partial u}{\\partial x} = \\frac{\\partial v_1}{\\partial y_1} \\qquad\n",
    "    \\frac{\\partial u}{\\partial y_1} = -\\frac{\\partial v_1}{\\partial x} \\qquad\n",
    "    \\frac{\\partial v_2}{\\partial x} = \\frac{\\partial v_3}{\\partial y_1} \\qquad\n",
    "    \\frac{\\partial v_2}{\\partial y_1} = -\\frac{\\partial v_3}{\\partial x}\n",
    "\\end{equation}\n",
    "\n",
    "\\begin{equation}\n",
    "    \\frac{\\partial u}{\\partial x} = \\frac{\\partial v_2}{\\partial y_2} \\qquad\n",
    "    \\frac{\\partial u}{\\partial y_2} = -\\frac{\\partial v_2}{\\partial x} \\qquad\n",
    "    \\frac{\\partial v_3}{\\partial x} = \\frac{\\partial v_1}{\\partial y_2} \\qquad\n",
    "    \\frac{\\partial v_3}{\\partial y_2} = -\\frac{\\partial v_1}{\\partial x}\n",
    "\\end{equation}\n",
    "\n",
    "\\begin{equation}\n",
    "    \\frac{\\partial u}{\\partial x} = \\frac{\\partial v_3}{\\partial y_3} \\qquad\n",
    "    \\frac{\\partial u}{\\partial y_2} = -\\frac{\\partial v_3}{\\partial x} \\qquad\n",
    "    \\frac{\\partial v_1}{\\partial x} = \\frac{\\partial v_2}{\\partial y_3} \\qquad\n",
    "    \\frac{\\partial v_1}{\\partial y_3} = -\\frac{\\partial v_2}{\\partial x}\n",
    "\\end{equation}\n",
    "\n",
    "\\begin{equation}\n",
    "    \\frac{\\partial u}{\\partial y_2} = \\frac{\\partial v_1}{\\partial y_3} \\qquad\n",
    "    \\frac{\\partial u}{\\partial y_3} = -\\frac{\\partial v_1}{\\partial y_2} \\qquad\n",
    "    \\frac{\\partial v_2}{\\partial y_2} = \\frac{\\partial v_3}{\\partial y_3} \\qquad\n",
    "    \\frac{\\partial v_2}{\\partial y_3} = -\\frac{\\partial v_3}{\\partial y_2}\n",
    "\\end{equation}\n",
    "\n",
    "\\begin{equation}\n",
    "    \\frac{\\partial u}{\\partial y_3} = \\frac{\\partial v_2}{\\partial y_1} \\qquad\n",
    "    \\frac{\\partial u}{\\partial y_1} = -\\frac{\\partial v_2}{\\partial y_3} \\qquad\n",
    "    \\frac{\\partial v_3}{\\partial y_3} = \\frac{\\partial v_1}{\\partial y_1} \\qquad\n",
    "    \\frac{\\partial v_3}{\\partial y_1} = -\\frac{\\partial v_1}{\\partial y_3}\n",
    "\\end{equation}\n",
    "\n",
    "\\begin{equation}\n",
    "    \\frac{\\partial u}{\\partial y_1} = \\frac{\\partial v_3}{\\partial y_2} \\qquad\n",
    "    \\frac{\\partial u}{\\partial y_2} = -\\frac{\\partial v_3}{\\partial y_1} \\qquad\n",
    "    \\frac{\\partial v_1}{\\partial y_1} = \\frac{\\partial v_2}{\\partial y_2} \\qquad\n",
    "    \\frac{\\partial v_1}{\\partial y_2} = -\\frac{\\partial v_2}{\\partial y_1}\n",
    "\\end{equation}"
   ]
  },
  {
   "cell_type": "markdown",
   "metadata": {},
   "source": [
    "Lots of constraints. Still, you could imagine 144 relationships.  So we're not getting all possibilities. Even though quaternions have meaning in three dimensions, it does not seem to carry over here.  This does not seem to represent anything physical.  It's like multiple two dimensions.  "
   ]
  },
  {
   "cell_type": "markdown",
   "metadata": {},
   "source": [
    "\\begin{equation}\n",
    "    \\frac{\\partial^2 u}{\\partial x^2} = -\\frac{\\partial^2 u}{\\partial y_1^2} \\qquad\n",
    "    \\frac{\\partial^2 v_1}{\\partial x^2} = -\\frac{\\partial^2 v_1}{\\partial y_1^2} \\qquad\n",
    "    \\frac{\\partial^2 v_2}{\\partial x^2} = -\\frac{\\partial^2 v_2}{\\partial y_1^2} \\qquad\n",
    "    \\frac{\\partial^2 v_3}{\\partial x^2} = -\\frac{\\partial^2 v_3}{\\partial y_1^2}\n",
    "\\end{equation}\n",
    "\n",
    "\\begin{equation}\n",
    "    \\frac{\\partial^2 u}{\\partial x^2} = -\\frac{\\partial^2 u}{\\partial y_2^2} \\qquad\n",
    "    \\frac{\\partial^2 v_1}{\\partial x^2} = -\\frac{\\partial^2 v_1}{\\partial y_2^2} \\qquad\n",
    "    \\frac{\\partial^2 v_2}{\\partial x^2} = -\\frac{\\partial^2 v_2}{\\partial y_2^2} \\qquad\n",
    "    \\frac{\\partial^2 v_3}{\\partial x^2} = -\\frac{\\partial^2 v_3}{\\partial y_2^2}\n",
    "\\end{equation}\n",
    "\n",
    "\\begin{equation}\n",
    "    \\frac{\\partial^2 u}{\\partial x^2} = -\\frac{\\partial^2 u}{\\partial y_3^2} \\qquad\n",
    "    \\frac{\\partial^2 v_1}{\\partial x^2} = -\\frac{\\partial^2 v_1}{\\partial y_3^2} \\qquad\n",
    "    \\frac{\\partial^2 v_2}{\\partial x^2} = -\\frac{\\partial^2 v_2}{\\partial y_3^2} \\qquad\n",
    "    \\frac{\\partial^2 v_3}{\\partial x^2} = -\\frac{\\partial^2 v_3}{\\partial y_3^2}\n",
    "\\end{equation}\n",
    "\n",
    "\\begin{equation}\n",
    "    \\frac{\\partial^2 u}{\\partial y_2^2} = -\\frac{\\partial^2 u}{\\partial y_3^2} \\qquad\n",
    "    \\frac{\\partial^2 v_1}{\\partial y_2^2} = -\\frac{\\partial^2 v_1}{\\partial y_3^2} \\qquad\n",
    "    \\frac{\\partial^2 v_2}{\\partial y_2^2} = -\\frac{\\partial^2 v_2}{\\partial y_3^2} \\qquad\n",
    "    \\frac{\\partial^2 v_3}{\\partial y_2^2} = -\\frac{\\partial^2 v_3}{\\partial y_3^2}\n",
    "\\end{equation}\n",
    "\n",
    "\\begin{equation}\n",
    "    \\frac{\\partial^2 u}{\\partial y_3^2} = -\\frac{\\partial^2 u}{\\partial y_1^2} \\qquad\n",
    "    \\frac{\\partial^2 v_1}{\\partial y_3^2} = -\\frac{\\partial^2 v_1}{\\partial y_1^2} \\qquad\n",
    "    \\frac{\\partial^2 v_2}{\\partial y_3^2} = -\\frac{\\partial^2 v_2}{\\partial y_1^2} \\qquad\n",
    "    \\frac{\\partial^2 v_3}{\\partial y_3^2} = -\\frac{\\partial^2 v_3}{\\partial y_1^2}\n",
    "\\end{equation}\n",
    "\n",
    "\\begin{equation}\n",
    "    \\frac{\\partial^2 u}{\\partial y_1^2} = -\\frac{\\partial^2 u}{\\partial y_2^2} \\qquad\n",
    "    \\frac{\\partial^2 v_1}{\\partial y_1^2} = -\\frac{\\partial^2 v_1}{\\partial y_2^2} \\qquad\n",
    "    \\frac{\\partial^2 v_2}{\\partial y_1^2} = -\\frac{\\partial^2 v_2}{\\partial y_2^2} \\qquad\n",
    "    \\frac{\\partial^2 v_3}{\\partial y_1^2} = -\\frac{\\partial^2 v_3}{\\partial y_2^2}\n",
    "\\end{equation}"
   ]
  },
  {
   "cell_type": "markdown",
   "metadata": {},
   "source": [
    "\\begin{equation}\n",
    "    \\frac{\\partial^2 u}{\\partial x^2}\n",
    "    = \\frac{\\partial^2 u}{\\partial y_1^2}\n",
    "    = \\frac{\\partial^2 u}{\\partial y_2^2}\n",
    "    = \\frac{\\partial^2 u}{\\partial y_3^2} = 0\n",
    "\\end{equation}\n",
    "\n",
    "\\begin{equation}\n",
    "    \\frac{\\partial^2 v_1}{\\partial x^2}\n",
    "    = \\frac{\\partial^2 v_1}{\\partial y_1^2}\n",
    "    = \\frac{\\partial^2 v_1}{\\partial y_2^2}\n",
    "    = \\frac{\\partial^2 v_1}{\\partial y_3^2} = 0\n",
    "\\end{equation}\n",
    "\n",
    "\\begin{equation}\n",
    "    \\frac{\\partial^2 v_2}{\\partial x^2}\n",
    "    = \\frac{\\partial^2 v_2}{\\partial y_1^2}\n",
    "    = \\frac{\\partial^2 v_2}{\\partial y_2^2}\n",
    "    = \\frac{\\partial^2 v_2}{\\partial y_3^2} = 0\n",
    "\\end{equation}\n",
    "\n",
    "\\begin{equation}\n",
    "    \\frac{\\partial^2 v_3}{\\partial x^2}\n",
    "    = \\frac{\\partial^2 v_3}{\\partial y_1^2}\n",
    "    = \\frac{\\partial^2 v_3}{\\partial y_2^2}\n",
    "    = \\frac{\\partial^2 v_3}{\\partial y_3^2} = 0\n",
    "\\end{equation}"
   ]
  },
  {
   "cell_type": "markdown",
   "metadata": {},
   "source": [
    "With this, it's even worse.  This is not anything interesting."
   ]
  },
  {
   "cell_type": "code",
   "execution_count": 1,
   "metadata": {},
   "outputs": [
    {
     "name": "stdout",
     "output_type": "stream",
     "text": [
      "/Users/matthewcochran/Desktop/git/stocks\r\n"
     ]
    }
   ],
   "source": [
    "! pwd"
   ]
  },
  {
   "cell_type": "code",
   "execution_count": null,
   "metadata": {},
   "outputs": [],
   "source": []
  },
  {
   "cell_type": "code",
   "execution_count": null,
   "metadata": {},
   "outputs": [],
   "source": []
  }
 ],
 "metadata": {
  "kernelspec": {
   "display_name": "Python 3",
   "language": "python",
   "name": "python3"
  },
  "language_info": {
   "codemirror_mode": {
    "name": "ipython",
    "version": 3
   },
   "file_extension": ".py",
   "mimetype": "text/x-python",
   "name": "python",
   "nbconvert_exporter": "python",
   "pygments_lexer": "ipython3",
   "version": "3.8.5"
  }
 },
 "nbformat": 4,
 "nbformat_minor": 4
}
