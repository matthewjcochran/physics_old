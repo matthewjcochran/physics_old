{
 "cells": [
  {
   "cell_type": "markdown",
   "metadata": {
    "collapsed": true
   },
   "source": [
    "### Dispersion in nonconductors ###\n",
    "\n",
    "Consider an electron in an electromagnetic wave with dispersion.\n",
    "\n",
    "\\begin{gather}\n",
    "m \\frac{d^2 x}{d t^2} = -m \\omega_0^2 x -m \\gamma \\frac{d x}{d t} + q E\n",
    "\\end{gather}\n",
    "\n",
    "With some algebra, one can show\n",
    "\n",
    "\\begin{gather}\n",
    "\\frac{d^2 x}{d t^2} + \\gamma \\frac{d x}{d t} + \\omega_0^2 x = \\frac{q}{m} E\n",
    "\\end{gather}"
   ]
  },
  {
   "cell_type": "markdown",
   "metadata": {},
   "source": [
    "### Fourier transforms ###\n",
    "\n",
    "These relations are from another file.\n",
    "\n",
    "\\begin{gather}\n",
    "x(t) = \\frac{1}{2 \\pi} \\int_{-\\infty}^{\\infty} \\tilde x(\\omega) e^{i \\omega t} d\\omega \\qquad\n",
    "\\tilde x(\\omega) = \\int_{-\\infty}^{\\infty} x(t) e^{-i \\omega t} dt \\\\\n",
    "E(t) = \\frac{1}{2 \\pi} \\int_{-\\infty}^{\\infty} \\tilde E(\\omega) e^{i \\omega t} d\\omega  \\qquad\n",
    "\\tilde E(\\omega) = \\int_{-\\infty}^{\\infty} E(t) e^{-i \\omega t} dt\n",
    "\\end{gather}"
   ]
  },
  {
   "cell_type": "markdown",
   "metadata": {},
   "source": [
    "### General solution ###\n",
    "\n",
    "Direct substitution gives\n",
    "\n",
    "\\begin{gather}\n",
    "\\tilde x(\\omega) = \\frac{q / m}{\\omega_0^2 - \\omega^2 + i \\gamma \\omega} \\tilde E(\\omega)\n",
    "\\end{gather}\n",
    "\n",
    "Or one can show\n",
    "\n",
    "\\begin{gather}\n",
    "\\tilde x(\\omega) = \\frac{q / m}{[(\\omega_0^2 - \\omega^2)^2\n",
    "+ \\gamma^2 \\omega^2]^{1/2}} \\tilde E(\\omega) e^{-i \\phi(\\omega)}\n",
    "\\quad \\mathrm{where} \\quad\n",
    "\\phi(\\omega) = \\arctan \\bigg( \\frac{\\gamma \\omega}{\\omega_0^2 - \\omega^2} \\bigg)\n",
    "\\end{gather}"
   ]
  },
  {
   "cell_type": "markdown",
   "metadata": {
    "collapsed": true
   },
   "source": [
    "### Particular solution ###\n",
    "\n",
    "Say that \n",
    "\n",
    "\\begin{gather}\n",
    "E(t) = E_0 \\sin(\\omega t)\n",
    "\\end{gather}\n",
    "\n",
    "Then one can show that\n",
    "\n",
    "\\begin{gather}\n",
    "\\tilde E(\\omega') = i \\pi E_0 [\\delta(\\omega + \\omega') - \\delta(\\omega - \\omega')]\n",
    "\\end{gather}\n",
    "\n",
    "And that\n",
    "\n",
    "\\begin{gather}\n",
    "x(t) = \\frac{q / m}{[(\\omega_0^2 - \\omega^2)^2 + \\gamma^2 \\omega^2]^{1/2}} E_0 \\sin[ \\omega t - \\phi(\\omega) ]\n",
    "\\end{gather}"
   ]
  },
  {
   "cell_type": "markdown",
   "metadata": {},
   "source": [
    "### Radiation ###\n",
    "\n",
    "The work done the the field on a charge in a certain time\n",
    "\n",
    "\\begin{gather}\n",
    "dW = q E dx\n",
    "\\end{gather}"
   ]
  },
  {
   "cell_type": "markdown",
   "metadata": {},
   "source": [
    "\\begin{gather}\n",
    "dW =\n",
    "q E_0 \\sin(\\omega t)\n",
    "\\frac{q / m}{[(\\omega_0^2 - \\omega^2)^2 + \\gamma^2 \\omega^2]^{1/2}} E_0 \\cos[ \\omega t - \\phi(\\omega)]\n",
    "\\omega dt\n",
    "\\end{gather}"
   ]
  },
  {
   "cell_type": "markdown",
   "metadata": {
    "collapsed": true
   },
   "source": [
    "\\begin{gather}\n",
    "dW =\n",
    "\\frac{q^2 / m}{[(\\omega_0^2 - \\omega^2)^2 + \\gamma^2 \\omega^2]^{1/2}} E_0^2\n",
    "\\sin(\\omega t) \\cos(\\omega t - \\phi) \\omega dt\n",
    "\\end{gather}"
   ]
  },
  {
   "cell_type": "markdown",
   "metadata": {},
   "source": [
    "\\begin{gather}\n",
    "\\sin(a + b) = \\sin(a) \\cos(b) + \\sin(b) \\cos(a) \\\\\n",
    "\\sin(a - b) = \\sin(a) \\cos(b) - \\sin(b) \\cos(a)\n",
    "\\end{gather}\n",
    "\n",
    "\\begin{gather}\n",
    "\\sin(a) \\cos(b) = \\frac{1}{2} [\\sin(a + b) + \\sin(a - b)]\n",
    "\\end{gather}"
   ]
  },
  {
   "cell_type": "markdown",
   "metadata": {},
   "source": [
    "\\begin{gather}\n",
    "P = \\frac{q^2 / m}{[(\\omega_0^2 - \\omega^2)^2 + \\gamma^2 \\omega^2]^{1/2}}\n",
    "E_0^2 \\sin(\\omega t) \\cos(\\omega t - \\phi) \\omega\n",
    "\\end{gather}\n",
    "\n",
    "\\begin{gather}\n",
    "P = \\frac{q^2 / m}{[(\\omega_0^2 - \\omega^2)^2 + \\gamma^2 \\omega^2]^{1/2}}\n",
    "E_0^2 \\frac{1}{2} [\\sin(2 \\omega t - \\phi) + \\sin(\\phi) ] \\omega\n",
    "\\end{gather}"
   ]
  },
  {
   "cell_type": "markdown",
   "metadata": {},
   "source": [
    "\\begin{gather}\n",
    "\\langle P \\rangle = \\frac{q^2 / m}{[(\\omega_0^2 - \\omega^2)^2 + \\gamma^2 \\omega^2]^{1/2}}\n",
    "E_0^2 \\frac{1}{2} \\sin(\\phi) \\omega\n",
    "\\end{gather}"
   ]
  },
  {
   "cell_type": "markdown",
   "metadata": {},
   "source": [
    "### Generalization of Ohm's Law ###\n",
    "\n",
    "Ohm's Law is\n",
    "\n",
    "\\begin{gather}\n",
    "\\Delta V = I R\n",
    "\\end{gather}\n",
    "\n",
    "Using the definitions\n",
    "\n",
    "\\begin{gather}\n",
    "\\Delta V = E \\Delta L \\qquad\n",
    "I = J A \\qquad\n",
    "R = \\frac{\\rho \\Delta L}{A}\n",
    "\\end{gather}\n",
    "\n",
    "we have\n",
    "\n",
    "\\begin{gather}\n",
    "E = J \\rho\n",
    "\\end{gather}\n",
    "\n",
    "Changin from resistivity $\\rho$ to conductivity $\\sigma$ we have\n",
    "\n",
    "\n",
    "\\begin{gather}\n",
    "J = \\sigma E\n",
    "\\end{gather}"
   ]
  },
  {
   "cell_type": "markdown",
   "metadata": {},
   "source": [
    "\\begin{gather}\n",
    "\\frac{d^2 x}{d t^2} + \\gamma \\frac{d x}{d t} = -\\frac{e}{m} E\n",
    "\\end{gather}"
   ]
  },
  {
   "cell_type": "markdown",
   "metadata": {},
   "source": [
    "\\begin{gather}\n",
    "x(t) = A \\exp (c t)\n",
    "\\end{gather}"
   ]
  },
  {
   "cell_type": "code",
   "execution_count": null,
   "metadata": {
    "collapsed": true
   },
   "outputs": [],
   "source": []
  }
 ],
 "metadata": {
  "kernelspec": {
   "display_name": "Python 3",
   "language": "python",
   "name": "python3"
  },
  "language_info": {
   "codemirror_mode": {
    "name": "ipython",
    "version": 3
   },
   "file_extension": ".py",
   "mimetype": "text/x-python",
   "name": "python",
   "nbconvert_exporter": "python",
   "pygments_lexer": "ipython3",
   "version": "3.6.0"
  }
 },
 "nbformat": 4,
 "nbformat_minor": 2
}
