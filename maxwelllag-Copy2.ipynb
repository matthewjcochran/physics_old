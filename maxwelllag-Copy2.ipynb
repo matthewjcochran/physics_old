{
 "cells": [
  {
   "cell_type": "markdown",
   "metadata": {},
   "source": [
    "### Maxwell's Equations ###\n",
    "\n",
    "Let us define the following four-vectors and tensors.\n",
    "\n",
    "\\begin{gather}\n",
    "\\partial_\\alpha = \\begin{pmatrix} \\frac{1}{c}\\partial_t & \\partial_x & \\partial_y & \\partial_z \\end{pmatrix}\n",
    "\\qquad\n",
    "A^\\alpha = \\left( \\begin{matrix}\\frac{1}{c}\\phi & A_x & A_y & A_z \\end{matrix}\\right)\n",
    "\\qquad\n",
    "J^\\alpha = \\begin{pmatrix} c\\rho & J_x & J_y & J_z \\end{pmatrix}  \n",
    "\\end{gather}\n",
    "\n",
    "\\begin{gather}\n",
    "F^{\\alpha \\beta} = \\begin{pmatrix}\n",
    "0  & -\\tfrac{1}{c} E_x & -\\tfrac{1}{c} E_y & -\\tfrac{1}{c} E_z \\\\\n",
    "\\tfrac{1}{c} E_x &  0   & -B_z &  B_y     \\\\\n",
    "\\tfrac{1}{c} E_y &  B_z &    0 & -B_x     \\\\\n",
    "\\tfrac{1}{c} E_z & -B_y &  B_x &  0 \\end{pmatrix}\n",
    "\\qquad\n",
    "\\varPi^{\\alpha\\beta} = \\begin{pmatrix}\n",
    "0 & -c D_x & -c D_y & -c D_z \\vphantom{\\tfrac{1}{c}} \\\\\n",
    " c D_x & 0 & -H_z & H_y \\vphantom{\\tfrac{1}{c}} \\\\\n",
    " c D_y & H_z & 0 & -H_x \\vphantom{\\tfrac{1}{c}} \\\\\n",
    " c D_z & -H_y & H_x & 0 \\vphantom{\\tfrac{1}{c}}\n",
    "\\end{pmatrix}\n",
    "\\end{gather}\n",
    "\n",
    "With these, Maxwell's equations can be written in a compact form.\n",
    "\n",
    "\\begin{gather}\n",
    "F^{\\alpha \\beta} = \\partial^\\alpha A^\\beta - \\partial^\\beta A^\\alpha\n",
    "\\quad \\Rightarrow \\quad\n",
    "\\begin{cases}\n",
    "E = -\\nabla \\phi - \\dfrac{\\partial A}{\\partial t} \\\\\n",
    "B = \\nabla \\times A \\vphantom{\\dfrac{\\partial A}{\\partial t}}\n",
    "\\end{cases}\n",
    "\\end{gather}\n",
    "\n",
    "The first pair of equations can be viewed as the definition of the electric and magnetic fields.  As we will see, the second pair of equations can be derived from a general Lagrangian. "
   ]
  },
  {
   "cell_type": "markdown",
   "metadata": {},
   "source": [
    "In general, we have $\\mathcal{L}(\\partial_\\alpha A_\\beta, A_\\beta)$.  This notation is a different.  The Lagrangian in not a function of $\\partial_\\alpha A_\\beta$ and $A_\\beta$ for particular values of $\\alpha$ and $\\beta$.  Rather it is a functions of all combinations of values between 0 and 3. That is, the Lagrangian is a function of twenty variables.  Minimumizing the action gives\n",
    "\n",
    "\\begin{gather}\n",
    "\\partial_\\alpha \\frac{\\partial \\mathcal{L}}{\\partial (\\partial_\\alpha A_\\beta)}\n",
    "= \\frac{\\partial \\mathcal{L}}{\\partial A_\\beta}\n",
    "\\end{gather}\n",
    "\n",
    "For the particular case where $\\mathcal{L}(F_{\\alpha \\beta}, A_\\beta)$, one can show that the previuos equation becomes\n",
    "\n",
    "\\begin{gather}\n",
    "\\partial_\\alpha 2 \\frac{\\partial \\mathcal{L}}{\\partial F_{\\alpha\\beta}}\n",
    "= \\frac{\\partial \\mathcal{L}}{\\partial A_\\beta}\n",
    "\\end{gather}\n",
    "\n",
    "With the following definitons\n",
    "\\begin{gather}\n",
    "\\varPi^{\\alpha\\beta} = -2 \\frac{\\partial \\mathcal{L}}{\\partial F_{\\alpha\\beta}}\n",
    "\\quad \\Rightarrow \\quad\n",
    "\\begin{cases}\n",
    "D = \\nabla_E \\mathcal{L} \\vphantom{\\dfrac{\\partial A}{\\partial t}} \\\\\n",
    "H = -\\nabla_B \\mathcal{L} \\vphantom{\\dfrac{\\partial A}{\\partial t}}\n",
    "\\end{cases}\n",
    "\\end{gather}\n",
    "\n",
    "\\begin{gather}\n",
    "J_f^\\beta = -\\frac{\\partial \\mathcal{L}}{\\partial A_\\beta}\n",
    "\\quad \\Rightarrow \\quad\n",
    "\\begin{cases}\n",
    "\\rho_f = - \\dfrac{\\partial \\mathcal{L}}{\\partial \\phi} \\vphantom{\\dfrac{\\partial A}{\\partial t}} \\\\\n",
    "J_f = \\nabla_A \\mathcal{L} \\vphantom{\\dfrac{\\partial A}{\\partial t}}\n",
    "\\end{cases}\n",
    "\\end{gather}\n",
    "\n",
    "the previous equation becomes\n",
    "\n",
    "\\begin{gather}\n",
    "\\partial_\\alpha \\varPi^{\\alpha \\beta} = J_f^\\beta\n",
    "\\quad \\Rightarrow \\quad\n",
    "\\begin{cases}\n",
    "\\nabla \\cdot D = \\rho_f \\vphantom{\\dfrac{\\partial A}{\\partial t}} \\\\\n",
    "\\nabla \\times H = J_f + \\dfrac{\\partial D}{\\partial t}\n",
    "\\end{cases}\n",
    "\\end{gather}\n",
    "\n",
    "We see that the second pair of Maxwell's equations can be seen as arising from a general Lagrangian.  In general, $D$ and $H$ are complicated functions of $E$ and $B$."
   ]
  },
  {
   "cell_type": "markdown",
   "metadata": {
    "collapsed": true
   },
   "source": [
    "\\begin{gather}\n",
    "M^{\\alpha \\beta} = \\begin{pmatrix}\n",
    "0  & c P_x & c P_y & c P_z  \\\\\n",
    "-c P_x &  0  & -M_z &  M_y  \\\\\n",
    "-c P_y &  M_z &  0  & -M_x  \\\\\n",
    "-c P_z & -M_y &  M_x  &  0 \\end{pmatrix}\n",
    "\\end{gather}\n",
    "\n",
    "\n",
    "\\begin{gather}\n",
    "\\varPi^{\\alpha \\beta} = \\frac{1}{\\mu_0} F^{\\alpha \\beta} - M^{\\alpha \\beta}\n",
    "\\quad \\Rightarrow \\quad\n",
    "\\begin{cases}\n",
    "D =\\epsilon _0 E + P  \\vphantom{\\dfrac{\\partial A}{\\partial t}} \\\\\n",
    "H = \\dfrac{1}{\\mu_0} B - M\n",
    "\\end{cases}\n",
    "\\end{gather}\n",
    "\n",
    "\n",
    "\\begin{gather}\n",
    "\\partial_\\alpha M^{\\alpha \\beta} = J_b^\\beta\n",
    "\\quad \\Rightarrow \\quad\n",
    "\\begin{cases}\n",
    "\\nabla \\cdot P = -\\rho_b  \\vphantom{\\dfrac{\\partial A}{\\partial t}} \\\\\n",
    "\\nabla \\times M = J_b  \\vphantom{\\dfrac{\\partial A}{\\partial t}}\n",
    "\\end{cases}\n",
    "\\end{gather}"
   ]
  },
  {
   "cell_type": "markdown",
   "metadata": {},
   "source": [
    "\\begin{gather}\n",
    "\\frac{1}{\\mu_0} \\partial_\\alpha F^{\\alpha \\beta} = J^\\beta\n",
    "\\quad \\Rightarrow \\quad\n",
    "\\begin{cases}\n",
    "\\nabla \\cdot E = \\dfrac{1}{\\epsilon_0} \\rho  \\\\\n",
    "\\nabla \\times B = \\mu_0 J + \\dfrac{1}{c^2} \\dfrac{\\partial E}{\\partial t}\n",
    "\\end{cases}\n",
    "\\end{gather}\n"
   ]
  },
  {
   "cell_type": "markdown",
   "metadata": {
    "collapsed": true
   },
   "source": [
    "### Dispersion in nonconductors ###\n",
    "\n",
    "\\begin{gather}\n",
    "m \\frac{d^2 x}{d t^2} = -m \\omega_0^2 x -m \\gamma \\frac{d x}{d t} + q E\n",
    "\\end{gather}\n",
    "\n",
    "With some algebra\n",
    "\n",
    "\\begin{gather}\n",
    "\\frac{d^2 x}{d t^2} + \\gamma \\frac{d x}{d t} + \\omega_0^2 x = \\frac{q}{m} E\n",
    "\\end{gather}"
   ]
  },
  {
   "cell_type": "markdown",
   "metadata": {},
   "source": [
    "\\begin{gather}\n",
    "E = \\tilde E e^{i \\omega t} + \\tilde E^* e^{-i \\omega t} \\\\\n",
    "x = \\tilde x e^{i \\omega t} + \\tilde x^* e^{-i \\omega t}\n",
    "\\end{gather}"
   ]
  },
  {
   "cell_type": "markdown",
   "metadata": {},
   "source": [
    "\\begin{gather}\n",
    "\\tilde x =  \\frac{q}{m} \\frac{1}{\\omega_0^2 - \\omega^2 + i \\gamma \\omega} \\tilde E\n",
    "\\end{gather}\n",
    "\n",
    "\\begin{split}\n",
    "\\tilde x\n",
    "&= \\frac{q}{m} [\\omega_0^2 - \\omega^2 + i \\gamma \\omega]^{-1} \\tilde E \\\\\n",
    "&= \\frac{q}{m} [(\\omega_0^2 - \\omega^2)^2 + \\gamma^2 \\omega^2]^{-1}\n",
    "(\\omega_0^2 - \\omega^2 - i \\gamma \\omega) \\tilde E \\\\\n",
    "&= \\frac{q}{m} [(\\omega_0^2 - \\omega^2)^2 + \\gamma^2 \\omega^2]^{-1/2}\n",
    "\\tilde E \\exp \\bigg(-i \\arctan \\frac{\\gamma \\omega}{\\omega_0^2 - \\omega^2} \\bigg) \\\\\n",
    "&= \\frac{q}{m} [(\\omega_0^2 - \\omega^2)^2 + \\gamma^2 \\omega^2]^{-1/2}\n",
    "\\tilde E e^{-i \\phi} \\\\\n",
    "\\end{split}"
   ]
  },
  {
   "cell_type": "markdown",
   "metadata": {},
   "source": [
    "\\begin{gather}\n",
    "E = E_0 \\sin(\\omega t)\n",
    "\\end{gather}\n",
    "\n",
    "\\begin{gather}\n",
    "\\tilde E = \\frac{1}{2 i} E_0\n",
    "\\end{gather}"
   ]
  },
  {
   "cell_type": "markdown",
   "metadata": {},
   "source": [
    "\\begin{gather}\n",
    "x = \\frac{q}{m} [(\\omega_0^2 - \\omega^2)^2 + \\gamma^2 \\omega^2]^{-1/2}\n",
    "E_0 \\sin( \\omega t - \\phi) \\\\\n",
    "\\end{gather}\n",
    "\n",
    "\\begin{gather}\n",
    "x = \\frac{q / m}{[(\\omega_0^2 - \\omega^2)^2 + \\gamma^2 \\omega^2]^{1/2}}\n",
    "E_0 \\sin( \\omega t - \\phi) \\\\\n",
    "\\end{gather}"
   ]
  },
  {
   "cell_type": "code",
   "execution_count": null,
   "metadata": {
    "collapsed": true
   },
   "outputs": [],
   "source": []
  }
 ],
 "metadata": {
  "kernelspec": {
   "display_name": "Python 3",
   "language": "python",
   "name": "python3"
  },
  "language_info": {
   "codemirror_mode": {
    "name": "ipython",
    "version": 3
   },
   "file_extension": ".py",
   "mimetype": "text/x-python",
   "name": "python",
   "nbconvert_exporter": "python",
   "pygments_lexer": "ipython3",
   "version": "3.6.0"
  }
 },
 "nbformat": 4,
 "nbformat_minor": 2
}
