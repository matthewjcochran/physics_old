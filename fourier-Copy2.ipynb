{
 "cells": [
  {
   "cell_type": "markdown",
   "metadata": {},
   "source": [
    "### Fourier transform: Discrete 1D ###\n",
    "\n",
    "Consider a real function $f(x)$ between $0$ and $L$.  We write this as a sum of periodic functions.\n",
    "\n",
    "#### Base defintion ####\n",
    "\n",
    "Start with real variables and positive indicies.\n",
    "\n",
    "\\begin{gather}\n",
    "f(x) = a_0 + \\sum_{n = 1}^{\\infty}\n",
    "\\left[ a_n \\cos \\left(\\frac{2 \\pi n}{L} x\\right) + b_n \\sin \\left(\\frac{2 \\pi n}{L} x\\right) \\right]\n",
    "\\end{gather}\n",
    "\n",
    "Calculations yeild the following.\n",
    "\n",
    "\\begin{gather}\n",
    "a_0 = \\frac{1}{L} \\int_0^L f(x) dx \\\\\n",
    "a_n = \\frac{2}{L} \\int_0^L f(x) \\cos \\left(\\frac{2 \\pi n}{L} x\\right) dx \\\\\n",
    "b_n = \\frac{2}{L} \\int_0^L f(x) \\sin \\left(\\frac{2 \\pi n}{L} x\\right) dx\n",
    "\\end{gather}\n",
    "\n",
    "Note that\n",
    "\n",
    "\\begin{gather}\n",
    "a_{-n} = a_n \\qquad\n",
    "b_{-n} = -b_n\n",
    "\\end{gather}"
   ]
  },
  {
   "cell_type": "markdown",
   "metadata": {
    "deletable": true,
    "editable": true
   },
   "source": [
    "#### First notation update ####\n",
    "\n",
    "Set $k_n = 2 \\pi n / L$, allow $n$ to have integer values, and introduce $a_n$ and $b_n$.  \n",
    "\n",
    "\\begin{gather}\n",
    "f(x) = \\sum_{n = -\\infty}^{\\infty} \\left[ A_n \\cos \\left(k_n x\\right) + B_n \\sin \\left(k_n x\\right) \\right]\n",
    "\\end{gather}\n",
    "\n",
    "Calculations yeild the following.\n",
    "\n",
    "\\begin{gather}\n",
    "A_n = \\frac{1}{L} \\int_0^L f(x) \\cos \\left(k_n x\\right) dx \\\\\n",
    "B_n = \\frac{1}{L} \\int_0^L f(x) \\sin \\left(k_n x\\right) dx\n",
    "\\end{gather}\n",
    "\n",
    "\n",
    "Note that\n",
    "\n",
    "\\begin{gather}\n",
    "A_{-n} = A_n \\qquad\n",
    "B_{-n} = -B_n\n",
    "\\end{gather}\n",
    "\n",
    "Connect this to the old notation.\n",
    "\n",
    "\\begin{gather}\n",
    "a_0 = A_0 \\qquad\n",
    "a_n = 2 A_n \\qquad\n",
    "b_n = 2 B_n\n",
    "\\end{gather}"
   ]
  },
  {
   "cell_type": "markdown",
   "metadata": {},
   "source": [
    "#### Second notation update ####\n",
    "\n",
    "Replace the tigonmetric functions with complex exponentials and introduce the complex quantity $F_n$.\n",
    "\n",
    "\\begin{gather}\n",
    "f(x) = \\sum_{n = -\\infty}^{\\infty} F_n e^{i k_n x}\n",
    "\\end{gather}\n",
    "\n",
    "Calculations yeild the following.\n",
    "\n",
    "\\begin{gather}\n",
    "F_n = \\frac{1}{L} \\int_0^L f(x) e^{-i k_n x} dx\n",
    "\\end{gather}\n",
    "\n",
    "Note that\n",
    "\n",
    "\\begin{gather}\n",
    "F^*_n = F_{-n}\n",
    "\\end{gather}\n",
    "\n",
    "Connect this to the old notation.\n",
    "\n",
    "\\begin{gather}\n",
    "A_n = \\frac{1}{2} (F_n + F^*_n) \\qquad\n",
    "B_n = \\frac{i}{2} (F_n - F^*_n)\n",
    "\\end{gather}"
   ]
  },
  {
   "cell_type": "markdown",
   "metadata": {},
   "source": [
    "#### Delta functions ####\n",
    "\n",
    "Consistency leads to the following.\n",
    "\n",
    "\\begin{gather}\n",
    "\\delta(x - x') = \\frac{1}{L} \\sum_{n = -\\infty}^{\\infty} e^{i k_n (x - x')} \\\\\n",
    "\\delta_{n n'} = \\frac{1}{L} \\int_0^L e^{-i (k_n - k_{n'}) x} dx\n",
    "\\end{gather}"
   ]
  },
  {
   "cell_type": "markdown",
   "metadata": {},
   "source": [
    "#### Complex functions ####\n",
    "\n",
    "Consider a complex function $w(x)$ between $0$ and $L$. \n",
    "\n",
    "\\begin{gather}\n",
    "w(x) = u(x) + i v(x)\n",
    "\\end{gather}\n",
    "\n",
    "Define.\n",
    "\n",
    "\\begin{gather}\n",
    "u(x) = \\sum_{n = -\\infty}^{\\infty} U_n e^{i k_n x} \\qquad\n",
    "U_n = \\frac{1}{L} \\int_0^L u(x) e^{-i k_n x} dx \\\\\n",
    "v(x) = \\sum_{n = -\\infty}^{\\infty} V_n e^{i k_n x} \\qquad\n",
    "V_n = \\frac{1}{L} \\int_0^L v(x) e^{-i k_n x} dx \\\\\n",
    "w(x) = \\sum_{n = -\\infty}^{\\infty} W_n e^{i k_n x} \\qquad\n",
    "W_n = \\frac{1}{L} \\int_0^L w(x) e^{-i k_n x} dx\n",
    "\\end{gather}\n",
    "\n",
    "Calculations yeild.\n",
    "\n",
    "\\begin{gather}\n",
    "U_n = \\frac{1}{2}(W_n + W^*_{-n}) \\\\\n",
    "V_n = -\\frac{i}{2}(W_n - W^*_{-n})\n",
    "\\end{gather}\n",
    "\n",
    "Hence, we can store two real functions in the complex quantity $W_n$."
   ]
  },
  {
   "cell_type": "markdown",
   "metadata": {},
   "source": [
    "### Fourier transform: Discrete 2D ###\n",
    "\n",
    "Consider a real function $f(x, y)$ in an $L$ by $L$ square.  Start as before.\n",
    "\n",
    "\\begin{gather}\n",
    "f(x, y) = \\sum_{n = -\\infty}^{\\infty} F_n(y) e^{ i k_n x} \\\\\n",
    "F_n(y) = \\frac{1}{L} \\int_0^L f(x, y) e^{-i k_n x} dx\n",
    "\\end{gather}\n",
    "\n",
    "Now, Foureir expand the complex quantity $F_n(y)$.\n",
    "\n",
    "\\begin{gather}\n",
    "F_n(y) = \\sum_{m = -\\infty}^{\\infty} F_{nm} e^{i k_m y} \\\\\n",
    "F_{nm} = \\frac{1}{L} \\int_0^L F_n(y) e^{- i k_m y} dy\n",
    "\\end{gather}\n",
    "\n",
    "Plug into the previous equations.\n",
    "\n",
    "\\begin{gather}\n",
    "f(x, y) = \\sum_{n = -\\infty}^{\\infty} \\sum_{m = -\\infty}^{\\infty} F_{nm} e^{i (k_n x + k_m y)} \\\\\n",
    "F_{nm} = \\left(\\frac{1}{L}\\right)^2 \\int_0^L \\int_0^L f(x, y) e^{-i \\left(k_n x + k_m y\\right)} dx dy\n",
    "\\end{gather}\n",
    "\n",
    "The generalization to higher dimensions is clear."
   ]
  },
  {
   "cell_type": "markdown",
   "metadata": {},
   "source": [
    "### Fourier Transform: Continuous 1D ###\n",
    "\n",
    "Consider a real function $f(x)$ on the entire real line.  In this case, a different starting notation is better.  First, shift the domain.\n",
    "\n",
    "\\begin{gather}\n",
    "f(x) = \\sum_{n = -\\infty}^{\\infty} F_n e^{i k_n x} \\\\\n",
    "F_n = \\frac{1}{L} \\int_{-L/2}^{L/2} f(x) e^{-i k_n x} dx\n",
    "\\end{gather}\n",
    "\n",
    "Next, define $\\tilde f(k_n) = F_n L$ and $\\Delta k_n = 2 \\pi / L$.\n",
    "\n",
    "\\begin{gather}\n",
    "f(x) = \\frac{1}{2 \\pi} \\sum_{n = -\\infty}^{\\infty} \\tilde f(k_n) e^{  i k_n x} \\Delta k_n \\\\\n",
    "\\tilde f(k_n) = \\int_{-L/2}^{L/2} f(x) e^{- i k_n x} dx\n",
    "\\end{gather}\n",
    "\n",
    "Finally, consider the limit $L \\rightarrow \\infty$ where $k_n \\rightarrow k$. \n",
    "\n",
    "\\begin{gather}\n",
    "f(x) = \\frac{1}{2 \\pi} \\int_{-\\infty}^{\\infty} \\tilde f(k) e^{  i k x} dk \\\\\n",
    "\\tilde f(k) = \\int_{-\\infty}^{\\infty} f(x) e^{- i k x} dx\n",
    "\\end{gather}"
   ]
  },
  {
   "cell_type": "markdown",
   "metadata": {},
   "source": [
    "#### Delta functions ####\n",
    "\n",
    "\n",
    "Consistency leads to the following.\n",
    "\n",
    "\\begin{gather}\n",
    "\\delta(x - x') = \\frac{1}{2 \\pi} \\int_{-\\infty}^{\\infty} e^{i k (x - x')} dk \\\\\n",
    "\\delta(k - k') = \\frac{1}{2 \\pi} \\int_{-\\infty}^{\\infty} e^{- i (k - k') x} dx\n",
    "\\end{gather}\n",
    "\n",
    "The above suggests that $\\delta(-x) = \\delta(x)$.  In general, it can be shown that\n",
    "\n",
    "\\begin{gather}\n",
    "\\delta(a x) = \\frac{1}{\\lvert a \\lvert} \\delta(x)\n",
    "\\end{gather}\n",
    "\n"
   ]
  },
  {
   "cell_type": "markdown",
   "metadata": {},
   "source": []
  },
  {
   "cell_type": "markdown",
   "metadata": {},
   "source": []
  },
  {
   "cell_type": "code",
   "execution_count": null,
   "metadata": {
    "collapsed": true
   },
   "outputs": [],
   "source": []
  }
 ],
 "metadata": {
  "kernelspec": {
   "display_name": "Python 3",
   "language": "python",
   "name": "python3"
  },
  "language_info": {
   "codemirror_mode": {
    "name": "ipython",
    "version": 3
   },
   "file_extension": ".py",
   "mimetype": "text/x-python",
   "name": "python",
   "nbconvert_exporter": "python",
   "pygments_lexer": "ipython3",
   "version": "3.6.0"
  }
 },
 "nbformat": 4,
 "nbformat_minor": 2
}
