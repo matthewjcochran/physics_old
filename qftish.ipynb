{
 "cells": [
  {
   "cell_type": "markdown",
   "metadata": {},
   "source": [
    "Let us consider the vector potential in one dimension in the absence of current.  It satisfies the wave equation.\n",
    "\n",
    "\\begin{split}\n",
    "\\frac{\\partial^2 A}{\\partial x^2} - \\frac{1}{c^2} \\frac{\\partial^2 A}{\\partial t^2} = 0\n",
    "\\end{split}\n",
    "\n",
    "In this case, the Lagrangian density is\n",
    "\n",
    "\\begin{split}\n",
    "\\mathcal{L} = \\frac{1}{2 \\mu_0} \\left[ \\left( \\partial_t A \\right)^2 - c^2 \\left( \\partial_x A \\right)^2 \\right]\n",
    "\\end{split}\n",
    "\n"
   ]
  },
  {
   "cell_type": "markdown",
   "metadata": {},
   "source": [
    "Let us consider the spatial Fourier transform of $A(x)$ along a line of length $L$.  Defining $k_n = \\frac{2 \\pi n}{\\ell}$, we have\n",
    "\n",
    "\\begin{split}\n",
    "A(x) = \\frac{1}{\\ell} \\sum_{n = -\\infty}^\\infty a_n e^{i k_n x}\n",
    "\\end{split}\n",
    "\n",
    "\\begin{split}\n",
    "a_n = \\int_{0}^{\\ell} A(x) e^{-i k_n x} dx\n",
    "\\end{split}\n",
    "\n",
    "In general, $a_n$ is comples.  Since, however, $A(x)$ is real we have $a_n^* = a_{-n}.$  Also, note that $k_{-n} = - k_n$. Consistancy considerations lead to the delta function equations.\n",
    "\n",
    "\\begin{split}\n",
    "\\delta(x, x') = \\frac{1}{\\ell} \\sum_{n = -\\infty}^\\infty e^{i k_n (x - x')}\n",
    "\\end{split}\n",
    "\n",
    "\\begin{split}\n",
    "\\delta_{n, n'} = \\frac{1}{\\ell} \\int_{0}^{L} e^{-i (k_n - k_{n'}) x} dx\n",
    "\\end{split}"
   ]
  },
  {
   "cell_type": "markdown",
   "metadata": {},
   "source": [
    "Using the above, let us find the actual Lagrangian.\n",
    "\n",
    "\\begin{split}\n",
    "L\n",
    "&= \\int_0^\\ell \\mathcal{L} dx \\\\\n",
    "&= \\int_0^\\ell \\frac{1}{2 \\mu_0}\\left[\n",
    "\\left( \\partial_t A \\right)\n",
    "\\left( \\partial_t A \\right)\n",
    "- c^2\n",
    "\\left( \\partial_x A \\right)\n",
    "\\left( \\partial_x A \\right)\n",
    "\\right] dx \\\\\n",
    "&= \\int_0^\\ell \\frac{1}{2 \\mu_0}\\left[\n",
    "\\left( \\frac{1}{\\ell} \\sum_{n = -\\infty}^\\infty \\dot a_n e^{i k_n x} \\right)\n",
    "\\left( \\frac{1}{\\ell} \\sum_{n' = -\\infty}^\\infty \\dot a_{n'} e^{i k_{n'} x} \\right)\n",
    "- c^2 \n",
    "\\left( \\frac{1}{\\ell} \\sum_{n = -\\infty}^\\infty i k_n a_n e^{i k_n x} \\right)\n",
    "\\left( \\frac{1}{\\ell} \\sum_{n' = -\\infty}^\\infty i k_{n'} a_{n'} e^{i k_{n'} x} \\right)\n",
    "\\right] dx \\\\\n",
    "&= \\frac{1}{2 \\mu_0} \\frac{1}{\\ell} \\sum_{n = -\\infty}^\\infty \\frac{1}{\\ell} \\sum_{n' = -\\infty}^\\infty\n",
    "\\int_0^\\ell \\left(\n",
    "\\dot a_n \\dot a_{n'} + c^2 k_n k_{n'} a_n a_{n'}\n",
    "\\right) e^{i (k_n + k_{n'}) x} dx \\\\\n",
    "&= \\frac{1}{2 \\mu_0} \\frac{1}{\\ell} \\sum_{n = -\\infty}^\\infty \\sum_{n' = -\\infty}^\\infty\n",
    "\\left( \\frac{1}{\\ell} \\int_0^\\ell e^{i (k_n + k_{n'}) x} dx \\right) \\left(\n",
    "\\dot a_n \\dot a_{n'} + c^2 k_n k_{n'} a_n a_{n'}\n",
    "\\right) \\\\\n",
    "&= \\frac{1}{2 \\mu_0} \\frac{1}{\\ell} \\sum_{n = -\\infty}^\\infty \\sum_{n' = -\\infty}^\\infty\n",
    "\\delta_{-n, n'} \\left( \\dot a_n \\dot a_{n'} + c^2 k_n k_{n'} a_n a_{n'} \\right) \\\\\n",
    "&= \\frac{1}{2 \\mu_0} \\frac{1}{\\ell} \\sum_{n = -\\infty}^\\infty\n",
    "\\left( \\dot a_n \\dot a^*_n - c^2 k_n^2 a_n a^*_n \\right) \\\\\n",
    "&= \\frac{1}{\\ell} \\sum_{n = -\\infty}^\\infty \\frac{1}{2 \\mu_0}\n",
    "\\left( \\dot a^*_n \\dot a_n - \\omega_n^2 a^*_n a_n \\right) \\\\\n",
    "\\end{split}"
   ]
  },
  {
   "cell_type": "markdown",
   "metadata": {},
   "source": [
    "Let us try to interpret the $a_n$ in terms of real quantites.  Let us say $a^*_n = q_n + i q'_n$.\n",
    "\n",
    "\\begin{split}\n",
    "A(x)\n",
    "&= \\frac{1}{\\ell} \\sum_{n = -\\infty}^\\infty a_n \\left[ \\cos(k_n x) + i \\sin(k_n x) \\right] \\\\\n",
    "&= \\frac{1}{\\ell} \\sum_{n = -\\infty}^\\infty \\left[\n",
    "\\frac{a^*_n + a_n}{2} \\cos(k_n x) + \\frac{a^*_n - a_n}{2 i} \\sin(k_n x) \\right] \\\\\n",
    "&= \\frac{1}{\\ell} \\sum_{n = -\\infty}^\\infty \\left[\n",
    "q_n \\cos(k_n x) + q'_n \\sin(k_n x) \\right]\n",
    "\\end{split}\n",
    "\n",
    "It appears that we have two oscillators, one for the sine term and one for the cosine term.\n",
    "\n",
    "\\begin{split}\n",
    "L &= \\frac{1}{\\ell} \\sum_{n = -\\infty}^\\infty \\frac{1}{2 \\mu_0} \\left[\n",
    "\\left( \\dot q^2_n - \\omega_n^2 q^2_n \\right)\n",
    "+ \\left( \\dot q'^2_n - \\omega_n^2 q'^2_n \\right) \\right] \\\\\n",
    "\\end{split}\n",
    "\n",
    "\n",
    "\n"
   ]
  },
  {
   "cell_type": "markdown",
   "metadata": {},
   "source": []
  },
  {
   "cell_type": "code",
   "execution_count": null,
   "metadata": {
    "collapsed": true
   },
   "outputs": [],
   "source": []
  }
 ],
 "metadata": {
  "kernelspec": {
   "display_name": "Python 3",
   "language": "python",
   "name": "python3"
  },
  "language_info": {
   "codemirror_mode": {
    "name": "ipython",
    "version": 3
   },
   "file_extension": ".py",
   "mimetype": "text/x-python",
   "name": "python",
   "nbconvert_exporter": "python",
   "pygments_lexer": "ipython3",
   "version": "3.6.0"
  }
 },
 "nbformat": 4,
 "nbformat_minor": 2
}
