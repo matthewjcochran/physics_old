{
 "cells": [
  {
   "cell_type": "markdown",
   "metadata": {},
   "source": [
    "The mathematics involved with quantum mechanics is not that difficult.  It is understandable by most second year physics majors.  Quantum field theory is not that much worse.\n",
    "\n",
    "A main difficulty is notation.  It is compact.  You forget what is a function of what.  Also, there is an over emphasis on wave mechanics.  It's misleading.  More progress is made from the Heisenberg picture and it's connection with classical mechanics.\n",
    "\n",
    "On one hand an equation representents and idea or way of thinking, on the other it represents a reprecipe.  Is it possible to have both with careful reasoning."
   ]
  },
  {
   "cell_type": "markdown",
   "metadata": {},
   "source": [
    "<h3>Lagrangian</h3>\n",
    "\n",
    "We are talking about the position of a particle which is a function of time $q(t)$.  Let us consider a Lagrangian $L(q, \\dot q, t)$ which is a function of position and its derivative with time.  Let us define action.\n",
    "\n",
    "\\begin{split}\n",
    "S[q] = \\int_{t_i}^{t_f} L(q, \\dot q, t) dt\n",
    "\\end{split}\n",
    "\n",
    "The principle of least action gives the following.\n",
    "\n",
    "\\begin{split}\n",
    "\\delta S\n",
    "&= \\int_{t_i}^{t_f} \\left( \\frac{\\partial L}{\\partial q} \\delta q\n",
    "+ \\frac{\\partial L}{\\partial \\dot q} \\delta \\dot q \\right) dt \\\\\n",
    "&= \\int_{t_i}^{t_f} \\left( \\frac{\\partial L}{\\partial q} \\delta q\n",
    "+ \\frac{d}{d t} \\left(\\frac{\\partial L}{\\partial \\dot q} \\delta q \\right)\n",
    "- \\left( \\frac{d}{d t} \\frac{\\partial L}{\\partial \\dot q} \\right) \\delta q\\right) dt \\\\\n",
    "&= \\int_{t_i}^{t_f} \\left( \\frac{\\partial L}{\\partial q}\n",
    "- \\frac{d}{d t} \\frac{\\partial L}{\\partial \\dot q} \\right) \\delta q dt\n",
    "+ \\left[\\frac{\\partial L}{\\partial \\dot q} \\delta q \\right]_{t_i}^{t_f}\n",
    "\\end{split}\n",
    "\n",
    "Let us assume the variation is zero and let us assume that there is no variation on the ends.\n",
    "\n",
    "\\begin{split}\n",
    "\\frac{\\partial L}{\\partial q} - \\frac{d}{d t} \\frac{\\partial L}{\\partial \\dot q} = 0 \n",
    "\\end{split}"
   ]
  },
  {
   "cell_type": "markdown",
   "metadata": {
    "collapsed": true
   },
   "source": [
    "<h3>Hamiltonian</h3>\n",
    "\n",
    "Let us introduce the momentum.\n",
    "\n",
    "\\begin{split}\n",
    "p = \\frac{\\partial L}{\\partial \\dot q}\n",
    "\\end{split}\n",
    "\n",
    "Let us consider a Hamilton $H(p, q)$ which is a function of momentum $p$ and position $q$.\n",
    "\n",
    "\\begin{split}\n",
    "H = p \\dot q - L\n",
    "\\end{split}\n",
    "\n",
    "Let us do the differential of each side.  \n",
    "\n",
    "\\begin{gather}\n",
    "dH = d(p \\dot q - L) \\\\\n",
    "\\frac{\\partial H}{\\partial p} dp + \\frac{\\partial H}{\\partial q} dq\n",
    "= \\dot q d p + p d\\dot q\n",
    "- \\frac{\\partial L}{\\partial q} dq - \\frac{\\partial L}{\\partial \\dot q} d \\dot q \\\\\n",
    "\\frac{\\partial H}{\\partial p} dp + \\frac{\\partial H}{\\partial q} dq\n",
    "= \\dot q d p + p d\\dot q - \\dot p dq - p d \\dot q \\\\\n",
    "\\frac{\\partial H}{\\partial p} dp + \\frac{\\partial H}{\\partial q} dq\n",
    "= \\dot q d p - \\dot p dq\n",
    "\\end{gather}\n",
    "\n",
    "Let us equate like terms.\n",
    "\n",
    "\\begin{gather}\n",
    "\\dot q = \\frac{\\partial H}{\\partial p} \\\\\n",
    "\\dot p = - \\frac{\\partial H}{\\partial q} \\\\\n",
    "\\end{gather}\n",
    "\n",
    "We can get the same results by going back to the action approach now with two coordinates.  We imagine\n",
    "$ L( q, p , \\dot q, \\dot p, t ) = p \\dot q - H(p, q) $\n",
    "\n",
    "Let us assume the variation is zero and let us assume that there is no variation on the ends.\n",
    "\n",
    "\\begin{gather}\n",
    "\\frac{\\partial L}{\\partial q} - \\frac{d}{d t} \\frac{\\partial L}{\\partial \\dot q} = 0 \\\\\n",
    "\\frac{\\partial L}{\\partial p} - \\frac{d}{d t} \\frac{\\partial L}{\\partial \\dot p} = 0\n",
    "\\end{gather}\n",
    "\n",
    "Plugging we get the following.\n",
    "\n",
    "\\begin{gather}\n",
    "-\\frac{\\partial H}{\\partial q} - \\dot p = 0 \\\\\n",
    "\\dot q -\\frac{\\partial H}{\\partial p} = 0\n",
    "\\end{gather}\n",
    "\n",
    "We see that the results are the same."
   ]
  },
  {
   "cell_type": "markdown",
   "metadata": {},
   "source": [
    "<h3>Canonical Transformations</h3>\n",
    "\n",
    "First we note the a Lagrangian is not unique.  We can add the time derivative of a function $F(q, t)$ and the equations remain still the same.  This is obvious if we review how Euler's equation was derived.  Let us, however, show it the long way.  Let us consider a transformed Lagrangian.\n",
    "\n",
    "\\begin{split}\n",
    "L' &= L + \\frac{d F}{d t} \\\\\n",
    "&= L + \\frac{\\partial F}{\\partial q} \\dot q + \\frac{\\partial F}{\\partial t}\n",
    "\\end{split}\n",
    "\n",
    "Plugging the $L'$ term into Euler's equation.\n",
    "\n",
    "\\begin{split}\n",
    "\\frac{\\partial}{\\partial q}\n",
    "\\left( L + \\frac{\\partial F}{\\partial q} \\dot q + \\frac{\\partial F}{\\partial t} \\right) \n",
    "- \\frac{d}{d t} \\frac{\\partial}{\\partial \\dot q}\n",
    "\\left( L + \\frac{\\partial F}{\\partial q} \\dot q + \\frac{\\partial F}{\\partial t} \\right) = 0 \n",
    "\\end{split}\n",
    "\n",
    "\\begin{split}\n",
    "\\left( \\frac{\\partial L }{\\partial q} - \\frac{d}{d t} \\frac{\\partial L}{\\partial \\dot q} \\right)\n",
    "+ \\frac{\\partial}{\\partial q}\n",
    "\\left( \\frac{\\partial F}{\\partial q} \\dot q + \\frac{\\partial F}{\\partial t} \\right) \n",
    "- \\frac{d}{d t} \\frac{\\partial}{\\partial \\dot q}\n",
    "\\left( \\frac{\\partial F}{\\partial q} \\dot q + \\frac{\\partial F}{\\partial t} \\right) = 0 \n",
    "\\end{split}\n",
    "\n",
    "\\begin{split}\n",
    "\\left( \\frac{\\partial L}{\\partial q} - \\frac{d}{d t} \\frac{\\partial L}{\\partial \\dot q} \\right)\n",
    "+ \\frac{\\partial}{\\partial q}\n",
    "\\left( \\frac{\\partial F}{\\partial q} \\dot q + \\frac{\\partial F}{\\partial t} \\right) \n",
    "- \\frac{d}{d t}\n",
    "\\left( \\frac{\\partial F}{\\partial q} \\right) = 0 \n",
    "\\end{split}\n",
    "\n",
    "\n",
    "\\begin{split}\n",
    "\\left( \\frac{\\partial L}{\\partial q} - \\frac{d}{d t} \\frac{\\partial L}{\\partial \\dot q} \\right)\n",
    "+ \\left( \\frac{\\partial^2 F}{\\partial q^2} \\dot q + \\frac{\\partial^2 F}{\\partial t \\partial q} \\right) \n",
    "- \\left( \\frac{\\partial^2 F}{\\partial q^2} \\dot q + \\frac{\\partial^2 F}{\\partial t \\partial q} \\right) = 0 \n",
    "\\end{split}\n",
    "\n",
    "\n",
    "\\begin{split}\n",
    "\\frac{\\partial L}{\\partial q} - \\frac{d}{d t} \\frac{\\partial L}{\\partial \\dot q} = 0 \n",
    "\\end{split}\n"
   ]
  },
  {
   "cell_type": "markdown",
   "metadata": {},
   "source": [
    "OK.  Now we can consider the transformation.  The idea is that the Lagrangian must remain the same.  We have $H(q, p)$ and $K(Q, P)$.\n",
    "\n",
    "\\begin{gather}\n",
    "\\dot q p - H = \\dot Q P - K + \\frac{d F}{d t}\n",
    "\\end{gather}"
   ]
  },
  {
   "cell_type": "markdown",
   "metadata": {},
   "source": [
    "Let us consider $F = F_1(q, Q)$.\n",
    "\n",
    "\\begin{gather}\n",
    "\\dot q p - H = \\dot Q P - K\n",
    "+ \\frac{\\partial F_1}{\\partial q} \\dot q + \\frac{\\partial F_1}{\\partial Q} \\dot Q + \\frac{\\partial F_1}{\\partial t}\n",
    "\\end{gather}\n",
    "\n",
    "\\begin{gather}\n",
    "K = H + \\frac{\\partial F_1}{\\partial t} \\qquad\n",
    "p = \\frac{\\partial F_1}{\\partial q} \\qquad\n",
    "P = -\\frac{\\partial F_1}{\\partial Q} \n",
    "\\end{gather}"
   ]
  },
  {
   "cell_type": "markdown",
   "metadata": {},
   "source": [
    "Let us consider $F = F_2(p, P) + p q - P Q$.\n",
    "\n",
    "\\begin{gather}\n",
    "q \\dot p - H = Q \\dot P - K \n",
    "+ \\frac{\\partial F_2}{\\partial p} \\dot p + \\frac{\\partial F_2}{\\partial P} \\dot P + \\frac{\\partial F_2}{\\partial t}\n",
    "\\end{gather}\n",
    "\n",
    "\\begin{gather}\n",
    "K = H + \\frac{\\partial F_2}{\\partial t} \\qquad\n",
    "q = \\frac{\\partial F_2}{\\partial p} \\qquad\n",
    "Q = -\\frac{\\partial F_2}{\\partial P}\n",
    "\\end{gather}"
   ]
  },
  {
   "cell_type": "markdown",
   "metadata": {},
   "source": [
    "Let us consider $F = F_3(q, P) - PQ$.\n",
    "\n",
    "\\begin{gather}\n",
    "\\dot q p - H = Q \\dot P - K \n",
    "+ \\frac{\\partial F_3}{\\partial q} \\dot q + \\frac{\\partial F_3}{\\partial P} \\dot P + \\frac{\\partial F_3}{\\partial t}\n",
    "\\end{gather}\n",
    "\n",
    "\\begin{gather}\n",
    "K = H + \\frac{\\partial F_3}{\\partial t} \\qquad\n",
    "p = \\frac{\\partial F_3}{\\partial q} \\qquad\n",
    "Q = -\\frac{\\partial F_3}{\\partial P} \n",
    "\\end{gather}"
   ]
  },
  {
   "cell_type": "markdown",
   "metadata": {},
   "source": [
    "Let us consider $F = F_4(p, Q) - qp $.\n",
    "\n",
    "\\begin{gather}\n",
    "H + q \\dot  p = K - \\dot Q P\n",
    "+ \\frac{\\partial F_4}{\\partial p} \\dot p + \\frac{\\partial F_4}{\\partial Q} \\dot Q + \\frac{\\partial F_4}{\\partial t}\n",
    "\\end{gather}\n",
    "\n",
    "\\begin{gather}\n",
    "K = H - \\frac{\\partial F_4}{\\partial t} \\qquad\n",
    "q = \\frac{\\partial F_4}{\\partial p} \\qquad\n",
    "P = \\frac{\\partial F_4}{\\partial Q} \n",
    "\\end{gather}"
   ]
  },
  {
   "cell_type": "markdown",
   "metadata": {},
   "source": [
    "Say we want a transformation where\n",
    "\n",
    "\\begin{gather}\n",
    "\\dot P = 0 \\\\\n",
    "\\dot Q = 0\n",
    "\\end{gather}\n",
    "\n",
    "Then we would have the following.\n",
    "\n",
    "\\begin{gather}\n",
    "P = \\alpha \\\\\n",
    "Q = \\beta\n",
    "\\end{gather}\n",
    "\n",
    "We achieve this if $K = 0$.  Seems like there would be four different ways to do this."
   ]
  },
  {
   "cell_type": "markdown",
   "metadata": {},
   "source": [
    "Let us consider $F = F_1(q, Q)$.\n",
    "\n",
    "\\begin{gather}\n",
    "0 = H - \\frac{\\partial F_1}{\\partial t} \\qquad\n",
    "p = -\\frac{\\partial F_1}{\\partial q} \\qquad\n",
    "P = \\frac{\\partial F_1}{\\partial Q} \n",
    "\\end{gather}"
   ]
  },
  {
   "cell_type": "code",
   "execution_count": null,
   "metadata": {
    "collapsed": true
   },
   "outputs": [],
   "source": []
  }
 ],
 "metadata": {
  "kernelspec": {
   "display_name": "Python 3",
   "language": "python",
   "name": "python3"
  },
  "language_info": {
   "codemirror_mode": {
    "name": "ipython",
    "version": 3
   },
   "file_extension": ".py",
   "mimetype": "text/x-python",
   "name": "python",
   "nbconvert_exporter": "python",
   "pygments_lexer": "ipython3",
   "version": "3.6.0"
  }
 },
 "nbformat": 4,
 "nbformat_minor": 2
}
