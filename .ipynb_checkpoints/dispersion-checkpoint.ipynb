{
 "cells": [
  {
   "cell_type": "markdown",
   "metadata": {
    "collapsed": true
   },
   "source": [
    "### Dispersion in nonconductors ###\n",
    "\n",
    "Consider an electron in an electromagnetic wave with dispersion.\n",
    "\n",
    "\\begin{gather}\n",
    "m \\frac{d^2 x}{d t^2} = -m \\omega_0^2 x -m \\gamma \\frac{d x}{d t} + q E\n",
    "\\end{gather}\n",
    "\n",
    "With some algebra, one can show\n",
    "\n",
    "\\begin{gather}\n",
    "\\frac{d^2 x}{d t^2} + \\gamma \\frac{d x}{d t} + \\omega_0^2 x = \\frac{q}{m} E\n",
    "\\end{gather}"
   ]
  },
  {
   "cell_type": "markdown",
   "metadata": {},
   "source": [
    "### Fourier transforms ###\n",
    "\n",
    "These relations are from another file.\n",
    "\n",
    "\\begin{gather}\n",
    "x(t) = \\frac{1}{2 \\pi} \\int_{-\\infty}^{\\infty} \\tilde x(\\omega) e^{i \\omega t} d\\omega \\qquad\n",
    "\\tilde x(\\omega) = \\int_{-\\infty}^{\\infty} x(t) e^{-i \\omega t} dt \\\\\n",
    "E(t) = \\frac{1}{2 \\pi} \\int_{-\\infty}^{\\infty} \\tilde E(\\omega) e^{i \\omega t} d\\omega  \\qquad\n",
    "\\tilde E(\\omega) = \\int_{-\\infty}^{\\infty} E(t) e^{-i \\omega t} dt\n",
    "\\end{gather}"
   ]
  },
  {
   "cell_type": "markdown",
   "metadata": {},
   "source": [
    "### General solution ###\n",
    "\n",
    "Direct substitution gives\n",
    "\n",
    "\\begin{gather}\n",
    "\\tilde x(\\omega) = \\frac{q / m}{\\omega_0^2 - \\omega^2 + i \\gamma \\omega} \\tilde E(\\omega)\n",
    "\\end{gather}\n",
    "\n",
    "Or one can show\n",
    "\n",
    "\\begin{gather}\n",
    "\\tilde x(\\omega) = \\frac{q / m}{[(\\omega_0^2 - \\omega^2)^2\n",
    "+ \\gamma^2 \\omega^2]^{1/2}} \\tilde E(\\omega) e^{-i \\phi(\\omega)}\n",
    "\\quad \\mathrm{where} \\quad\n",
    "\\phi(\\omega) = \\frac{\\gamma \\omega}{\\omega_0^2 - \\omega^2}\n",
    "\\end{gather}"
   ]
  },
  {
   "cell_type": "markdown",
   "metadata": {
    "collapsed": true
   },
   "source": [
    "### Particular solution ###\n",
    "\n",
    "Say that \n",
    "\n",
    "\\begin{gather}\n",
    "E(t) = E_0 \\sin(\\omega t)\n",
    "\\end{gather}"
   ]
  },
  {
   "cell_type": "markdown",
   "metadata": {},
   "source": [
    "\\begin{split}\n",
    "\\tilde E(\\omega')\n",
    "&= \\int_{-\\infty}^{\\infty} E_0 \\sin(\\omega t) e^{-i \\omega' t} dt \\\\\n",
    "&= \\frac{E_0}{2 i} \\int_{-\\infty}^{\\infty} (e^{i \\omega t} - e^{- i \\omega t}) e^{-i \\omega' t} dt \\\\\n",
    "&= \\frac{E_0}{2 i} \\int_{-\\infty}^{\\infty} [e^{i (\\omega - \\omega') t} - e^{-i (\\omega + \\omega') t}] dt \\\\\n",
    "&= i \\pi E_0 [\\delta(\\omega + \\omega') - \\delta(\\omega - \\omega')]\n",
    "\\end{split}"
   ]
  },
  {
   "cell_type": "markdown",
   "metadata": {},
   "source": [
    "\\begin{gather}\n",
    "x(t) = \\frac{1}{2 \\pi} \\int_{-\\infty}^{\\infty}\n",
    "\\frac{q / m}{[(\\omega_0^2 - \\omega'^2)^2\n",
    "+ \\gamma^2 \\omega'^2]^{1/2}}\n",
    "i \\pi E_0 [\\delta(\\omega + \\omega') - \\delta(\\omega - \\omega')]\n",
    "e^{i [\\omega' t - \\phi(\\omega')]} d\\omega' \n",
    "\\end{gather}"
   ]
  },
  {
   "cell_type": "markdown",
   "metadata": {},
   "source": [
    "\\begin{gather}\n",
    "x(t) = \\frac{1}{2} \\int_{-\\infty}^{\\infty}\n",
    "\\frac{i E_0 q / m}{[(\\omega_0^2 - \\omega'^2)^2\n",
    "+ \\gamma^2 \\omega'^2]^{1/2}}\n",
    "[\\delta(\\omega + \\omega') - \\delta(\\omega - \\omega')]\n",
    "e^{i [\\omega' t - \\phi(\\omega')]} d\\omega' \n",
    "\\end{gather}"
   ]
  },
  {
   "cell_type": "markdown",
   "metadata": {},
   "source": [
    "\\begin{gather}\n",
    "x(t)\n",
    "= \\frac{1}{2 i} \\frac{q / m}{[(\\omega_0^2 - \\omega^2)^2 + \\gamma^2 \\omega^2]^{1/2}}\n",
    "E_0 e^{i [\\omega t - \\phi(\\omega)]}\n",
    "- \\frac{1}{2 i} \\frac{q / m}{[(\\omega_0^2 - \\omega^2)^2 + \\gamma^2 \\omega^2]^{1/2}}\n",
    "E_0 e^{i [-\\omega t + \\phi(\\omega)]}\n",
    "\\end{gather}"
   ]
  },
  {
   "cell_type": "markdown",
   "metadata": {},
   "source": [
    "\\begin{gather}\n",
    "x(t) = \\frac{q / m}{[(\\omega_0^2 - \\omega^2)^2 + \\gamma^2 \\omega^2]^{1/2}} E_0 \\sin[ \\omega t - \\phi(\\omega) ]\n",
    "\\end{gather}"
   ]
  },
  {
   "cell_type": "code",
   "execution_count": null,
   "metadata": {
    "collapsed": true
   },
   "outputs": [],
   "source": []
  }
 ],
 "metadata": {
  "kernelspec": {
   "display_name": "Python 3",
   "language": "python",
   "name": "python3"
  },
  "language_info": {
   "codemirror_mode": {
    "name": "ipython",
    "version": 3
   },
   "file_extension": ".py",
   "mimetype": "text/x-python",
   "name": "python",
   "nbconvert_exporter": "python",
   "pygments_lexer": "ipython3",
   "version": "3.6.0"
  }
 },
 "nbformat": 4,
 "nbformat_minor": 2
}
