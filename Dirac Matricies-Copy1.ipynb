{
 "cells": [
  {
   "cell_type": "code",
   "execution_count": 1,
   "metadata": {},
   "outputs": [],
   "source": [
    "import numpy as np\n",
    "import sympy as sp\n",
    "\n",
    "from sympy.physics.matrices import msigma, mgamma\n",
    "from sympy.physics.quantum import TensorProduct\n",
    "\n",
    "i = sp.I\n",
    "eye = sp.eye"
   ]
  },
  {
   "cell_type": "markdown",
   "metadata": {},
   "source": [
    "\\begin{aligned}\n",
    "    \\sigma_1 &= \\begin{pmatrix}\n",
    "        0 & 1 & 0 & 0 \\\\\n",
    "        1 & 0 & 0 & 0 \\\\\n",
    "        0 & 0 & 0 & 1 \\\\\n",
    "        0 & 0 & 1 & 0 \\end{pmatrix} &\n",
    "    \\sigma_2 &= \\begin{pmatrix}\n",
    "        0 & -i &  0 & 0  \\\\\n",
    "        i &  0 &  0 & 0  \\\\\n",
    "        0 &  0 &  0 & -i \\\\\n",
    "        0 &  0 &  i & 0 \\end{pmatrix} &\n",
    "    \\sigma_3 &= \\begin{pmatrix}\n",
    "        1 &  0 & 0 &  0 \\\\\n",
    "        0 & -1 & 0 &  0 \\\\\n",
    "        0 &  0 & 1 &  0 \\\\\n",
    "        0 &  0 & 0 & -1 \\end{pmatrix}\n",
    "\\end{aligned}\n",
    "\n",
    "\\begin{aligned}\n",
    "    \\sigma_1^2 = \\sigma_2^2 = \\sigma_3^2 &= 1 &\n",
    "    \\sigma_1 \\sigma_2 \\sigma_3 = i\n",
    "\\end{aligned}\n",
    "\n",
    "\\begin{aligned}\n",
    "    \\sigma_1 \\sigma_2 &= -\\sigma_2 \\sigma_1 &\n",
    "    \\sigma_2 \\sigma_3 &= -\\sigma_3 \\sigma_2 &\n",
    "    \\sigma_3 \\sigma_1 &= -\\sigma_1 \\sigma_3\n",
    "\\end{aligned}\n",
    "\n",
    "\\begin{aligned}\n",
    "    \\sigma_1 \\sigma_2 &= i \\sigma_3 &\n",
    "    \\sigma_2 \\sigma_3 &= i \\sigma_1 &\n",
    "    \\sigma_3 \\sigma_1 &= i \\sigma_2\n",
    "\\end{aligned}"
   ]
  },
  {
   "cell_type": "code",
   "execution_count": 2,
   "metadata": {},
   "outputs": [
    {
     "name": "stdout",
     "output_type": "stream",
     "text": [
      "True True\n",
      "True True True\n",
      "True True True\n"
     ]
    }
   ],
   "source": [
    "sigma1 = TensorProduct(eye(2), msigma(1))\n",
    "sigma2 = TensorProduct(eye(2), msigma(2))\n",
    "sigma3 = TensorProduct(eye(2), msigma(3))\n",
    "\n",
    "print(\n",
    "    sigma1**2 == sigma1**2 == sigma1**2 == eye(4),\n",
    "    sigma1*sigma2*sigma3 == i*eye(4))\n",
    "print(\n",
    "    sigma1*sigma2 == -sigma2*sigma1,\n",
    "    sigma2*sigma3 == -sigma3*sigma2,\n",
    "    sigma3*sigma1 == -sigma1*sigma3)\n",
    "print(\n",
    "    sigma1*sigma2 == i*sigma3,\n",
    "    sigma2*sigma3 == i*sigma1,\n",
    "    sigma3*sigma1 == i*sigma2)"
   ]
  },
  {
   "cell_type": "markdown",
   "metadata": {},
   "source": [
    "\\begin{aligned}\n",
    "    \\rho_1 &= \\begin{pmatrix}\n",
    "        0 & 0 & 1 & 0 \\\\\n",
    "        0 & 0 & 0 & 1 \\\\\n",
    "        1 & 0 & 0 & 0 \\\\\n",
    "        0 & 1 & 0 & 0 \\end{pmatrix} &\n",
    "    \\rho_2 &= \\begin{pmatrix}\n",
    "        0 & 0 & -i &  0 \\\\\n",
    "        0 & 0 &  0 & -i \\\\\n",
    "        i & 0 &  0 &  0 \\\\\n",
    "        0 & i &  0 &  0 \\end{pmatrix} &\n",
    "    \\rho_3 &= \\begin{pmatrix}\n",
    "        1 & 0 &  0 &  0 \\\\\n",
    "        0 & 1 &  0 &  1 \\\\\n",
    "        0 & 0 & -1 &  0 \\\\\n",
    "        0 & 0 &  0 & -1 \\end{pmatrix}\n",
    "\\end{aligned}\n",
    "\n",
    "\\begin{aligned}\n",
    "    \\rho_1^2 = \\rho_2^2 = \\rho_3^2 &= 1 &\n",
    "    \\rho_1 \\rho_2 \\rho_3 = i\n",
    "\\end{aligned}\n",
    "\n",
    "\\begin{aligned}\n",
    "    \\rho_1 \\rho_2 &= -\\rho_2 \\rho_1 &\n",
    "    \\rho_2 \\rho_3 &= -\\rho_3 \\rho_2 &\n",
    "    \\rho_3 \\rho_1 &= -\\rho_1 \\rho_3\n",
    "\\end{aligned}\n",
    "\n",
    "\\begin{aligned}\n",
    "    \\rho_1 \\rho_2 &= i \\rho_3 &\n",
    "    \\rho_2 \\rho_3 &= i \\rho_1 &\n",
    "    \\rho_3 \\rho_1 &= i \\rho_2\n",
    "\\end{aligned}"
   ]
  },
  {
   "cell_type": "code",
   "execution_count": 3,
   "metadata": {},
   "outputs": [
    {
     "name": "stdout",
     "output_type": "stream",
     "text": [
      "True True\n",
      "True True True\n",
      "True True True\n"
     ]
    }
   ],
   "source": [
    "rho1 = TensorProduct(msigma(1), eye(2))\n",
    "rho2 = TensorProduct(msigma(2), eye(2))\n",
    "rho3 = TensorProduct(msigma(3), eye(2))\n",
    "\n",
    "print(\n",
    "    rho1**2 == rho1**2 == rho1**2 == eye(4),\n",
    "    rho1*rho2*rho3 == i*eye(4))\n",
    "print(\n",
    "    rho1*rho2 == -rho2*rho1,\n",
    "    rho2*rho3 == -rho3*rho2,\n",
    "    rho3*rho1 == -rho1*rho3)\n",
    "print(\n",
    "    rho1*rho2 == i*rho3,\n",
    "    rho2*rho3 == i*rho1,\n",
    "    rho3*rho1 == i*rho2)"
   ]
  },
  {
   "cell_type": "markdown",
   "metadata": {},
   "source": [
    "\\begin{aligned}\n",
    "    \\sigma_1 \\rho_1 &= \\rho_1 \\sigma_1 &\n",
    "    \\sigma_1 \\rho_2 &= \\rho_2 \\sigma_1 &\n",
    "    \\sigma_1 \\rho_3 &= \\rho_3 \\sigma_1 \\\\\n",
    "    \\sigma_2 \\rho_1 &= \\rho_1 \\sigma_2 &\n",
    "    \\sigma_2 \\rho_2 &= \\rho_2 \\sigma_2 &\n",
    "    \\sigma_2 \\rho_3 &= \\rho_3 \\sigma_2 \\\\\n",
    "    \\sigma_3 \\rho_1 &= \\rho_1 \\sigma_3 &\n",
    "    \\sigma_3 \\rho_2 &= \\rho_2 \\sigma_3 &\n",
    "    \\sigma_3 \\rho_3 &= \\rho_3 \\sigma_3\n",
    "\\end{aligned}\n"
   ]
  },
  {
   "cell_type": "code",
   "execution_count": 4,
   "metadata": {},
   "outputs": [
    {
     "name": "stdout",
     "output_type": "stream",
     "text": [
      "True True True\n",
      "True True True\n",
      "True True True\n"
     ]
    }
   ],
   "source": [
    "print(\n",
    "    sigma1*rho1 == rho1*sigma1,\n",
    "    sigma1*rho2 == rho2*sigma1,\n",
    "    sigma1*rho3 == rho3*sigma1)\n",
    "print(\n",
    "    sigma2*rho1 == rho1*sigma2,\n",
    "    sigma2*rho2 == rho2*sigma2,\n",
    "    sigma2*rho3 == rho3*sigma2)\n",
    "print(\n",
    "    sigma3*rho1 == rho1*sigma3,\n",
    "    sigma3*rho2 == rho2*sigma3,\n",
    "    sigma3*rho3 == rho3*sigma3)"
   ]
  },
  {
   "cell_type": "markdown",
   "metadata": {},
   "source": [
    "\\begin{aligned}\n",
    "    \\alpha_0 &= \\rho_3 &\n",
    "    \\alpha_1 &= \\rho_1 \\sigma_1 &\n",
    "    \\alpha_2 &= \\rho_1 \\sigma_2 &\n",
    "    \\alpha_3 &= \\rho_1 \\sigma_3\n",
    "\\end{aligned}\n",
    "\n",
    "\\begin{aligned}\n",
    "    \\alpha_0 &= \\begin{pmatrix}\n",
    "        1 & 0 &  0 &  0 \\\\\n",
    "        0 & 1 &  0 &  0 \\\\\n",
    "        0 & 0 & -1 &  0 \\\\\n",
    "        0 & 0 &  0 & -1 \\end{pmatrix} &\n",
    "    \\alpha_1 &= \\begin{pmatrix}\n",
    "        0 & 0 & 0 & 1 \\\\\n",
    "        0 & 0 & 1 & 0 \\\\\n",
    "        0 & 1 & 0 & 0 \\\\\n",
    "        1 &  0 & 0 & 0 \\end{pmatrix}\n",
    "\\end{aligned}\n",
    "\n",
    "\\begin{aligned}\n",
    "    \\alpha_2 &= \\begin{pmatrix}\n",
    "        0 &  0 & 0 & -i \\\\\n",
    "        0 &  0 & i &  0 \\\\\n",
    "        0 & -i & 0 &  0 \\\\\n",
    "        i &  0 & 0 &  0 \\end{pmatrix} &\n",
    "    \\alpha_3 &= \\begin{pmatrix}\n",
    "        0 &  0 & 1 &  0 \\\\\n",
    "        0 &  0 & 0 & -1 \\\\\n",
    "        1 &  0 & 0 &  0 \\\\\n",
    "        0 & -1 & 0 &  0 \\end{pmatrix}\n",
    "\\end{aligned}\n",
    "\n",
    "\\begin{aligned}\n",
    "    \\alpha_0^2 = \\alpha_1^2 = \\alpha_2^2 = \\alpha_3^2 = 1\n",
    "\\end{aligned}\n",
    "\n",
    "\\begin{aligned}\n",
    "    \\alpha_0 \\alpha_1 &= -\\alpha_1 \\alpha_0 &\n",
    "    \\alpha_0 \\alpha_2 &= -\\alpha_2 \\alpha_0 &\n",
    "    \\alpha_0 \\alpha_3 &= -\\alpha_3 \\alpha_0 \\\\\n",
    "    \\alpha_1 \\alpha_2 &= -\\alpha_2 \\alpha_1 &\n",
    "    \\alpha_2 \\alpha_3 &= -\\alpha_3 \\alpha_2 &\n",
    "    \\alpha_3 \\alpha_1 &= -\\alpha_1 \\alpha_3\n",
    "\\end{aligned}"
   ]
  },
  {
   "cell_type": "code",
   "execution_count": 5,
   "metadata": {},
   "outputs": [
    {
     "name": "stdout",
     "output_type": "stream",
     "text": [
      "True\n",
      "True True True\n",
      "True True True\n"
     ]
    }
   ],
   "source": [
    "alpha0 = rho3\n",
    "alpha1 = rho1*sigma1\n",
    "alpha2 = rho1*sigma2\n",
    "alpha3 = rho1*sigma3\n",
    "\n",
    "print(\n",
    "    alpha0**2 == alpha1**2 == alpha2**2 == alpha3**2 == eye(4))\n",
    "print(\n",
    "    alpha0*alpha1 == -alpha1*alpha0,\n",
    "    alpha0*alpha2 == -alpha2*alpha0,\n",
    "    alpha0*alpha3 == -alpha3*alpha0)\n",
    "print(\n",
    "    alpha1*alpha2 == -alpha2*alpha1,\n",
    "    alpha2*alpha3 == -alpha3*alpha2,\n",
    "    alpha3*alpha1 == -alpha1*alpha3)"
   ]
  },
  {
   "cell_type": "markdown",
   "metadata": {},
   "source": [
    "\\begin{aligned}\n",
    "    \\gamma^0 &= \\alpha_0 &\n",
    "    \\gamma^1 &= \\alpha_0 \\alpha_1 &\n",
    "    \\gamma^2 &= \\alpha_0 \\alpha_2 &\n",
    "    \\gamma^3 &= \\alpha_0 \\alpha_3\n",
    "\\end{aligned}\n",
    "\n",
    "\\begin{aligned}\n",
    "    \\gamma^0 &= \\begin{pmatrix}\n",
    "        1 & 0 &  0 &  0 \\\\\n",
    "        0 & 1 &  0 &  0 \\\\\n",
    "        0 & 0 & -1 &  0 \\\\\n",
    "        0 & 0 &  0 & -1 \\end{pmatrix} &\n",
    "    \\gamma^1 &= \\begin{pmatrix}\n",
    "         0 &  0 & 0 & 1 \\\\\n",
    "         0 &  0 & 1 & 0 \\\\\n",
    "         0 & -1 & 0 & 0 \\\\\n",
    "        -1 &  0 & 0 & 0 \\end{pmatrix}\n",
    "\\end{aligned}\n",
    "\n",
    "\\begin{aligned}\n",
    "    \\gamma^2 &= \\begin{pmatrix}\n",
    "         0 & 0 & 0 & -i \\\\\n",
    "         0 & 0 & i &  0 \\\\\n",
    "         0 & i & 0 &  0 \\\\\n",
    "        -i & 0 & 0 &  0 \\end{pmatrix} &\n",
    "    \\gamma^3 &= \\begin{pmatrix}\n",
    "         0 & 0 & 1 &  0 \\\\\n",
    "         0 & 0 & 0 & -1 \\\\\n",
    "        -1 & 0 & 0 &  0 \\\\\n",
    "         0 & 1 & 0 &  0 \\end{pmatrix}\n",
    "\\end{aligned}\n",
    "\n",
    "\\begin{aligned}\n",
    "    (\\gamma^0)^2 = -(\\gamma^1)^2 = -(\\gamma^2)^2 = -(\\gamma^3)^2 = 1\n",
    "\\end{aligned}\n",
    "\n",
    "\\begin{aligned}\n",
    "    \\gamma^0 \\gamma^1 &= -\\gamma^1 \\gamma^0 &\n",
    "    \\gamma^0 \\gamma^2 &= -\\gamma^2 \\gamma^0 &\n",
    "    \\gamma^0 \\gamma^3 &= -\\gamma^3 \\gamma^0 \\\\\n",
    "    \\gamma^1 \\gamma^2 &= -\\gamma^2 \\gamma^1 &\n",
    "    \\gamma^2 \\gamma^3 &= -\\gamma^3 \\gamma^2 &\n",
    "    \\gamma^3 \\gamma^1 &= -\\gamma^1 \\gamma^3\n",
    "\\end{aligned}"
   ]
  },
  {
   "cell_type": "code",
   "execution_count": 6,
   "metadata": {},
   "outputs": [
    {
     "name": "stdout",
     "output_type": "stream",
     "text": [
      "True\n",
      "True True True\n",
      "True True True\n"
     ]
    }
   ],
   "source": [
    "gamma0 = alpha0\n",
    "gamma1 = alpha0*alpha1\n",
    "gamma2 = alpha0*alpha2\n",
    "gamma3 = alpha0*alpha3\n",
    "\n",
    "print(\n",
    "    gamma0**2 == -gamma1**2 == -gamma1**2 == -gamma1**2 == eye(4))\n",
    "print(\n",
    "    gamma0*gamma1 == -gamma1*gamma0,\n",
    "    gamma0*gamma2 == -gamma2*gamma0,\n",
    "    gamma0*gamma3 == -gamma3*gamma0)\n",
    "print(\n",
    "    gamma1*gamma2 == -gamma2*gamma1,\n",
    "    gamma2*gamma3 == -gamma3*gamma2,\n",
    "    gamma3*gamma1 == -gamma1*gamma3)"
   ]
  },
  {
   "cell_type": "code",
   "execution_count": 7,
   "metadata": {},
   "outputs": [
    {
     "name": "stdout",
     "output_type": "stream",
     "text": [
      "True True True True\n"
     ]
    }
   ],
   "source": [
    "print(\n",
    "    gamma0 == mgamma(0),\n",
    "    gamma1 == mgamma(1),\n",
    "    gamma2 == mgamma(2),\n",
    "    gamma3 == mgamma(3))"
   ]
  },
  {
   "cell_type": "markdown",
   "metadata": {},
   "source": [
    "\\begin{aligned}\n",
    "    i' = \\alpha_1 \\alpha_2 \\alpha_3\n",
    "\\end{aligned}\n",
    "\n",
    "\\begin{aligned}\n",
    "    i' &= \\begin{pmatrix}\n",
    "        0 & 0 & i & 0 \\\\\n",
    "        0 & 0 & 0 & i \\\\\n",
    "        i & 0 & 0 & 0 \\\\\n",
    "        0 & i & 0 & 0 \\end{pmatrix}\n",
    "\\end{aligned}\n",
    "\n",
    "\\begin{aligned}\n",
    "    (i')^2 = -1\n",
    "\\end{aligned}\n",
    "\n",
    "\\begin{aligned}\n",
    "    \\alpha_1 \\alpha_2 &= i' \\alpha_3 &\n",
    "    \\alpha_2 \\alpha_3 &= i' \\alpha_1 &\n",
    "    \\alpha_3 \\alpha_1 &= i' \\alpha_2\n",
    "\\end{aligned}"
   ]
  },
  {
   "cell_type": "code",
   "execution_count": 8,
   "metadata": {},
   "outputs": [
    {
     "name": "stdout",
     "output_type": "stream",
     "text": [
      "True\n",
      "True True True\n"
     ]
    }
   ],
   "source": [
    "iprime = alpha1*alpha2*alpha3\n",
    "\n",
    "print(\n",
    "    iprime**2 == -eye(4))\n",
    "print(\n",
    "    alpha1*alpha2 == iprime*alpha3,\n",
    "    alpha2*alpha3 == iprime*alpha1,\n",
    "    alpha3*alpha1 == iprime*alpha2)"
   ]
  },
  {
   "cell_type": "markdown",
   "metadata": {},
   "source": [
    "\\begin{aligned}\n",
    "    \\gamma^0 \\gamma^1 &= \\alpha_1 &\n",
    "    \\gamma^2 \\gamma^3 &= -i' \\alpha_1 &\n",
    "    \\gamma_0 \\gamma_2 \\gamma_3 = i' \\gamma_1 \\\\\n",
    "    \\gamma^0 \\gamma^2 &= \\alpha_2 &\n",
    "    \\gamma^3 \\gamma^1 &= -i' \\alpha_2 &\n",
    "    \\gamma_0 \\gamma_3 \\gamma_1 = i' \\gamma_2 \\\\\n",
    "    \\gamma^0 \\gamma^3 &= \\alpha_3 &\n",
    "    \\gamma^1 \\gamma^2 &= -i' \\alpha_3 &\n",
    "    \\gamma_0 \\gamma_1 \\gamma_2 = i' \\gamma_3\n",
    "\\end{aligned}\n",
    "\n",
    "\\begin{aligned}\n",
    "    \\gamma^1 \\gamma^2 \\gamma^3 &= i' \\gamma_0 &\n",
    "    \\gamma^0 \\gamma^1 \\gamma^2 \\gamma^3 &= -i'\n",
    "\\end{aligned}"
   ]
  },
  {
   "cell_type": "code",
   "execution_count": 9,
   "metadata": {},
   "outputs": [
    {
     "name": "stdout",
     "output_type": "stream",
     "text": [
      "True True True\n",
      "True True True\n",
      "True True True\n",
      "True True\n"
     ]
    }
   ],
   "source": [
    "print(\n",
    "    gamma0*gamma1 == alpha1,\n",
    "    gamma2*gamma3 == -iprime*alpha1,\n",
    "    gamma0*gamma2*gamma3 == iprime*gamma1)\n",
    "print(\n",
    "    gamma0*gamma2 == alpha2,\n",
    "    gamma3*gamma1 == -iprime*alpha2,\n",
    "    gamma0*gamma3*gamma1 == iprime*gamma2)\n",
    "print(\n",
    "    gamma0*gamma3 == alpha3,\n",
    "    gamma1*gamma2 == -iprime*alpha3,\n",
    "    gamma0*gamma1*gamma2 == iprime*gamma3)\n",
    "print(\n",
    "    gamma1*gamma2*gamma3 == iprime*gamma0,\n",
    "    gamma0*gamma1*gamma2*gamma3 == -iprime)"
   ]
  },
  {
   "cell_type": "markdown",
   "metadata": {},
   "source": [
    "\\begin{aligned}\n",
    "    A &= \\alpha_1 A_1 + \\alpha_2 A_2 + \\alpha_3 A_3 \\\\\n",
    "    B &= \\alpha_1 B_1 + \\alpha_2 B_2 + \\alpha_3 B_3\n",
    "\\end{aligned}\n",
    "\n",
    "\\begin{aligned}\n",
    "    A B &= A_1 B_1 + A_2 B_2 + A_3 B_3 \\\\\n",
    "    &+ (A_2 B_3 - A_3 B_2)\\ \\alpha_2 \\alpha_3 \\\\\n",
    "    &+ (A_3 B_1 - A_1 B_3)\\ \\alpha_3 \\alpha_1 \\\\\n",
    "    &+ (A_1 B_2 - A_2 B_1)\\ \\alpha_1 \\alpha_2\n",
    "\\end{aligned}\n",
    "\n",
    "\\begin{aligned}\n",
    "    A B = A \\cdot B + i' A \\times B\n",
    "\\end{aligned}"
   ]
  },
  {
   "cell_type": "code",
   "execution_count": 10,
   "metadata": {},
   "outputs": [
    {
     "data": {
      "text/plain": [
       "True"
      ]
     },
     "execution_count": 10,
     "metadata": {},
     "output_type": "execute_result"
    }
   ],
   "source": [
    "A1, A2, A3 = sp.symbols('A_1 A_2 A_3', real=True)\n",
    "B1, B2, B3 = sp.symbols('B_1 B_2 B_3', real=True)\n",
    "\n",
    "A = A1*alpha1 + A2*alpha2 + A3*alpha3\n",
    "B = B1*alpha1 + B2*alpha2 + B3*alpha3\n",
    "left = (A*B).expand()\n",
    "\n",
    "AoB = (A1*B1 + A2*B2 + A3*B3)*eye(4)\n",
    "AxB = (A2*B3 - A3*B2)*alpha1 + (A3*B1 - A1*B3)*alpha2 + (A1*B2 - A2*B1)*alpha3\n",
    "right = (AoB + iprime*AxB).expand()\n",
    "\n",
    "left == right"
   ]
  },
  {
   "cell_type": "markdown",
   "metadata": {},
   "source": [
    "\\begin{aligned}\n",
    "    i_1 &= -i' \\alpha_1 &\n",
    "    i_2 &= -i' \\alpha_2 &\n",
    "    i_3 &= -i' \\alpha_3\n",
    "\\end{aligned}\n",
    "\n",
    "\n",
    "\\begin{aligned}\n",
    "    i_1 &= \\begin{pmatrix}\n",
    "         0 & -i &  0 &  0 \\\\\n",
    "        -i &  0 &  0 &  0 \\\\\n",
    "         0 &  0 &  0 & -i \\\\\n",
    "         0 &  0 & -i &  0 \\end{pmatrix} &\n",
    "    i_2 &= \\begin{pmatrix}\n",
    "        0 & -1 &  0 &  0 \\\\\n",
    "        1 &  0 &  0 &  0 \\\\\n",
    "        0 &  0 &  0 & -1 \\\\\n",
    "        0 &  0 &  1 &  0 \\end{pmatrix} &\n",
    "    i_3 &= \\begin{pmatrix}\n",
    "        -i & 0 &  0 & 0 \\\\\n",
    "         0 & i &  0 & 0 \\\\\n",
    "         0 & 0 & -i & 0 \\\\\n",
    "         0 & 0 &  0 & i \\end{pmatrix}\n",
    "\\end{aligned}\n",
    "\n",
    "\\begin{aligned}\n",
    "    i_1^2 = i_2^2 = i_3^2 &= -1 &\n",
    "    i_1 i_2 i_3 = -1\n",
    "\\end{aligned}\n",
    "\n",
    "\\begin{aligned}\n",
    "    i_1 i_2 &= -i_2 i_1 &\n",
    "    i_2 i_3 &= -i_3 i_2 &\n",
    "    i_3 i_1 &= -i_1 i_3\n",
    "\\end{aligned}\n",
    "\n",
    "\\begin{aligned}\n",
    "    i_1 i_2 &= i_3 &\n",
    "    i_2 i_3 &= i_1 &\n",
    "    i_3 i_1 &= i_2\n",
    "\\end{aligned}"
   ]
  },
  {
   "cell_type": "code",
   "execution_count": 11,
   "metadata": {},
   "outputs": [
    {
     "name": "stdout",
     "output_type": "stream",
     "text": [
      "True True\n",
      "True True True\n",
      "True True True\n"
     ]
    }
   ],
   "source": [
    "i1 = -iprime*alpha1\n",
    "i2 = -iprime*alpha2\n",
    "i3 = -iprime*alpha3\n",
    "\n",
    "print(\n",
    "    i1**2 == i2**2 == i3**2 == -1*eye(4),\n",
    "    i1*i2*i3 == -1*eye(4))\n",
    "print(\n",
    "    i1*i2 == -i2*i1,\n",
    "    i2*i3 == -i3*i2,\n",
    "    i3*i1 == -i1*i3)\n",
    "print(\n",
    "    i1*i2 == i3,\n",
    "    i2*i3 == i1,\n",
    "    i3*i1 == i2)"
   ]
  },
  {
   "cell_type": "markdown",
   "metadata": {},
   "source": [
    "\\begin{aligned}\n",
    "    a &= i_1 a_1 + i_2 a_2 + i_3 a_3 \\\\\n",
    "    b &= i_1 b_1 + i_2 b_2 + i_3 b_3\n",
    "\\end{aligned}\n",
    "\n",
    "\\begin{aligned}\n",
    "    a b &= -a_1 b_1 - a_2 b_2 - a_3 b_3 \\\\\n",
    "    &+ (a_2 b_3 - a_3 b_2)\\ i_2 i_3 \\\\\n",
    "    &+ (a_3 b_1 - a_1 b_3)\\ i_3 i_1 \\\\\n",
    "    &+ (a_1 b_2 - a_2 b_1)\\ i_1 i_2\n",
    "\\end{aligned}\n",
    "\n",
    "\\begin{aligned}\n",
    "    a b = -a \\cdot b + a \\times b\n",
    "\\end{aligned}"
   ]
  },
  {
   "cell_type": "code",
   "execution_count": 12,
   "metadata": {},
   "outputs": [
    {
     "data": {
      "text/plain": [
       "True"
      ]
     },
     "execution_count": 12,
     "metadata": {},
     "output_type": "execute_result"
    }
   ],
   "source": [
    "a1, a2, a3 = sp.symbols('a_1 a_2 a_3', real=True)\n",
    "b1, b2, b3 = sp.symbols('b_1 b_2 b_3', real=True)\n",
    "\n",
    "a = a1*i1 + a2*i2 + a3*i3\n",
    "b = b1*i1 + b2*i2 + b3*i3\n",
    "left = (a*b).expand()\n",
    "\n",
    "aob = (a1*b1 + a2*b2 + a3*b3)*eye(4)\n",
    "axb = (a2*b3 - a3*b2)*i1 + (a3*b1 - a1*b3)*i2 + (a1*b2 - a2*b1)*i3\n",
    "right = (-aob + axb).expand()\n",
    "\n",
    "left == right"
   ]
  },
  {
   "cell_type": "code",
   "execution_count": null,
   "metadata": {},
   "outputs": [],
   "source": []
  },
  {
   "cell_type": "code",
   "execution_count": null,
   "metadata": {},
   "outputs": [],
   "source": []
  },
  {
   "cell_type": "code",
   "execution_count": null,
   "metadata": {},
   "outputs": [],
   "source": []
  }
 ],
 "metadata": {
  "kernelspec": {
   "display_name": "Python 3",
   "language": "python",
   "name": "python3"
  },
  "language_info": {
   "codemirror_mode": {
    "name": "ipython",
    "version": 3
   },
   "file_extension": ".py",
   "mimetype": "text/x-python",
   "name": "python",
   "nbconvert_exporter": "python",
   "pygments_lexer": "ipython3",
   "version": "3.8.5"
  }
 },
 "nbformat": 4,
 "nbformat_minor": 4
}
