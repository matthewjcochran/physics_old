{
 "cells": [
  {
   "cell_type": "code",
   "execution_count": null,
   "id": "9d077066-4590-4645-9b87-5c06f5d3897c",
   "metadata": {},
   "outputs": [],
   "source": []
  },
  {
   "cell_type": "code",
   "execution_count": null,
   "id": "13d5f82d-9efe-423b-a905-42eaad04d7d2",
   "metadata": {},
   "outputs": [],
   "source": []
  },
  {
   "cell_type": "markdown",
   "id": "936031cd-03a0-4eb8-a5ac-2f51ad064677",
   "metadata": {},
   "source": [
    "$$ E = -\\nabla V - \\partial_t A $$\n",
    "\n",
    "$$ B = \\nabla \\times A $$"
   ]
  },
  {
   "cell_type": "markdown",
   "id": "b503c439-bbef-4731-ad34-a14e3afb5d4f",
   "metadata": {},
   "source": [
    "$$ E^2\n",
    "= (\\partial_x V + \\partial_t A_x)^2\n",
    "+ (\\partial_y V + \\partial_t A_y)^2\n",
    "+ (\\partial_z V + \\partial_t A_z)^2\n",
    "$$\n",
    "\n",
    "$$ B^2\n",
    "= (\\partial_y A_z - \\partial_z A_y)^2\n",
    "+ (\\partial_z A_x - \\partial_x A_z)^2\n",
    "+ (\\partial_x A_y - \\partial_y A_x)^2\n",
    "$$"
   ]
  },
  {
   "cell_type": "markdown",
   "id": "8c1d90f8-6a41-4e96-be79-d453f6011897",
   "metadata": {},
   "source": [
    "\\begin{align}\n",
    "E^2 &= (\\partial_x V)^2 + (\\partial_y V)^2 + (\\partial_z V)^2 \\\\\n",
    "    &+ 2 (\\partial_x V)(\\partial_t A_x) + 2 (\\partial_y V)(\\partial_t A_y) + 2 (\\partial_z V)(\\partial_t A_z) \\\\\n",
    "    &+ (\\partial_t A_x)^2 + (\\partial_t A_y)^2 + (\\partial_t A_z)^2 \\\\\n",
    "\\end{align}"
   ]
  },
  {
   "cell_type": "markdown",
   "id": "ecf278d8-9953-44a4-a3f9-cb41138fd51d",
   "metadata": {},
   "source": [
    "\\begin{align}\n",
    "B^2 &= (\\partial_y A_z)^2 + (\\partial_z A_x)^2 + (\\partial_x A_y)^2 \\\\\n",
    "    &- 2 (\\partial_y A_z)(\\partial_z A_y) - 2 (\\partial_z A_z)(\\partial_z A_z) - 2 (\\partial_x A_y)(\\partial_y A_x) \\\\\n",
    "    &+ (\\partial_z A_y)^2 + (\\partial_x A_z)^2 + (\\partial_y A_x)^2 \\\\\n",
    "\\end{align}"
   ]
  },
  {
   "cell_type": "markdown",
   "id": "4f5804eb-c8ad-49ec-942d-957ba1d781bf",
   "metadata": {},
   "source": [
    "\\begin{align}\n",
    "E^2 - B^2 \n",
    "    &= (\\partial_x V)^2 + (\\partial_y V)^2 + (\\partial_z V)^2 \\\\\n",
    "    &+ (\\partial_t A_x)^2 + (\\partial_t A_y)^2 + (\\partial_t A_z)^2 \\\\\n",
    "    &- (\\partial_y A_z)^2 - (\\partial_z A_x)^2 - (\\partial_x A_y)^2 \\\\\n",
    "    &- (\\partial_z A_y)^2 - (\\partial_x A_z)^2 - (\\partial_y A_x)^2 \\\\\n",
    "    &+ 2 (\\partial_x V)(\\partial_t A_x) + 2 (\\partial_y V)(\\partial_t A_y) + 2 (\\partial_z V)(\\partial_t A_z) \\\\\n",
    "    &+ 2 (\\partial_y A_z)(\\partial_z A_y) + 2 (\\partial_z A_z)(\\partial_z A_z) + 2 (\\partial_x A_y)(\\partial_y A_x) \\\\\n",
    "\\end{align}"
   ]
  },
  {
   "cell_type": "markdown",
   "id": "e9ee4463-3de0-40dc-ab47-fbecf12adb2d",
   "metadata": {},
   "source": [
    "\\begin{align}\n",
    "E^2 - B^2 \n",
    "    &= (\\partial_x V)^2 + (\\partial_y V)^2 + (\\partial_z V)^2 \\\\\n",
    "    &- (\\partial_y A_x)^2 - (\\partial_z A_x)^2 + (\\partial_t A_x)^2 \\\\\n",
    "    &- (\\partial_x A_y)^2 - (\\partial_z A_y)^2 + (\\partial_t A_y)^2 \\\\\n",
    "    &- (\\partial_x A_z)^2 - (\\partial_y A_z)^2 + (\\partial_t A_z)^2 \\\\\n",
    "    &+ 2 (\\partial_x V)(\\partial_t A_x) + 2 (\\partial_y V)(\\partial_t A_y) + 2 (\\partial_z V)(\\partial_t A_z) \\\\\n",
    "    &+ 2 (\\partial_y A_z)(\\partial_z A_y) + 2 (\\partial_z A_z)(\\partial_z A_z) + 2 (\\partial_x A_y)(\\partial_y A_x) \\\\\n",
    "\\end{align}"
   ]
  },
  {
   "cell_type": "markdown",
   "id": "434d3002-10f3-4694-ac5b-0da246fc4a0f",
   "metadata": {},
   "source": [
    "\\begin{align}\n",
    "E^2 - B^2 \n",
    "    &= (\\partial_x V)^2 + (\\partial_y V)^2 + (\\partial_z V)^2 - (\\partial_t V)^2 \\\\\n",
    "    &- (\\partial_x A_x)^2 - (\\partial_y A_x)^2 - (\\partial_z A_x)^2 + (\\partial_t A_x)^2 \\\\\n",
    "    &- (\\partial_x A_y)^2 - (\\partial_y A_y)^2 - (\\partial_z A_y)^2 + (\\partial_t A_y)^2 \\\\\n",
    "    &- (\\partial_x A_z)^2 - (\\partial_y A_z)^2 - (\\partial_z A_z)^2 + (\\partial_t A_z)^2 \\\\\n",
    "    &+ (\\partial_t V)^2 + (\\partial_y A_x)^2 + (\\partial_y A_y)^2 + (\\partial_z A_z)^2 \\\\\n",
    "    &+ 2 (\\partial_x V)(\\partial_t A_x) + 2 (\\partial_y V)(\\partial_t A_y) + 2 (\\partial_z V)(\\partial_t A_z) \\\\\n",
    "    &+ 2 (\\partial_y A_z)(\\partial_z A_y) + 2 (\\partial_z A_z)(\\partial_z A_z) + 2 (\\partial_x A_y)(\\partial_y A_x) \\\\\n",
    "\\end{align}"
   ]
  },
  {
   "cell_type": "markdown",
   "id": "c1006de6-1799-41b7-bf6b-e19674d31e63",
   "metadata": {},
   "source": [
    "\\begin{align}\n",
    "(\\partial_t V + \\partial_x A_x + \\partial_y A_y + \\partial_z A_z)^2\n",
    "&= (\\partial_t V)(\\partial_t V) + (\\partial_t V)(\\partial_x A_x) + (\\partial_t V)(\\partial_y A_y) + (\\partial_t V)(\\partial_z A_z) \\\\\n",
    "&+ (\\partial_x A_x)(\\partial_t V) + (\\partial_x A_x)(\\partial_x A_x) + (\\partial_x A_x)(\\partial_y A_y) + (\\partial_x A_x)(\\partial_z A_z) \\\\\n",
    "&+ (\\partial_y A_y)(\\partial_t V) + (\\partial_y A_y)(\\partial_x A_x) + (\\partial_y A_y)(\\partial_y A_y) + (\\partial_y A_y)(\\partial_z A_z) \\\\\n",
    "&+ (\\partial_z A_z)(\\partial_t V) + (\\partial_z A_z)(\\partial_x A_x) + (\\partial_z A_z)(\\partial_y A_y) + (\\partial_z A_z)(\\partial_z A_z) \\\\\n",
    "\\end{align}"
   ]
  },
  {
   "cell_type": "markdown",
   "id": "98f98142-a3d3-4e92-98c1-6a7ba9bed3dd",
   "metadata": {},
   "source": [
    "\\begin{align}\n",
    "(\\partial_t V + \\partial_x A_x + \\partial_y A_y + \\partial_z A_z)^2\n",
    "&= (\\partial_t V)^2 + (\\partial_x A_x)^2 + (\\partial_y A_y)^2 + (\\partial_z A_z)^2 \\\\\n",
    "&+ 2(\\partial_t V)(\\partial_x A_x) + 2(\\partial_t V)(\\partial_y A_y) + 2(\\partial_t V)(\\partial_z A_z) \\\\\n",
    "&+ 2(\\partial_x A_x)(\\partial_y A_y) + 2(\\partial_y A_y)(\\partial_z A_z) + 2(\\partial_z A_z)(\\partial_x A_x) \\\\\n",
    "\\end{align}"
   ]
  },
  {
   "cell_type": "markdown",
   "id": "281a3273-4343-4ff0-bfd8-bbb4100724bc",
   "metadata": {},
   "source": [
    "\\begin{align}\n",
    "E^2 - B^2 \n",
    "    &= (\\partial_x V)^2 + (\\partial_y V)^2 + (\\partial_z V)^2 - (\\partial_t V)^2 \\\\\n",
    "    &- (\\partial_x A_x)^2 - (\\partial_y A_x)^2 - (\\partial_z A_x)^2 + (\\partial_t A_x)^2 \\\\\n",
    "    &- (\\partial_x A_y)^2 - (\\partial_y A_y)^2 - (\\partial_z A_y)^2 + (\\partial_t A_y)^2 \\\\\n",
    "    &- (\\partial_x A_z)^2 - (\\partial_y A_z)^2 - (\\partial_z A_z)^2 + (\\partial_t A_z)^2 \\\\\n",
    "    &+ (\\partial_t V + \\partial_x A_x + \\partial_y A_y + \\partial_z A_z)^2 \\\\\n",
    "    &+ 2 (\\partial_x V)(\\partial_t A_x) + 2 (\\partial_y V)(\\partial_t A_y) + 2 (\\partial_z V)(\\partial_t A_z) \\\\\n",
    "    &- 2(\\partial_t V)(\\partial_x A_x) - 2(\\partial_t V)(\\partial_y A_y) - 2(\\partial_t V)(\\partial_z A_z) \\\\\n",
    "    &+ 2 (\\partial_y A_z)(\\partial_z A_y) + 2 (\\partial_z A_z)(\\partial_z A_z) + 2 (\\partial_x A_y)(\\partial_y A_x) \\\\\n",
    "    &- 2(\\partial_x A_x)(\\partial_y A_y) - 2(\\partial_y A_y)(\\partial_z A_z) - 2(\\partial_z A_z)(\\partial_x A_x) \\\\\n",
    "\\end{align}"
   ]
  },
  {
   "cell_type": "markdown",
   "id": "1d85a698-f787-460c-b2d9-a61f48f1e838",
   "metadata": {},
   "source": [
    "\\begin{align}\n",
    "E^2 - B^2 \n",
    "    &= (\\partial_x V)^2 + (\\partial_y V)^2 + (\\partial_z V)^2 - (\\partial_t V)^2 \\\\\n",
    "    &- (\\partial_x A_x)^2 - (\\partial_y A_x)^2 - (\\partial_z A_x)^2 + (\\partial_t A_x)^2 \\\\\n",
    "    &- (\\partial_x A_y)^2 - (\\partial_y A_y)^2 - (\\partial_z A_y)^2 + (\\partial_t A_y)^2 \\\\\n",
    "    &- (\\partial_x A_z)^2 - (\\partial_y A_z)^2 - (\\partial_z A_z)^2 + (\\partial_t A_z)^2 \\\\\n",
    "    &+ (\\partial_t V + \\partial_x A_x + \\partial_y A_y + \\partial_z A_z)^2 \\\\\n",
    "    &+ 2 (\\partial_x V)(\\partial_t A_x) - 2(\\partial_t V)(\\partial_x A_x) \\\\\n",
    "    &+ 2 (\\partial_y V)(\\partial_t A_y) - 2(\\partial_t V)(\\partial_y A_y) \\\\\n",
    "    &+ 2 (\\partial_z V)(\\partial_t A_z) - 2(\\partial_t V)(\\partial_z A_z) \\\\\n",
    "    &+ 2 (\\partial_x A_y)(\\partial_y A_x) - 2(\\partial_x A_x)(\\partial_y A_y) \\\\\n",
    "    &+ 2 (\\partial_y A_z)(\\partial_z A_y) - 2(\\partial_y A_y)(\\partial_z A_z) \\\\\n",
    "    &+ 2 (\\partial_z A_x)(\\partial_x A_z) - 2(\\partial_z A_z)(\\partial_x A_x) \\\\\n",
    "\\end{align}"
   ]
  },
  {
   "cell_type": "markdown",
   "id": "e7f9d113-ca63-4590-ba67-03e6d68e7451",
   "metadata": {},
   "source": [
    "\\begin{align}\n",
    "E^2 - B^2 \n",
    "    &= (\\partial_x V)^2 + (\\partial_y V)^2 + (\\partial_z V)^2 - (\\partial_t V)^2 \\\\\n",
    "    &- (\\partial_x A_x)^2 - (\\partial_y A_x)^2 - (\\partial_z A_x)^2 + (\\partial_t A_x)^2 \\\\\n",
    "    &- (\\partial_x A_y)^2 - (\\partial_y A_y)^2 - (\\partial_z A_y)^2 + (\\partial_t A_y)^2 \\\\\n",
    "    &- (\\partial_x A_z)^2 - (\\partial_y A_z)^2 - (\\partial_z A_z)^2 + (\\partial_t A_z)^2 \\\\\n",
    "    &+ (\\partial_t V + \\partial_x A_x + \\partial_y A_y + \\partial_z A_z)^2 \\\\\n",
    "    &+ 2 (\\partial_x V)(\\partial_t A_x) - 2(\\partial_t V)(\\partial_x A_x) \\\\\n",
    "    &+ 2 (\\partial_y V)(\\partial_t A_y) - 2(\\partial_t V)(\\partial_y A_y) \\\\\n",
    "    &+ 2 (\\partial_z V)(\\partial_t A_z) - 2(\\partial_t V)(\\partial_z A_z) \\\\\n",
    "    &+ 2 (\\partial_x A_y)(\\partial_y A_x) - 2 (\\partial_y A_y)(\\partial_x A_x) \\\\\n",
    "    &+ 2 (\\partial_y A_z)(\\partial_z A_y) - 2 (\\partial_z A_z)(\\partial_y A_y) \\\\\n",
    "    &+ 2 (\\partial_z A_x)(\\partial_x A_z) - 2 (\\partial_x A_x)(\\partial_z A_z) \\\\\n",
    "\\end{align}"
   ]
  },
  {
   "cell_type": "markdown",
   "id": "1e05d947-56b7-4ca2-be52-d3173e6642e1",
   "metadata": {},
   "source": [
    "\\begin{align}\n",
    "E^2 - B^2 \n",
    "    &= (\\partial_x V)^2 + (\\partial_y V)^2 + (\\partial_z V)^2 - (\\partial_t V)^2 \\\\\n",
    "    &- (\\partial_x A_x)^2 - (\\partial_y A_x)^2 - (\\partial_z A_x)^2 + (\\partial_t A_x)^2 \\\\\n",
    "    &- (\\partial_x A_y)^2 - (\\partial_y A_y)^2 - (\\partial_z A_y)^2 + (\\partial_t A_y)^2 \\\\\n",
    "    &- (\\partial_x A_z)^2 - (\\partial_y A_z)^2 - (\\partial_z A_z)^2 + (\\partial_t A_z)^2 \\\\\n",
    "    &+ (\\partial_t V + \\partial_x A_x + \\partial_y A_y + \\partial_z A_z)^2 \\\\\n",
    "    &+ 2 \\partial_x (V \\partial_t A_x) - 2 \\partial_t(V \\partial_x A_x) \\\\\n",
    "    &+ 2 \\partial_y (V \\partial_t A_y) - 2 \\partial_t(V \\partial_y A_y) \\\\\n",
    "    &+ 2 \\partial_z (V \\partial_t A_z) - 2 \\partial_t(V \\partial_z A_z) \\\\\n",
    "    &+ 2 \\partial_x (A_y \\partial_y A_x) - 2 \\partial_y (A_y \\partial_x A_x) \\\\\n",
    "    &+ 2 \\partial_y (A_z \\partial_z A_y) - 2 \\partial_z (A_z \\partial_y A_y) \\\\\n",
    "    &+ 2 \\partial_z (A_x \\partial_x A_z) - 2 \\partial_x (A_x \\partial_z A_z) \\\\\n",
    "\\end{align}"
   ]
  },
  {
   "cell_type": "markdown",
   "id": "ee741837-6f7b-4f57-9f87-1bbc925c8110",
   "metadata": {},
   "source": [
    "\\begin{align}\n",
    "E^2 - B^2 \n",
    "    &= (\\partial_x V)^2 + (\\partial_y V)^2 + (\\partial_z V)^2 - (\\partial_t V)^2 \\\\\n",
    "    &- (\\partial_x A_x)^2 - (\\partial_y A_x)^2 - (\\partial_z A_x)^2 + (\\partial_t A_x)^2 \\\\\n",
    "    &- (\\partial_x A_y)^2 - (\\partial_y A_y)^2 - (\\partial_z A_y)^2 + (\\partial_t A_y)^2 \\\\\n",
    "    &- (\\partial_x A_z)^2 - (\\partial_y A_z)^2 - (\\partial_z A_z)^2 + (\\partial_t A_z)^2 \\\\\n",
    "    &+ (\\partial_t V + \\partial_x A_x + \\partial_y A_y + \\partial_z A_z)^2 \\\\\n",
    "    &- 2 \\partial_t (V \\partial_x A_x + V \\partial_y A_y + V \\partial_z A_z) \\\\\n",
    "    &+ 2 \\partial_x (V \\partial_t A_x + A_y \\partial_y A_x - A_x \\partial_z A_z) \\\\\n",
    "    &+ 2 \\partial_y (V \\partial_t A_y + A_z \\partial_z A_y - A_y \\partial_x A_x) \\\\\n",
    "    &+ 2 \\partial_z (V \\partial_t A_z + A_x \\partial_x A_z - A_z \\partial_y A_y) \\\\\n",
    "\\end{align}"
   ]
  },
  {
   "cell_type": "code",
   "execution_count": null,
   "id": "15da1712-7725-411e-a3f6-3553f7e509ec",
   "metadata": {},
   "outputs": [],
   "source": []
  },
  {
   "cell_type": "code",
   "execution_count": null,
   "id": "cac6bf7f-ff19-476b-8d54-36780651374d",
   "metadata": {},
   "outputs": [],
   "source": []
  },
  {
   "cell_type": "code",
   "execution_count": null,
   "id": "62b9cfba-8540-4090-a4a9-719193eafacf",
   "metadata": {},
   "outputs": [],
   "source": []
  },
  {
   "cell_type": "code",
   "execution_count": null,
   "id": "f6d61b7e-bbb4-41e8-a28e-da434b94e5b1",
   "metadata": {},
   "outputs": [],
   "source": []
  },
  {
   "cell_type": "code",
   "execution_count": null,
   "id": "8f514d4a-0691-4a07-bfb2-45293d0606a8",
   "metadata": {},
   "outputs": [],
   "source": []
  },
  {
   "cell_type": "code",
   "execution_count": null,
   "id": "023753d9-1d2f-4b7a-b41b-409c1e0cb09a",
   "metadata": {},
   "outputs": [],
   "source": []
  },
  {
   "cell_type": "code",
   "execution_count": null,
   "id": "8eeec2f4-2d36-47dc-b0c7-a8a7dd6695d8",
   "metadata": {},
   "outputs": [],
   "source": []
  }
 ],
 "metadata": {
  "kernelspec": {
   "display_name": "Python 3 (ipykernel)",
   "language": "python",
   "name": "python3"
  },
  "language_info": {
   "codemirror_mode": {
    "name": "ipython",
    "version": 3
   },
   "file_extension": ".py",
   "mimetype": "text/x-python",
   "name": "python",
   "nbconvert_exporter": "python",
   "pygments_lexer": "ipython3",
   "version": "3.12.4"
  }
 },
 "nbformat": 4,
 "nbformat_minor": 5
}
