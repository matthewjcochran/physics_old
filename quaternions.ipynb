{
 "cells": [
  {
   "cell_type": "code",
   "execution_count": null,
   "metadata": {},
   "outputs": [],
   "source": [
    "import numpy as np\n",
    "import sympy as sp"
   ]
  },
  {
   "cell_type": "code",
   "execution_count": null,
   "metadata": {},
   "outputs": [],
   "source": [
    "i = sp.I"
   ]
  },
  {
   "cell_type": "markdown",
   "metadata": {},
   "source": [
    "### Pauli Matricies\n",
    "\n",
    "\\begin{equation*}\n",
    "    \\pmb{\\sigma}_1 =\n",
    "    \\begin{pmatrix}\n",
    "    0 & 1 \\\\\n",
    "    1 & 0\n",
    "    \\end{pmatrix}\n",
    "    \\qquad\n",
    "    \\pmb{\\sigma}_2 =\n",
    "    \\begin{pmatrix}\n",
    "    0 & -i \\\\\n",
    "    i & 0\n",
    "    \\end{pmatrix}\n",
    "    \\qquad\n",
    "    \\pmb{\\sigma}_3 =\n",
    "    \\begin{pmatrix}\n",
    "    1 & 0 \\\\\n",
    "    0 & -1\n",
    "    \\end{pmatrix}\n",
    "\\end{equation*}\n",
    "\n",
    "\\begin{equation}\n",
    "    \\pmb{\\sigma}_1^2\n",
    "    = \\pmb{\\sigma}_2^2\n",
    "    = \\pmb{\\sigma}_3^2\n",
    "    = \\pmb{1}\n",
    "    \\qquad\n",
    "    \\pmb{\\sigma}_1 \\pmb{\\sigma}_2 \\pmb{\\sigma}_3\n",
    "    = i \\pmb{1}\n",
    "\\end{equation}\n",
    "\n",
    "\\begin{equation}\n",
    "    \\pmb{\\sigma}_1 \\pmb{\\sigma}_2 = i \\pmb{\\sigma}_3\n",
    "    \\qquad\n",
    "    \\pmb{\\sigma}_2 \\pmb{\\sigma}_3 = i \\pmb{\\sigma}_1\n",
    "    \\qquad\n",
    "    \\pmb{\\sigma}_3 \\pmb{\\sigma}_1 = i \\pmb{\\sigma}_2\n",
    "\\end{equation}\n",
    "\n",
    "\\begin{equation}\n",
    "    \\pmb{\\sigma}_1 \\pmb{\\sigma}_2 = -\\pmb{\\sigma}_2 \\pmb{\\sigma}_1\n",
    "    \\qquad\n",
    "    \\pmb{\\sigma}_2 \\pmb{\\sigma}_3 = -\\pmb{\\sigma}_3 \\pmb{\\sigma}_2\n",
    "    \\qquad\n",
    "    \\pmb{\\sigma}_3 \\pmb{\\sigma}_1 = -\\pmb{\\sigma}_1 \\pmb{\\sigma}_3\n",
    "\\end{equation}\n",
    "\n"
   ]
  },
  {
   "cell_type": "code",
   "execution_count": null,
   "metadata": {},
   "outputs": [],
   "source": [
    "S1 = sp.Matrix([[0,  1], [1,  0]])\n",
    "S2 = sp.Matrix([[0, -i], [i,  0]])\n",
    "S3 = sp.Matrix([[1,  0], [0, -1]])\n",
    "\n",
    "S1*S2*S3"
   ]
  },
  {
   "cell_type": "markdown",
   "metadata": {},
   "source": [
    "### Quaternions"
   ]
  },
  {
   "cell_type": "markdown",
   "metadata": {},
   "source": [
    "\\begin{equation}\n",
    "\\pmb{i} = -i \\pmb{\\sigma}_1\n",
    "\\qquad\n",
    "\\pmb{j} = -i \\pmb{\\sigma}_2\n",
    "\\qquad\n",
    "\\pmb{k} = -i \\pmb{\\sigma}_3\n",
    "\\end{equation}\n",
    "\n",
    "\\begin{equation}\n",
    "    \\pmb{i}^2 = \\pmb{j}^2 = \\pmb{k}^2\n",
    "    = \\pmb{i} \\pmb{j} \\pmb{k}\n",
    "    = -\\pmb{1}\n",
    "\\end{equation}\n",
    "\n",
    "\\begin{equation}\n",
    "    \\pmb{i}\\pmb{j} = \\pmb{k}\n",
    "    \\qquad\n",
    "    \\pmb{j}\\pmb{k} = \\pmb{i}\n",
    "    \\qquad\n",
    "    \\pmb{k}\\pmb{i} = \\pmb{j}\n",
    "\\end{equation}\n",
    "\n",
    "\\begin{equation}\n",
    "    \\pmb{i}\\pmb{j} = -\\pmb{j}\\pmb{i}\n",
    "    \\qquad\n",
    "    \\pmb{j}\\pmb{k} = -\\pmb{k}\\pmb{j}\n",
    "    \\qquad\n",
    "    \\pmb{k}\\pmb{i} = -\\pmb{i}\\pmb{k}\n",
    "\\end{equation}"
   ]
  },
  {
   "cell_type": "code",
   "execution_count": null,
   "metadata": {},
   "outputs": [],
   "source": [
    "I = -i*S1\n",
    "J = -i*S2\n",
    "K = -i*S3\n",
    "\n",
    "I*J*K"
   ]
  },
  {
   "cell_type": "markdown",
   "metadata": {},
   "source": [
    "### Gamma matricies"
   ]
  },
  {
   "cell_type": "markdown",
   "metadata": {},
   "source": [
    "\\begin{equation}\n",
    "    \\gamma^0 =\n",
    "    \\begin{pmatrix}\n",
    "    \\pmb{1} & \\pmb{0} \\\\\n",
    "    \\pmb{0} & \\pmb{-1}\n",
    "    \\end{pmatrix}\n",
    "    \\qquad\n",
    "    \\gamma^1 =\n",
    "    \\begin{pmatrix}\n",
    "    \\pmb{0} & \\pmb{\\sigma}_1 \\\\\n",
    "    -\\pmb{\\sigma}_1 & \\pmb{0}\n",
    "    \\end{pmatrix}\n",
    "    \\qquad\n",
    "    \\gamma^2 =\n",
    "    \\begin{pmatrix}\n",
    "    \\pmb{0} & \\pmb{\\sigma}_2 \\\\\n",
    "    -\\pmb{\\sigma}_2 & \\pmb{0}\n",
    "    \\end{pmatrix}\n",
    "    \\qquad\n",
    "    \\gamma^3 =\n",
    "    \\begin{pmatrix}\n",
    "    \\pmb{0} & \\pmb{\\sigma}_3 \\\\\n",
    "    -\\pmb{\\sigma}_3 & \\pmb{0}\n",
    "    \\end{pmatrix}\n",
    "\\end{equation}\n",
    "\n",
    "\\begin{equation}\n",
    "    (\\gamma^0)^2 = -(\\gamma^1)^2 = -(\\gamma^2)^2 = -(\\gamma^3)^2 = 1\n",
    "\\end{equation}\n",
    "\n",
    "\\begin{equation}\n",
    "    \\gamma^0\\gamma^1 = -\\gamma^1\\gamma^0\n",
    "    \\qquad\n",
    "    \\gamma^0\\gamma^2 = -\\gamma^2\\gamma^0\n",
    "    \\qquad\n",
    "    \\gamma^0\\gamma^3 = -\\gamma^3\\gamma^0\n",
    "\\end{equation}\n",
    "\n",
    "\\begin{equation}\n",
    "    \\gamma^1\\gamma^2 = -\\gamma^2\\gamma^1\n",
    "    \\qquad\n",
    "    \\gamma^2\\gamma^3 = -\\gamma^3\\gamma^2\n",
    "    \\qquad\n",
    "    \\gamma^3\\gamma^1 = -\\gamma^1\\gamma^3\n",
    "\\end{equation}"
   ]
  },
  {
   "cell_type": "code",
   "execution_count": null,
   "metadata": {},
   "outputs": [],
   "source": [
    "OO = sp.Matrix([[1,  0], [0, 1]])\n",
    "ZZ = sp.Matrix([[0,  0], [0, 0]])\n",
    "\n",
    "g0 = sp.Matrix([[OO, ZZ], [ ZZ, -OO]])\n",
    "g1 = sp.Matrix([[ZZ, S1], [-S1,  ZZ]])\n",
    "g2 = sp.Matrix([[ZZ, S2], [-S2,  ZZ]])\n",
    "g3 = sp.Matrix([[ZZ, S3], [-S3,  ZZ]])"
   ]
  },
  {
   "cell_type": "code",
   "execution_count": null,
   "metadata": {},
   "outputs": [],
   "source": []
  },
  {
   "cell_type": "code",
   "execution_count": null,
   "metadata": {},
   "outputs": [],
   "source": [
    "g0*g1"
   ]
  },
  {
   "cell_type": "code",
   "execution_count": null,
   "metadata": {},
   "outputs": [],
   "source": [
    "g1*g3"
   ]
  },
  {
   "cell_type": "code",
   "execution_count": null,
   "metadata": {},
   "outputs": [],
   "source": []
  }
 ],
 "metadata": {
  "kernelspec": {
   "display_name": "Python 3",
   "language": "python",
   "name": "python3"
  },
  "language_info": {
   "codemirror_mode": {
    "name": "ipython",
    "version": 3
   },
   "file_extension": ".py",
   "mimetype": "text/x-python",
   "name": "python",
   "nbconvert_exporter": "python",
   "pygments_lexer": "ipython3",
   "version": "3.8.5"
  }
 },
 "nbformat": 4,
 "nbformat_minor": 4
}
