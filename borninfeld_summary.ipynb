{
 "cells": [
  {
   "cell_type": "code",
   "execution_count": 1,
   "metadata": {},
   "outputs": [],
   "source": [
    "import sympy as sp\n",
    "from scipy.constants import pi, c, epsilon_0, mu_0, e, m_e"
   ]
  },
  {
   "cell_type": "markdown",
   "metadata": {},
   "source": [
    "# REVIEW\n",
    "\n",
    "We follow the paper by Born and Infeld, but with SI units and modern notation. The final result for $E_{max} = b c$ matches with Wikipedia."
   ]
  },
  {
   "cell_type": "markdown",
   "metadata": {},
   "source": [
    "## General\n",
    "\n",
    "\\begin{gather}\n",
    "    \\nabla \\cdot B = 0 \\vphantom{\\frac{\\partial B}{\\partial t}}\n",
    "    \\qquad\n",
    "    \\nabla \\times E + \\dfrac{\\partial B}{\\partial t} = 0\n",
    "\\end{gather}\n",
    "\n",
    "\\begin{gather}\n",
    "    \\mathcal{L}(E, B)\n",
    "\\end{gather}\n",
    "\n",
    "\\begin{gather}\n",
    "    D =  \\frac{\\partial \\mathcal{L}}{\\partial E}\n",
    "    \\qquad\n",
    "    H = -\\frac{\\partial \\mathcal{L}}{\\partial B}\n",
    "\\end{gather}\n",
    "\n",
    "\\begin{gather}\n",
    "    \\nabla \\cdot D = 0 \\vphantom{\\frac{\\partial B}{\\partial t}}\n",
    "    \\qquad\n",
    "    \\nabla \\times H - \\dfrac{\\partial D}{\\partial t} = 0\n",
    "\\end{gather}"
   ]
  },
  {
   "cell_type": "markdown",
   "metadata": {},
   "source": [
    "## Born-Infeld\n",
    "\n",
    "\\begin{gather}\n",
    "    \\nabla \\cdot B = 0 \\vphantom{\\frac{\\partial B}{\\partial t}}\n",
    "    \\qquad\n",
    "    \\nabla \\times E + \\dfrac{\\partial B}{\\partial t} = 0\n",
    "\\end{gather}\n",
    "\n",
    "\\begin{gather}\n",
    "    \\mathcal{F} = \\frac{E^2/c^2 - B^2}{b^2}\n",
    "    \\qquad\n",
    "    \\mathcal{G} = \\frac{E/c \\cdot B}{b^2}\n",
    "\\end{gather}\n",
    "\n",
    "\\begin{gather}\n",
    "    \\mathcal{L} = \\frac{b^2}{\\mu_0} \\big( 1 - \\sqrt{1 - \\mathcal{F} - \\mathcal{G}^2} \\big)\n",
    "\\end{gather}\n",
    "\n",
    "\\begin{gather}\n",
    "    c D = \\frac{1}{\\mu_0} \\frac{E/c + \\mathcal{G} B}{\\sqrt{1 - \\mathcal{F} - \\mathcal{G}^2}}\n",
    "    \\qquad\n",
    "    H = \\frac{1}{\\mu_0} \\frac{B - \\mathcal{G} E/c}{\\sqrt{1 - \\mathcal{F} - \\mathcal{G}^2}}\n",
    "\\end{gather}\n",
    "\n",
    "\\begin{gather}\n",
    "    \\nabla \\cdot D = 0 \\vphantom{\\frac{\\partial B}{\\partial t}}\n",
    "    \\qquad\n",
    "    \\nabla \\times H - \\dfrac{\\partial D}{\\partial t} = 0\n",
    "\\end{gather}"
   ]
  },
  {
   "cell_type": "markdown",
   "metadata": {},
   "source": [
    "## Invert\n",
    "\n",
    "\\begin{gather}\n",
    "    \\mathcal{P} = \\mu_0^2 \\frac{c^2 D^2 - H^2}{b^2}\n",
    "    \\qquad\n",
    "    \\mathcal{Q} = \\mu_0^2 \\frac{c D \\cdot H}{b^2}\n",
    "\\end{gather}\n",
    "\n",
    "\\begin{gather}\n",
    "    \\mathcal{P} = \\frac{\\mathcal{F} + 4 \\mathcal{G}^2 - \\mathcal{F} \\mathcal{G}^2}\n",
    "        {1 - \\mathcal{F} - \\mathcal{G}^2}\n",
    "    \\qquad\n",
    "    \\mathcal{Q} = \\mathcal{G}\n",
    "\\end{gather}\n",
    "\n",
    "\\begin{gather}\n",
    "    \\mathcal{F} = \\frac{\\mathcal{P} - 4 \\mathcal{Q}^2 - \\mathcal{P} \\mathcal{Q}^2}\n",
    "        {1 + \\mathcal{P} - \\mathcal{Q}^2}\n",
    "        \\qquad\n",
    "    \\mathcal{G} = \\mathcal{Q}\n",
    "\\end{gather}\n",
    "\n",
    "\\begin{gather}\n",
    "    E/c = \\mu_0 \\frac{c D - \\mathcal{G} H}{\\sqrt{1 + \\mathcal{P} - \\mathcal{Q}^2}}\n",
    "    \\qquad\n",
    "    B = \\mu_0 \\frac{H + \\mathcal{G} c D}{\\sqrt{1 + \\mathcal{P} - \\mathcal{Q}^2}}\n",
    "\\end{gather}"
   ]
  },
  {
   "cell_type": "markdown",
   "metadata": {},
   "source": [
    "## Electron\n",
    "\n",
    "\\begin{gather}\n",
    "    D = \\frac{e}{4 \\pi r^2} \\hat r\n",
    "\\end{gather}\n",
    "\n",
    "\\begin{gather}\n",
    "    E = \\frac{e}{4 \\pi \\epsilon_0} \\sqrt{\\frac{1}{r^4 + r_0^4}} \\hat r\n",
    "    \\qquad\n",
    "    r_0^2 = \\frac{\\mu_0 c}{b} \\frac{e}{4 \\pi}\n",
    "\\end{gather}\n",
    "\n",
    "\\begin{gather}\n",
    "    U = E \\cdot D - \\mathcal{L}\n",
    "\\end{gather}\n",
    "\n",
    "\\begin{gather}\n",
    "    \\int_0^\\infty U \\ 4 \\pi r^2 dr = \\frac{1}{4 \\pi \\epsilon_0} \\frac{e^2}{r_0} (I_1 - I_2)\n",
    "\\end{gather}\n",
    "\n",
    "\\begin{gather}\n",
    "    I_1 = \\int_0^\\infty \\sqrt{\\frac{1}{1 + x^4}} dx\n",
    "    \\qquad\n",
    "    I_2 = \\int_0^\\infty \\Bigg(1 - \\sqrt{\\frac{x^4}{1 + x^4}} \\Bigg) x^2 dx\n",
    "\\end{gather}\n",
    "\n",
    "\\begin{gather}\n",
    "    I_1 - I_2 = \\frac{2}{3} I_1\n",
    "    \\qquad\n",
    "    I_1 = \\frac{\\Gamma^2(1/4)}{4 \\sqrt{\\pi}}\n",
    "\\end{gather}\n",
    "\n",
    "\\begin{gather}\n",
    "    \\int_0^\\infty U \\ 4 \\pi r^2 dr = m c^2\n",
    "\\end{gather}\n",
    "\n",
    "\\begin{gather}\n",
    "    r_0 = \\frac{I_1}{6 \\pi} \\frac{\\mu_0 e^2}{m}\n",
    "    \\qquad\n",
    "    b c = \\frac{1}{4 \\pi \\epsilon_0} \\frac{e}{r_0^2}\n",
    "\\end{gather}\n",
    "\n",
    "\\begin{gather}\n",
    "    r_0 = 3.483 \\times 10^{-15} \\mathrm{m}\n",
    "    \\qquad\n",
    "    b c = 1.187 \\times 10^{20} \\mathrm{V/m}\n",
    "\\end{gather}"
   ]
  },
  {
   "cell_type": "markdown",
   "metadata": {},
   "source": [
    "## Calculations"
   ]
  },
  {
   "cell_type": "code",
   "execution_count": 2,
   "metadata": {},
   "outputs": [
    {
     "data": {
      "text/latex": [
       "$\\displaystyle \\frac{\\Gamma^{2}\\left(\\frac{1}{4}\\right)}{4 \\sqrt{\\pi}}$"
      ],
      "text/plain": [
       "gamma(1/4)**2/(4*sqrt(pi))"
      ]
     },
     "metadata": {},
     "output_type": "display_data"
    },
    {
     "data": {
      "text/latex": [
       "$\\displaystyle 3.483 \\cdot 10^{-15}$"
      ],
      "text/plain": [
       "3.483e-15"
      ]
     },
     "metadata": {},
     "output_type": "display_data"
    },
    {
     "data": {
      "text/latex": [
       "$\\displaystyle 1.187 \\cdot 10^{20}$"
      ],
      "text/plain": [
       "1.187e+20"
      ]
     },
     "metadata": {},
     "output_type": "display_data"
    }
   ],
   "source": [
    "x = sp.Symbol('x')\n",
    "I_1 = sp.integrate(sp.sqrt(1/(1 + x**4)), (x, 0 , sp.oo))\n",
    "display(I_1)\n",
    "\n",
    "r_0 = sp.N(I_1)/6/pi*mu_0*e**2/m_e\n",
    "display(sp.N(r_0, 4))\n",
    "\n",
    "bc = mu_0*c**2/r_0**2*e/4/pi\n",
    "display(sp.N(bc, 4))"
   ]
  },
  {
   "cell_type": "code",
   "execution_count": null,
   "metadata": {},
   "outputs": [],
   "source": []
  },
  {
   "cell_type": "code",
   "execution_count": null,
   "metadata": {},
   "outputs": [],
   "source": []
  },
  {
   "cell_type": "code",
   "execution_count": null,
   "metadata": {},
   "outputs": [],
   "source": []
  },
  {
   "cell_type": "code",
   "execution_count": null,
   "metadata": {},
   "outputs": [],
   "source": []
  },
  {
   "cell_type": "code",
   "execution_count": null,
   "metadata": {},
   "outputs": [],
   "source": []
  }
 ],
 "metadata": {
  "kernelspec": {
   "display_name": "Python 3",
   "language": "python",
   "name": "python3"
  },
  "language_info": {
   "codemirror_mode": {
    "name": "ipython",
    "version": 3
   },
   "file_extension": ".py",
   "mimetype": "text/x-python",
   "name": "python",
   "nbconvert_exporter": "python",
   "pygments_lexer": "ipython3",
   "version": "3.8.5"
  }
 },
 "nbformat": 4,
 "nbformat_minor": 2
}
