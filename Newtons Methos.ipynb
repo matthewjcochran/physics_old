{
 "cells": [
  {
   "cell_type": "code",
   "execution_count": 5,
   "metadata": {},
   "outputs": [
    {
     "name": "stdout",
     "output_type": "stream",
     "text": [
      "n    xn       f(xn)    df(xn)   f/df     1 - f/df\n",
      "   1   1.0000  -1.0000   2.0000  -0.5000   1.5000\n",
      "   2   1.5000   0.2500   3.0000   0.0833   1.4167\n",
      "   3   1.4167   0.0069   2.8333   0.0025   1.4142\n",
      "   4   1.4142   0.0000   2.8284   0.0000   1.4142\n",
      "   5   1.4142   0.0000   2.8284   0.0000   1.4142\n",
      "   6   1.4142   0.0000   2.8284   0.0000   1.4142\n",
      "   7   1.4142  -0.0000   2.8284  -0.0000   1.4142\n",
      "   8   1.4142   0.0000   2.8284   0.0000   1.4142\n",
      "   9   1.4142  -0.0000   2.8284  -0.0000   1.4142\n"
     ]
    }
   ],
   "source": [
    "import numpy as np\n",
    "\n",
    "def  f(x): return x**2 - 2.0\n",
    "def df(x): return 2*x\n",
    "x  = 1.0\n",
    "\n",
    "print('{:4} {:8} {:8} {:8} {:8} {:8}'.format('n', 'xn', 'f(xn)', 'df(xn)', 'f/df', '1 - f/df'))\n",
    "\n",
    "for n in range (1, 10):\n",
    "    print('{:>4d} {:>8.4f} {:>8.4f} {:>8.4f} {:>8.4f} {:>8.4f}'.format(n, x, f(x), df(x), f(x)/df(x), x - f(x)/df(x)))\n",
    "    x = x - f(x)/df(x)"
   ]
  },
  {
   "cell_type": "code",
   "execution_count": 6,
   "metadata": {},
   "outputs": [
    {
     "name": "stdout",
     "output_type": "stream",
     "text": [
      "n    xn       f(xn)    df(xn)   f/df     1 - f/df\n",
      "   1   1.0000   1.0000   7.0000   0.1429   0.8571\n",
      "   2   0.8571   0.1695   4.7230   0.0359   0.8213\n",
      "   3   0.8213   0.0088   4.2390   0.0021   0.8192\n",
      "   4   0.8192   0.0000   4.2120   0.0000   0.8192\n",
      "   5   0.8192   0.0000   4.2119   0.0000   0.8192\n",
      "   6   0.8192  -0.0000   4.2119  -0.0000   0.8192\n",
      "   7   0.8192   0.0000   4.2119   0.0000   0.8192\n",
      "   8   0.8192   0.0000   4.2119   0.0000   0.8192\n",
      "   9   0.8192   0.0000   4.2119   0.0000   0.8192\n"
     ]
    }
   ],
   "source": [
    "import numpy as np\n",
    "\n",
    "def  f(x): return x**4 + x**3 - 1\n",
    "def df(x): return 4*x**3 + 3*x**2\n",
    "x  = 1.0\n",
    "\n",
    "print('{:4} {:8} {:8} {:8} {:8} {:8}'.format('n', 'xn', 'f(xn)', 'df(xn)', 'f/df', '1 - f/df'))\n",
    "\n",
    "for n in range (1, 10):\n",
    "    print('{:>4d} {:>8.4f} {:>8.4f} {:>8.4f} {:>8.4f} {:>8.4f}'.format(n, x, f(x), df(x), f(x)/df(x), x - f(x)/df(x)))\n",
    "    x = x - f(x)/df(x)"
   ]
  },
  {
   "cell_type": "code",
   "execution_count": 4,
   "metadata": {},
   "outputs": [
    {
     "name": "stdout",
     "output_type": "stream",
     "text": [
      "n    xn       f(xn)    df(xn)   f/df     1 - f/df\n",
      "   1   1.0000  -0.8415  -1.5403   0.5463   0.4537\n",
      "   2   0.4537   0.1080  -1.8988  -0.0569   0.5106\n",
      "   3   0.5106   0.0007  -1.8725  -0.0004   0.5110\n",
      "   4   0.5110   0.0000  -1.8723  -0.0000   0.5110\n",
      "   5   0.5110   0.0000  -1.8723  -0.0000   0.5110\n",
      "   6   0.5110  -0.0000  -1.8723   0.0000   0.5110\n",
      "   7   0.5110  -0.0000  -1.8723   0.0000   0.5110\n",
      "   8   0.5110  -0.0000  -1.8723   0.0000   0.5110\n",
      "   9   0.5110  -0.0000  -1.8723   0.0000   0.5110\n"
     ]
    }
   ],
   "source": [
    "import numpy as np\n",
    "\n",
    "def  f(x): return 1 - x - np.sin(x)\n",
    "def df(x): return   - 1 - np.cos(x)\n",
    "x  = 1.0\n",
    "\n",
    "print('{:4} {:8} {:8} {:8} {:8} {:8}'.format('n', 'xn', 'f(xn)', 'df(xn)', 'f/df', '1 - f/df'))\n",
    "\n",
    "for n in range (1, 10):\n",
    "    print('{:>4d} {:>8.4f} {:>8.4f} {:>8.4f} {:>8.4f} {:>8.4f}'.format(n, x, f(x), df(x), f(x)/df(x), x - f(x)/df(x)))\n",
    "    x = x - f(x)/df(x)"
   ]
  }
 ],
 "metadata": {
  "kernelspec": {
   "display_name": "Python 3",
   "language": "python",
   "name": "python3"
  },
  "language_info": {
   "codemirror_mode": {
    "name": "ipython",
    "version": 3
   },
   "file_extension": ".py",
   "mimetype": "text/x-python",
   "name": "python",
   "nbconvert_exporter": "python",
   "pygments_lexer": "ipython3",
   "version": "3.6.4"
  }
 },
 "nbformat": 4,
 "nbformat_minor": 2
}
