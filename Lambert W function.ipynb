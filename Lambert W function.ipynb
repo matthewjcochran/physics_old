{
 "cells": [
  {
   "cell_type": "code",
   "execution_count": 1,
   "metadata": {},
   "outputs": [],
   "source": [
    "from numpy import pi, exp, real\n",
    "from scipy.constants import physical_constants\n",
    "from scipy.special import lambertw\n",
    "from fractions import Fraction"
   ]
  },
  {
   "cell_type": "markdown",
   "metadata": {},
   "source": [
    "$$ \\alpha = \\frac{1}{4\\pi\\epsilon_0} \\frac{e^2}{\\hbar c} $$"
   ]
  },
  {
   "cell_type": "code",
   "execution_count": 2,
   "metadata": {},
   "outputs": [
    {
     "data": {
      "text/plain": [
       "137.0359990836958"
      ]
     },
     "metadata": {},
     "output_type": "display_data"
    },
    {
     "data": {
      "text/plain": [
       "137.03599679108416"
      ]
     },
     "metadata": {},
     "output_type": "display_data"
    },
    {
     "data": {
      "text/plain": [
       "2.2926116400867613e-06"
      ]
     },
     "metadata": {},
     "output_type": "display_data"
    }
   ],
   "source": [
    "c = physical_constants['speed of light in vacuum'][0]\n",
    "hbar = physical_constants['Planck constant over 2 pi'][0]\n",
    "e = physical_constants['elementary charge'][0]\n",
    "epsilon0 = physical_constants['vacuum electric permittivity'][0]\n",
    "\n",
    "alpha = physical_constants['fine-structure constant'][0]\n",
    "alpha_calc = 1/4/pi/epsilon0*e**2/hbar/c\n",
    "\n",
    "display(1/alpha)\n",
    "display(1/alpha_calc)\n",
    "display(1/alpha - 1/alpha_calc)"
   ]
  },
  {
   "cell_type": "code",
   "execution_count": 3,
   "metadata": {},
   "outputs": [
    {
     "data": {
      "text/plain": [
       "2.8214393721220787"
      ]
     },
     "metadata": {},
     "output_type": "display_data"
    }
   ],
   "source": [
    "x = 3 + lambertw(-3*exp(-3), k=0, tol=1e-16)\n",
    "x = real(x)\n",
    "\n",
    "display(x)"
   ]
  },
  {
   "cell_type": "markdown",
   "metadata": {},
   "source": [
    "$$ \\frac{\\hbar}{x} =  \\frac{1}{4\\pi\\epsilon_0} \\frac{e^2}{c} \\frac{1}{x \\alpha} $$"
   ]
  },
  {
   "cell_type": "markdown",
   "metadata": {},
   "source": [
    "### Perhaps guess these the constants"
   ]
  },
  {
   "cell_type": "code",
   "execution_count": 4,
   "metadata": {},
   "outputs": [],
   "source": [
    "def guess(z, n=8):\n",
    "    for i in range(-n, n+1):\n",
    "        print(Fraction(z*pi**i)\n",
    "            .limit_denominator(max_denominator=10000))"
   ]
  },
  {
   "cell_type": "code",
   "execution_count": 5,
   "metadata": {},
   "outputs": [
    {
     "name": "stdout",
     "output_type": "stream",
     "text": [
      "0\n",
      "0\n",
      "0\n",
      "1/10000\n",
      "1/4731\n",
      "1/1506\n",
      "11/5273\n",
      "41/6256\n",
      "151/7334\n",
      "615/9508\n",
      "748/3681\n",
      "5787/9065\n",
      "19841/9893\n",
      "45497/7221\n",
      "59501/3006\n",
      "9079/146\n",
      "935187/4787\n"
     ]
    }
   ],
   "source": [
    "guess(x*alpha)"
   ]
  },
  {
   "cell_type": "code",
   "execution_count": 6,
   "metadata": {},
   "outputs": [
    {
     "name": "stdout",
     "output_type": "stream",
     "text": [
      "25/4884\n",
      "146/9079\n",
      "505/9996\n",
      "1540/9703\n",
      "1439/2886\n",
      "11623/7420\n",
      "35063/7125\n",
      "39779/2573\n",
      "274855/5659\n",
      "1254407/8221\n",
      "2749621/5736\n",
      "2551097/1694\n",
      "37962461/8024\n",
      "105751909/7115\n",
      "357724468/7661\n",
      "590004227/4022\n",
      "4095605426/8887\n"
     ]
    }
   ],
   "source": [
    "guess(1/x/alpha)"
   ]
  },
  {
   "cell_type": "code",
   "execution_count": 7,
   "metadata": {},
   "outputs": [
    {
     "name": "stdout",
     "output_type": "stream",
     "text": [
      "353/8663\n",
      "600/4687\n",
      "3044/7569\n",
      "2091/1655\n",
      "29924/7539\n",
      "105743/8480\n",
      "284565/7264\n",
      "792823/6442\n",
      "512683/1326\n",
      "5091861/4192\n",
      "10360363/2715\n",
      "72516794/6049\n",
      "67829497/1801\n",
      "174757270/1477\n",
      "3394087012/9131\n",
      "6511443355/5576\n",
      "6680582326/1821\n"
     ]
    }
   ],
   "source": [
    "guess(x/alpha)"
   ]
  },
  {
   "cell_type": "markdown",
   "metadata": {},
   "source": [
    "Looks like nothing interesting here."
   ]
  },
  {
   "cell_type": "code",
   "execution_count": 9,
   "metadata": {},
   "outputs": [
    {
     "data": {
      "text/plain": [
       "48.56953526547956"
      ]
     },
     "execution_count": 9,
     "metadata": {},
     "output_type": "execute_result"
    }
   ],
   "source": [
    "1/x/alpha"
   ]
  },
  {
   "cell_type": "code",
   "execution_count": null,
   "metadata": {},
   "outputs": [],
   "source": []
  }
 ],
 "metadata": {
  "kernelspec": {
   "display_name": "Python 3",
   "language": "python",
   "name": "python3"
  },
  "language_info": {
   "codemirror_mode": {
    "name": "ipython",
    "version": 3
   },
   "file_extension": ".py",
   "mimetype": "text/x-python",
   "name": "python",
   "nbconvert_exporter": "python",
   "pygments_lexer": "ipython3",
   "version": "3.8.5"
  }
 },
 "nbformat": 4,
 "nbformat_minor": 4
}
