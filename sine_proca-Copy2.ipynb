{
 "cells": [
  {
   "cell_type": "markdown",
   "metadata": {},
   "source": [
    "### Klein-Gordon"
   ]
  },
  {
   "cell_type": "markdown",
   "metadata": {},
   "source": [
    "Lagrangian\n",
    "\n",
    "\\begin{equation}\n",
    "\\mathcal{L} = \\frac{1}{2} [(\\partial_t\\phi)^2 - (\\nabla\\phi)^2 - k^2 \\phi^2]\n",
    "\\end{equation}"
   ]
  },
  {
   "cell_type": "markdown",
   "metadata": {},
   "source": [
    "Equation\n",
    "\n",
    "\\begin{equation}\n",
    "\\partial_t^2 \\phi - \\nabla^2\\phi = - k^2 \\phi\n",
    "\\end{equation}"
   ]
  },
  {
   "cell_type": "markdown",
   "metadata": {},
   "source": [
    "### Proca"
   ]
  },
  {
   "cell_type": "markdown",
   "metadata": {},
   "source": [
    "Lagrangian\n",
    "\n",
    "\\begin{equation}\n",
    "\\mathcal{L} = \\frac{1}{2} [B^2 - E^2 - k^2 (\\phi^2 - A^2)]\n",
    "\\end{equation}\n",
    "\n",
    "\\begin{equation}\n",
    "E = -\\nabla \\phi - \\partial_t A\n",
    "\\end{equation}\n",
    "\n",
    "\\begin{equation}\n",
    "B = \\nabla \\times A\n",
    "\\end{equation}"
   ]
  },
  {
   "cell_type": "markdown",
   "metadata": {},
   "source": [
    "Equations\n",
    "\n",
    "\\begin{split}\n",
    "\\nabla \\cdot E = - k^2 \\phi\n",
    "\\end{split}\n",
    "\n",
    "\\begin{split}\n",
    "\\nabla \\times B - \\partial_t E = -k^2 A\n",
    "\\end{split}\n",
    "\n",
    "or\n",
    "\n",
    "\\begin{split}\n",
    "    \\partial_t^2 \\phi -\\nabla^2 \\phi\n",
    "    - \\partial_t (\\partial_ t \\phi + \\nabla \\cdot A)\n",
    "    = - k^2 \\phi\n",
    "\\end{split}\n",
    "\n",
    "\\begin{split}\n",
    "    \\partial_t^2 A - \\nabla^2 A\n",
    "    + \\nabla(\\partial_t \\phi + \\nabla \\cdot A)\n",
    "    = -k^2 A\n",
    "\\end{split}"
   ]
  },
  {
   "cell_type": "markdown",
   "metadata": {},
   "source": [
    "### Sine-Gordon"
   ]
  },
  {
   "cell_type": "markdown",
   "metadata": {},
   "source": [
    "Lagrangian\n",
    "\n",
    "\\begin{equation}\n",
    "\\mathcal{L} = \\frac{1}{2}[(\\partial_t u)^2 - (\\partial_x u)^2] - k^2 (1 -\\cos u)\n",
    "\\end{equation}"
   ]
  },
  {
   "cell_type": "markdown",
   "metadata": {},
   "source": [
    "Equation\n",
    "\n",
    "\\begin{equation}\n",
    "\\partial_t^2 u - \\partial_x^2 u = -k^2 \\sin u\n",
    "\\end{equation}"
   ]
  },
  {
   "cell_type": "markdown",
   "metadata": {},
   "source": [
    "Lagrangian\n",
    "\n",
    "\\begin{equation}\n",
    "u = 4 \\arctan(b\\phi)\n",
    "\\end{equation}\n",
    "\n",
    "\\begin{equation}\n",
    "\\mathcal{L} = \\frac{1}{2} \\frac{(\\partial_t\\phi)^2 - (\\partial_x\\phi)^2 - k^2 \\phi^2}\n",
    "{(1 + b^2\\phi^2)^2}\n",
    "\\end{equation}"
   ]
  },
  {
   "cell_type": "markdown",
   "metadata": {},
   "source": [
    "Equation\n",
    "\n",
    "\\begin{equation}\n",
    "\\partial_t^2 \\phi - \\partial_x^2 \\phi + k^2 \\phi\n",
    "= \\frac{2 b^2 \\phi}{1 + b^2\\phi^2}[(\\partial_t\\phi)^2 - (\\partial_x\\phi)^2 + k^2 \\phi^2]\n",
    "\\end{equation}"
   ]
  },
  {
   "cell_type": "markdown",
   "metadata": {},
   "source": [
    "### Sine-Proca"
   ]
  },
  {
   "cell_type": "markdown",
   "metadata": {},
   "source": [
    "Lagrangian\n",
    "\n",
    "\\begin{equation}\n",
    "\\mathcal{L} = \\frac{1}{2} \\frac{B^2 - E^2 - k^2 (\\phi^2 - A^2)}\n",
    "{[1 + b(\\phi^2 - A^2)]^2}\n",
    "\\end{equation}\n",
    "\n",
    "\\begin{equation}\n",
    "E = -\\nabla \\phi - \\partial_t A\n",
    "\\end{equation}\n",
    "\n",
    "\\begin{equation}\n",
    "B = \\nabla \\times A\n",
    "\\end{equation}"
   ]
  },
  {
   "cell_type": "markdown",
   "metadata": {},
   "source": [
    "Units\n",
    "\n",
    "$\\phi$:  [J/C]\n",
    "\n",
    "$A$:  [Js/C/m]\n",
    "\n",
    "$E$:  [J/C/m]\n",
    "\n",
    "$B$:  [Js/C/m²]\n",
    "\n",
    "$\\epsilon_0$:  [C²/m/J]"
   ]
  },
  {
   "cell_type": "markdown",
   "metadata": {},
   "source": [
    "\\begin{equation}\n",
    "\\mathcal{L} = \\frac{\\epsilon_0}{2} \n",
    "\\frac{\\Big[ c^2 B^2 - E^2 - \\frac{m^2 c^2}{\\hbar^2} (\\phi^2 - c^2 A^2) \\Big]}\n",
    "{\\Big[1 + \\frac{e^2}{m^2 c^4}(\\phi^2 - c^2 A^2) \\Big]^2}\n",
    "\\end{equation}\n",
    "\n",
    "\\begin{equation}\n",
    "E = -\\nabla \\phi - \\partial_t A\n",
    "\\end{equation}\n",
    "\n",
    "\\begin{equation}\n",
    "B = \\nabla \\times A\n",
    "\\end{equation}"
   ]
  },
  {
   "cell_type": "code",
   "execution_count": 1,
   "metadata": {},
   "outputs": [],
   "source": [
    "from scipy.constants import pi, epsilon_0, mu_0, c, e, hbar, m_e"
   ]
  },
  {
   "cell_type": "code",
   "execution_count": 2,
   "metadata": {},
   "outputs": [
    {
     "data": {
      "text/plain": [
       "'k = 2.590e+12'"
      ]
     },
     "metadata": {},
     "output_type": "display_data"
    },
    {
     "data": {
      "text/plain": [
       "'b = 1.957e-06'"
      ]
     },
     "metadata": {},
     "output_type": "display_data"
    }
   ],
   "source": [
    "k = m_e*c/hbar\n",
    "b = e/m_e/c**2\n",
    "\n",
    "display(f'k = {k:.3e}')\n",
    "display(f'b = {b:.3e}')"
   ]
  },
  {
   "cell_type": "markdown",
   "metadata": {},
   "source": [
    "Not sure this seems especially promising."
   ]
  },
  {
   "cell_type": "markdown",
   "metadata": {},
   "source": []
  },
  {
   "cell_type": "markdown",
   "metadata": {},
   "source": []
  },
  {
   "cell_type": "markdown",
   "metadata": {},
   "source": []
  }
 ],
 "metadata": {
  "kernelspec": {
   "display_name": "Python 3",
   "language": "python",
   "name": "python3"
  },
  "language_info": {
   "codemirror_mode": {
    "name": "ipython",
    "version": 3
   },
   "file_extension": ".py",
   "mimetype": "text/x-python",
   "name": "python",
   "nbconvert_exporter": "python",
   "pygments_lexer": "ipython3",
   "version": "3.8.5"
  }
 },
 "nbformat": 4,
 "nbformat_minor": 4
}
