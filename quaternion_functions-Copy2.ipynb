{
 "cells": [
  {
   "cell_type": "markdown",
   "metadata": {},
   "source": [
    "## Quaternions\n",
    "\n",
    "Classic notation is $i, j, k$.  We use $i_1, i_2, i_3$.\n",
    "\n",
    "\\begin{equation*}\n",
    "    i_1^2 = i_2^2 = i_3^2 = -1 \\qquad\n",
    "    i_1 i_2 i_3 = -1\n",
    "\\end{equation*}\n",
    "\n",
    "\\begin{equation*}\n",
    "    i_1 i_2 = i_3 \\qquad\n",
    "    i_2 i_3 = i_1 \\qquad\n",
    "    i_3 i_1 = i_2\n",
    "\\end{equation*}\n",
    "\n",
    "\\begin{equation*}\n",
    "    i_1 i_2 = -i_2 i_1 \\qquad\n",
    "    i_2 i_3 = -i_3 i_2 \\qquad\n",
    "    i_3 i_1 = -i_1 i_3\n",
    "\\end{equation*}"
   ]
  },
  {
   "cell_type": "markdown",
   "metadata": {},
   "source": [
    "## Variables\n",
    "\n",
    "\\begin{equation*}\n",
    "    z = x + i_1 y_1 + i_2 y_2 + i_3 y_3\n",
    "\\end{equation*}\n",
    "\n",
    "\\begin{equation*}\n",
    "    w = u + i_1 v_1 + i_2 v_2 + i_3 v_3\n",
    "\\end{equation*}"
   ]
  },
  {
   "cell_type": "markdown",
   "metadata": {},
   "source": [
    "## Functions\n",
    "\n",
    "The idea is to generalize analytic functions to quaternions.\n",
    "\n",
    "\\begin{equation*}\n",
    "    \\frac{\\partial w}{\\partial x} = \\frac{d w}{d z} \\qquad\n",
    "    \\frac{\\partial w}{\\partial y_1} = \\frac{d w}{d z} i_1 \\qquad\n",
    "    \\frac{\\partial w}{\\partial y_2} = \\frac{d w}{d z} i_2 \\qquad\n",
    "    \\frac{\\partial w}{\\partial y_3} = \\frac{d w}{d z} i_3\n",
    "\\end{equation*}\n",
    "\n",
    "\\begin{equation*}\n",
    "    \\frac{d w}{d z}\n",
    "    = \\frac{\\partial w}{\\partial x}\n",
    "    = -i_1 \\frac{\\partial w}{\\partial y_1}\n",
    "    = -i_2 \\frac{\\partial w}{\\partial y_2}\n",
    "    = -i_3 \\frac{\\partial w}{\\partial y_3}\n",
    "\\end{equation*}\n",
    "\n",
    "This says that the derivative is the same in the all directions."
   ]
  },
  {
   "cell_type": "markdown",
   "metadata": {},
   "source": [
    "\\begin{equation*}\n",
    "\\begin{split}\n",
    "    \\frac{\\partial u}{\\partial x}\n",
    "    + i_1 \\frac{\\partial v_1}{\\partial x}\n",
    "    + i_2 \\frac{\\partial v_2}{\\partial x}\n",
    "    + i_3 \\frac{\\partial v_3}{\\partial x}\n",
    "    &= -i_1 \\Big(\\frac{\\partial u}{\\partial y_1}\n",
    "    + i_1 \\frac{\\partial v_1}{\\partial y_1}\n",
    "    + i_2 \\frac{\\partial v_2}{\\partial y_1}\n",
    "    + i_3 \\frac{\\partial v_3}{\\partial y_1}\\Big)\\\\\n",
    "    &= -i_2 \\Big(\\frac{\\partial u}{\\partial y_2}\n",
    "    + i_1 \\frac{\\partial v_1}{\\partial y_2}\n",
    "    + i_2 \\frac{\\partial v_2}{\\partial y_2}\n",
    "    + i_3 \\frac{\\partial v_3}{\\partial y_2}\\Big)\\\\\n",
    "    &= -i_3 \\Big(\\frac{\\partial u}{\\partial y_3}\n",
    "    + i_1 \\frac{\\partial v_1}{\\partial y_3}\n",
    "    + i_2 \\frac{\\partial v_2}{\\partial y_3}\n",
    "    + i_3 \\frac{\\partial v_3}{\\partial y_3}\\Big)\\\\\n",
    "\\end{split}\n",
    "\\end{equation*}"
   ]
  },
  {
   "cell_type": "markdown",
   "metadata": {},
   "source": [
    "\\begin{equation*}\n",
    "\\begin{split}\n",
    "    \\frac{\\partial u}{\\partial x}\n",
    "    + i_1 \\frac{\\partial v_1}{\\partial x}\n",
    "    + i_2 \\frac{\\partial v_2}{\\partial x}\n",
    "    + i_3 \\frac{\\partial v_3}{\\partial x}\n",
    "    &= \\frac{\\partial v_1}{\\partial y_1}\n",
    "    - i_1 \\frac{\\partial u}{\\partial y_1}\n",
    "    + i_2 \\frac{\\partial v_3}{\\partial y_1}\n",
    "    - i_3 \\frac{\\partial v_2}{\\partial y_1} \\\\\n",
    "    &= \\frac{\\partial v_2}{\\partial y_2} \n",
    "    - i_1 \\frac{\\partial v_3}{\\partial y_2} \n",
    "    - i_2 \\frac{\\partial u}{\\partial y_2}\n",
    "    + i_3 \\frac{\\partial v_1}{\\partial y_2} \\\\\n",
    "    &= \\frac{\\partial v_3}{\\partial y_3} \n",
    "    + i_1 \\frac{\\partial v_2}{\\partial y_3}\n",
    "    - i_2 \\frac{\\partial v_1}{\\partial y_3}\n",
    "    - i_3 \\frac{\\partial u}{\\partial y_3} \\\\\n",
    "\\end{split}\n",
    "\\end{equation*}"
   ]
  },
  {
   "cell_type": "markdown",
   "metadata": {},
   "source": [
    "\\begin{gather*}\n",
    "    \\frac{\\partial u}{\\partial x}\n",
    "    = +\\frac{\\partial v_1}{\\partial y_1}\n",
    "    = +\\frac{\\partial v_2}{\\partial y_2}\n",
    "    = +\\frac{\\partial v_3}{\\partial y_3}\n",
    "    \\\\\n",
    "    \\frac{\\partial v_1}{\\partial x}\n",
    "    = -\\frac{\\partial u}{\\partial y_1}\n",
    "    = -\\frac{\\partial v_3}{\\partial y_2}\n",
    "    = +\\frac{\\partial v_2}{\\partial y_3}\n",
    "    \\\\\n",
    "    \\frac{\\partial v_2}{\\partial x}\n",
    "    = +\\frac{\\partial v_3}{\\partial y_1}\n",
    "    = -\\frac{\\partial u}{\\partial y_2}\n",
    "    = - \\frac{\\partial v_1}{\\partial y_3}\n",
    "    \\\\\n",
    "    \\frac{\\partial v_3}{\\partial x}\n",
    "    = -\\frac{\\partial v_2}{\\partial y_1}\n",
    "    = +\\frac{\\partial v_1}{\\partial y_2}\n",
    "    = -\\frac{\\partial u}{\\partial y_3}\n",
    "\\end{gather*}"
   ]
  },
  {
   "cell_type": "markdown",
   "metadata": {},
   "source": [
    "So this gives 48 equations. Or, there are 24 pairs of Cauchy-Riemann equations."
   ]
  },
  {
   "cell_type": "markdown",
   "metadata": {},
   "source": [
    "\\begin{equation*}\n",
    "    \\frac{\\partial u}{\\partial x} = \\frac{\\partial v_1}{\\partial y_1} \\qquad\n",
    "    \\frac{\\partial u}{\\partial y_1} = -\\frac{\\partial v_1}{\\partial x} \\qquad\n",
    "    \\frac{\\partial v_2}{\\partial x} = \\frac{\\partial v_3}{\\partial y_1} \\qquad\n",
    "    \\frac{\\partial v_2}{\\partial y_1} = -\\frac{\\partial v_3}{\\partial x}\n",
    "\\end{equation*}\n",
    "\n",
    "\\begin{equation*}\n",
    "    \\frac{\\partial u}{\\partial x} = \\frac{\\partial v_2}{\\partial y_2} \\qquad\n",
    "    \\frac{\\partial u}{\\partial y_2} = -\\frac{\\partial v_2}{\\partial x} \\qquad\n",
    "    \\frac{\\partial v_3}{\\partial x} = \\frac{\\partial v_1}{\\partial y_2} \\qquad\n",
    "    \\frac{\\partial v_3}{\\partial y_2} = -\\frac{\\partial v_1}{\\partial x}\n",
    "\\end{equation*}\n",
    "\n",
    "\\begin{equation*}\n",
    "    \\frac{\\partial u}{\\partial x} = \\frac{\\partial v_3}{\\partial y_3} \\qquad\n",
    "    \\frac{\\partial u}{\\partial y_2} = -\\frac{\\partial v_3}{\\partial x} \\qquad\n",
    "    \\frac{\\partial v_1}{\\partial x} = \\frac{\\partial v_2}{\\partial y_3} \\qquad\n",
    "    \\frac{\\partial v_1}{\\partial y_3} = -\\frac{\\partial v_2}{\\partial x}\n",
    "\\end{equation*}\n",
    "\n",
    "\\begin{equation*}\n",
    "    \\frac{\\partial u}{\\partial y_2} = \\frac{\\partial v_1}{\\partial y_3} \\qquad\n",
    "    \\frac{\\partial u}{\\partial y_3} = -\\frac{\\partial v_1}{\\partial y_2} \\qquad\n",
    "    \\frac{\\partial v_2}{\\partial y_2} = \\frac{\\partial v_3}{\\partial y_3} \\qquad\n",
    "    \\frac{\\partial v_2}{\\partial y_3} = -\\frac{\\partial v_3}{\\partial y_2}\n",
    "\\end{equation*}\n",
    "\n",
    "\\begin{equation*}\n",
    "    \\frac{\\partial u}{\\partial y_3} = \\frac{\\partial v_2}{\\partial y_1} \\qquad\n",
    "    \\frac{\\partial u}{\\partial y_1} = -\\frac{\\partial v_2}{\\partial y_3} \\qquad\n",
    "    \\frac{\\partial v_3}{\\partial y_3} = \\frac{\\partial v_1}{\\partial y_1} \\qquad\n",
    "    \\frac{\\partial v_3}{\\partial y_1} = -\\frac{\\partial v_1}{\\partial y_3}\n",
    "\\end{equation*}\n",
    "\n",
    "\\begin{equation*}\n",
    "    \\frac{\\partial u}{\\partial y_1} = \\frac{\\partial v_3}{\\partial y_2} \\qquad\n",
    "    \\frac{\\partial u}{\\partial y_2} = -\\frac{\\partial v_3}{\\partial y_1} \\qquad\n",
    "    \\frac{\\partial v_1}{\\partial y_1} = \\frac{\\partial v_2}{\\partial y_2} \\qquad\n",
    "    \\frac{\\partial v_1}{\\partial y_2} = -\\frac{\\partial v_2}{\\partial y_1}\n",
    "\\end{equation*}"
   ]
  },
  {
   "cell_type": "markdown",
   "metadata": {},
   "source": [
    "Lots of constraints. Still, you could imagine 144 relationships.  So, we're not getting all possibilities. Even though quaternions have meaning in three dimensions, it does not seem to carry over here.  This does not seem to represent anything physical.  It's like multiple two dimensions.  "
   ]
  },
  {
   "cell_type": "markdown",
   "metadata": {},
   "source": [
    "\\begin{equation*}\n",
    "    \\frac{\\partial^2 u}{\\partial x^2} = -\\frac{\\partial^2 u}{\\partial y_1^2} \\qquad\n",
    "    \\frac{\\partial^2 v_1}{\\partial x^2} = -\\frac{\\partial^2 v_1}{\\partial y_1^2} \\qquad\n",
    "    \\frac{\\partial^2 v_2}{\\partial x^2} = -\\frac{\\partial^2 v_2}{\\partial y_1^2} \\qquad\n",
    "    \\frac{\\partial^2 v_3}{\\partial x^2} = -\\frac{\\partial^2 v_3}{\\partial y_1^2}\n",
    "\\end{equation*}\n",
    "\n",
    "\\begin{equation*}\n",
    "    \\frac{\\partial^2 u}{\\partial x^2} = -\\frac{\\partial^2 u}{\\partial y_2^2} \\qquad\n",
    "    \\frac{\\partial^2 v_1}{\\partial x^2} = -\\frac{\\partial^2 v_1}{\\partial y_2^2} \\qquad\n",
    "    \\frac{\\partial^2 v_2}{\\partial x^2} = -\\frac{\\partial^2 v_2}{\\partial y_2^2} \\qquad\n",
    "    \\frac{\\partial^2 v_3}{\\partial x^2} = -\\frac{\\partial^2 v_3}{\\partial y_2^2}\n",
    "\\end{equation*}\n",
    "\n",
    "\\begin{equation*}\n",
    "    \\frac{\\partial^2 u}{\\partial x^2} = -\\frac{\\partial^2 u}{\\partial y_3^2} \\qquad\n",
    "    \\frac{\\partial^2 v_1}{\\partial x^2} = -\\frac{\\partial^2 v_1}{\\partial y_3^2} \\qquad\n",
    "    \\frac{\\partial^2 v_2}{\\partial x^2} = -\\frac{\\partial^2 v_2}{\\partial y_3^2} \\qquad\n",
    "    \\frac{\\partial^2 v_3}{\\partial x^2} = -\\frac{\\partial^2 v_3}{\\partial y_3^2}\n",
    "\\end{equation*}\n",
    "\n",
    "\\begin{equation*}\n",
    "    \\frac{\\partial^2 u}{\\partial y_2^2} = -\\frac{\\partial^2 u}{\\partial y_3^2} \\qquad\n",
    "    \\frac{\\partial^2 v_1}{\\partial y_2^2} = -\\frac{\\partial^2 v_1}{\\partial y_3^2} \\qquad\n",
    "    \\frac{\\partial^2 v_2}{\\partial y_2^2} = -\\frac{\\partial^2 v_2}{\\partial y_3^2} \\qquad\n",
    "    \\frac{\\partial^2 v_3}{\\partial y_2^2} = -\\frac{\\partial^2 v_3}{\\partial y_3^2}\n",
    "\\end{equation*}\n",
    "\n",
    "\\begin{equation*}\n",
    "    \\frac{\\partial^2 u}{\\partial y_3^2} = -\\frac{\\partial^2 u}{\\partial y_1^2} \\qquad\n",
    "    \\frac{\\partial^2 v_1}{\\partial y_3^2} = -\\frac{\\partial^2 v_1}{\\partial y_1^2} \\qquad\n",
    "    \\frac{\\partial^2 v_2}{\\partial y_3^2} = -\\frac{\\partial^2 v_2}{\\partial y_1^2} \\qquad\n",
    "    \\frac{\\partial^2 v_3}{\\partial y_3^2} = -\\frac{\\partial^2 v_3}{\\partial y_1^2}\n",
    "\\end{equation*}\n",
    "\n",
    "\\begin{equation*}\n",
    "    \\frac{\\partial^2 u}{\\partial y_1^2} = -\\frac{\\partial^2 u}{\\partial y_2^2} \\qquad\n",
    "    \\frac{\\partial^2 v_1}{\\partial y_1^2} = -\\frac{\\partial^2 v_1}{\\partial y_2^2} \\qquad\n",
    "    \\frac{\\partial^2 v_2}{\\partial y_1^2} = -\\frac{\\partial^2 v_2}{\\partial y_2^2} \\qquad\n",
    "    \\frac{\\partial^2 v_3}{\\partial y_1^2} = -\\frac{\\partial^2 v_3}{\\partial y_2^2}\n",
    "\\end{equation*}"
   ]
  },
  {
   "cell_type": "markdown",
   "metadata": {},
   "source": [
    "\\begin{equation*}\n",
    "    \\frac{\\partial^2 u}{\\partial x^2}\n",
    "    = \\frac{\\partial^2 u}{\\partial y_1^2}\n",
    "    = \\frac{\\partial^2 u}{\\partial y_2^2}\n",
    "    = \\frac{\\partial^2 u}{\\partial y_3^2} = 0\n",
    "\\end{equation*}\n",
    "\n",
    "\\begin{equation*}\n",
    "    \\frac{\\partial^2 v_1}{\\partial x^2}\n",
    "    = \\frac{\\partial^2 v_1}{\\partial y_1^2}\n",
    "    = \\frac{\\partial^2 v_1}{\\partial y_2^2}\n",
    "    = \\frac{\\partial^2 v_1}{\\partial y_3^2} = 0\n",
    "\\end{equation*}\n",
    "\n",
    "\\begin{equation*}\n",
    "    \\frac{\\partial^2 v_2}{\\partial x^2}\n",
    "    = \\frac{\\partial^2 v_2}{\\partial y_1^2}\n",
    "    = \\frac{\\partial^2 v_2}{\\partial y_2^2}\n",
    "    = \\frac{\\partial^2 v_2}{\\partial y_3^2} = 0\n",
    "\\end{equation*}\n",
    "\n",
    "\\begin{equation*}\n",
    "    \\frac{\\partial^2 v_3}{\\partial x^2}\n",
    "    = \\frac{\\partial^2 v_3}{\\partial y_1^2}\n",
    "    = \\frac{\\partial^2 v_3}{\\partial y_2^2}\n",
    "    = \\frac{\\partial^2 v_3}{\\partial y_3^2} = 0\n",
    "\\end{equation*}"
   ]
  },
  {
   "cell_type": "markdown",
   "metadata": {},
   "source": [
    "There must be an error somewhere.  The examply below contradics the constraints.  Reading, this is already noted on Wikipedia."
   ]
  },
  {
   "cell_type": "code",
   "execution_count": 1,
   "metadata": {},
   "outputs": [],
   "source": [
    "import sympy as sp\n",
    "from sympy.algebras.quaternion import Quaternion"
   ]
  },
  {
   "cell_type": "code",
   "execution_count": 3,
   "metadata": {},
   "outputs": [
    {
     "data": {
      "text/latex": [
       "$\\displaystyle x + y_{1} i + y_{2} j + y_{3} k$"
      ],
      "text/plain": [
       "x + y_1*i + y_2*j + y_3*k"
      ]
     },
     "metadata": {},
     "output_type": "display_data"
    },
    {
     "data": {
      "text/latex": [
       "$\\displaystyle \\left(x^{2} - y_{1}^{2} - y_{2}^{2} - y_{3}^{2}\\right) + 2 x y_{1} i + 2 x y_{2} j + 2 x y_{3} k$"
      ],
      "text/plain": [
       "(x**2 - y_1**2 - y_2**2 - y_3**2) + 2*x*y_1*i + 2*x*y_2*j + 2*x*y_3*k"
      ]
     },
     "metadata": {},
     "output_type": "display_data"
    }
   ],
   "source": [
    "x, y1, y2, y3 = sp.symbols('x y_1 y_2 y_3')\n",
    "z = Quaternion(x, y1, y2, y3)\n",
    "w = z**2\n",
    "\n",
    "display(z)\n",
    "display(w)"
   ]
  },
  {
   "cell_type": "code",
   "execution_count": 4,
   "metadata": {},
   "outputs": [
    {
     "data": {
      "text/latex": [
       "$\\displaystyle 2 x + 2 y_{1} i + 2 y_{2} j + 2 y_{3} k$"
      ],
      "text/plain": [
       "2*x + 2*y_1*i + 2*y_2*j + 2*y_3*k"
      ]
     },
     "metadata": {},
     "output_type": "display_data"
    },
    {
     "data": {
      "text/latex": [
       "$\\displaystyle 2 x + 2 y_{1} i + 0 j + 0 k$"
      ],
      "text/plain": [
       "2*x + 2*y_1*i + 0*j + 0*k"
      ]
     },
     "metadata": {},
     "output_type": "display_data"
    },
    {
     "data": {
      "text/latex": [
       "$\\displaystyle 2 x + 0 i + 2 y_{2} j + 0 k$"
      ],
      "text/plain": [
       "2*x + 0*i + 2*y_2*j + 0*k"
      ]
     },
     "metadata": {},
     "output_type": "display_data"
    },
    {
     "data": {
      "text/latex": [
       "$\\displaystyle 2 x + 0 i + 0 j + 2 y_{3} k$"
      ],
      "text/plain": [
       "2*x + 0*i + 0*j + 2*y_3*k"
      ]
     },
     "metadata": {},
     "output_type": "display_data"
    }
   ],
   "source": [
    "display(w.diff(x))\n",
    "display(w.diff(y1)*(-Quaternion(0, 1, 0, 0)))\n",
    "display(w.diff(y2)*(-Quaternion(0, 0, 1, 0)))\n",
    "display(w.diff(y3)*(-Quaternion(0, 0, 0, 1)))"
   ]
  },
  {
   "cell_type": "markdown",
   "metadata": {},
   "source": [
    "## Second idea\n",
    "\n",
    "\\begin{equation}\n",
    "    z_1 = x + i_1 y_1 \\qquad\n",
    "    z_2 = x + i_2 y_2 \\qquad\n",
    "    z_3 = x + i_3 y_3\n",
    "\\end{equation}\n",
    "\n",
    "\\begin{equation}\n",
    "    w(z_1, z_2, z_3)\n",
    "\\end{equation}\n",
    "\n",
    "It seems that by a sort of transitive property, this will force $w(z)$."
   ]
  },
  {
   "cell_type": "markdown",
   "metadata": {},
   "source": [
    "\\begin{equation}\n",
    "    \\frac{\\partial w}{\\partial x}\n",
    "    = \\frac{d w}{d z_1} + \\frac{d w}{d z_2} + \\frac{d w}{d z_3}  \n",
    "\\end{equation}\n",
    "\n",
    "\\begin{equation}\n",
    "    \\frac{\\partial w}{\\partial y_1} = \\frac{d w}{d z_1} i_1 \\qquad\n",
    "    \\frac{\\partial w}{\\partial y_2} = \\frac{d w}{d z_2} i_2 \\qquad\n",
    "    \\frac{\\partial w}{\\partial y_3} = \\frac{d w}{d z_3} i_3\n",
    "\\end{equation}\n",
    "\n",
    "\\begin{equation}\n",
    "    \\frac{\\partial w}{\\partial x}\n",
    "    + i_1 \\frac{\\partial w}{\\partial y_1}\n",
    "    + i_2 \\frac{\\partial w}{\\partial y_2}\n",
    "    + i_3 \\frac{\\partial w}{\\partial y_3} = 0\n",
    "\\end{equation}"
   ]
  },
  {
   "cell_type": "markdown",
   "metadata": {},
   "source": [
    "\\begin{gather*}\n",
    "    \\frac{\\partial u}{\\partial x}\n",
    "    - \\frac{\\partial v_1}{\\partial y_1}\n",
    "    - \\frac{\\partial v_2}{\\partial y_2}\n",
    "    - \\frac{\\partial v_3}{\\partial y_3} = 0\n",
    "    \\\\\n",
    "    \\frac{\\partial v_1}{\\partial x}\n",
    "    + \\frac{\\partial u}{\\partial y_1}\n",
    "    + \\frac{\\partial v_3}{\\partial y_2}\n",
    "    - \\frac{\\partial v_2}{\\partial y_3} = 0\n",
    "    \\\\\n",
    "    \\frac{\\partial v_2}{\\partial x}\n",
    "    - \\frac{\\partial v_3}{\\partial y_1}\n",
    "    + \\frac{\\partial u}{\\partial y_2}\n",
    "    + \\frac{\\partial v_1}{\\partial y_3} = 0\n",
    "    \\\\\n",
    "    \\frac{\\partial v_3}{\\partial x}\n",
    "    + \\frac{\\partial v_2}{\\partial y_1}\n",
    "    - \\frac{\\partial v_1}{\\partial y_2}\n",
    "    + \\frac{\\partial u}{\\partial y_3} = 0\n",
    "\\end{gather*}"
   ]
  },
  {
   "cell_type": "markdown",
   "metadata": {},
   "source": [
    "\\begin{equation}\n",
    "    v = (v_1, v_2, v_3) \\qquad\n",
    "    \\nabla = \\Big(\n",
    "    \\frac{\\partial}{\\partial y_1},\n",
    "    \\frac{\\partial}{\\partial y_2},\n",
    "    \\frac{\\partial}{\\partial y_3}\\Big)\n",
    "\\end{equation}\n",
    "\n",
    "\\begin{gather*}\n",
    "    \\frac{\\partial u}{\\partial x} = \\nabla \\cdot v\n",
    "    \\qquad\n",
    "    \\nabla u  = -\\frac{\\partial v}{\\partial x} - \\nabla \\times v\n",
    "\\end{gather*}\n",
    "\n",
    "This look like it could be a physics something.  But I can't think of anything."
   ]
  },
  {
   "cell_type": "code",
   "execution_count": 7,
   "metadata": {},
   "outputs": [
    {
     "data": {
      "text/latex": [
       "$\\displaystyle 2 x + 2 y_{1} i + 2 y_{2} j + 2 y_{3} k$"
      ],
      "text/plain": [
       "2*x + 2*y_1*i + 2*y_2*j + 2*y_3*k"
      ]
     },
     "metadata": {},
     "output_type": "display_data"
    },
    {
     "data": {
      "text/latex": [
       "$\\displaystyle 6 x + 2 y_{1} i + 2 y_{2} j + 2 y_{3} k$"
      ],
      "text/plain": [
       "6*x + 2*y_1*i + 2*y_2*j + 2*y_3*k"
      ]
     },
     "metadata": {},
     "output_type": "display_data"
    }
   ],
   "source": [
    "w = z**2\n",
    "\n",
    "display(w.diff(x))\n",
    "display(w.diff(y1)*(-Quaternion(0, 1, 0, 0))\n",
    "      + w.diff(y2)*(-Quaternion(0, 0, 1, 0))\n",
    "      + w.diff(y3)*(-Quaternion(0, 0, 0, 1)))"
   ]
  },
  {
   "cell_type": "markdown",
   "metadata": {},
   "source": [
    "Darn.  Not going to work."
   ]
  },
  {
   "cell_type": "code",
   "execution_count": null,
   "metadata": {},
   "outputs": [],
   "source": []
  },
  {
   "cell_type": "code",
   "execution_count": null,
   "metadata": {},
   "outputs": [],
   "source": []
  },
  {
   "cell_type": "code",
   "execution_count": null,
   "metadata": {},
   "outputs": [],
   "source": []
  }
 ],
 "metadata": {
  "kernelspec": {
   "display_name": "Python 3",
   "language": "python",
   "name": "python3"
  },
  "language_info": {
   "codemirror_mode": {
    "name": "ipython",
    "version": 3
   },
   "file_extension": ".py",
   "mimetype": "text/x-python",
   "name": "python",
   "nbconvert_exporter": "python",
   "pygments_lexer": "ipython3",
   "version": "3.8.5"
  }
 },
 "nbformat": 4,
 "nbformat_minor": 4
}
